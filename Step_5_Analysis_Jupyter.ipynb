{
 "cells": [
  {
   "cell_type": "markdown",
   "source": [
    "## Code Description:\n",
    "\n",
    "1. **Configuration Import (`config`)**: This line imports a `config` module, likely containing custom settings or credentials used later in the project (e.g., database connection strings).\n",
    "\n",
    "2. **Pandas Library (`pd`)**: The `pandas` library is imported for data manipulation. Pandas is a powerful tool for working with tabular data, essential for filtering, cleaning, and processing the BDOT10k data.\n",
    "\n",
    "3. **Matplotlib (`plt`)**: The `matplotlib.pyplot` library is imported for data visualization. This will be useful for generating plots and graphs, such as visualizing the solar irradiance and slope parameters used in the analysis.\n",
    "\n",
    "4. **FixedLocator**: This specific import from `matplotlib.pyplot` is used to fix the location of ticks in plots, which is likely to come in handy when visualizing geographically linked data.\n",
    "\n",
    "5. **SQLAlchemy (`create_engine`)**: The `create_engine` function from SQLAlchemy is imported, hinting that a database connection (likely PostGIS or other spatial databases) will be established. This allows seamless integration between the database and Python for querying and managing geospatial data.\n",
    "\n",
    "6. **Precision Setting**: The pandas display precision is set to 2 decimal places, ensuring that all floating-point data (e.g., slope angles or solar irradiance) are consistently displayed with two digits of precision in any DataFrame outputs.\n",
    "\n",
    "---\n",
    "\n",
    "This is an introductory setup cell that establishes the necessary libraries and configurations for data manipulation, visualization, and database integration in the subsequent analysis. Let me know if you need any further adjustments!\n"
   ],
   "metadata": {
    "collapsed": false
   },
   "id": "1536bd5dbdce8f3c"
  },
  {
   "cell_type": "code",
   "execution_count": 14,
   "id": "initial_id",
   "metadata": {
    "collapsed": true,
    "ExecuteTime": {
     "end_time": "2024-09-28T08:53:06.054742200Z",
     "start_time": "2024-09-28T08:53:05.316153600Z"
    }
   },
   "outputs": [],
   "source": [
    "# Import necessary libraries and modules\n",
    "import config\n",
    "import pandas as pd\n",
    "import matplotlib.pyplot as plt\n",
    "from matplotlib.pyplot import FixedLocator\n",
    "from sqlalchemy import create_engine\n",
    "\n",
    "# Set display option for pandas DataFrames to limit float precision to 2 decimal places\n",
    "pd.set_option(\"display.precision\", 2)"
   ]
  },
  {
   "cell_type": "markdown",
   "source": [],
   "metadata": {
    "collapsed": false
   },
   "id": "8dd8dc80c21f0246"
  },
  {
   "cell_type": "markdown",
   "source": [
    "# Database Connection Setup\n",
    "\n",
    "1. **Configuration Data:**\n",
    "   - The **`mysql`** dictionary is imported from the **`config`** module, which stores database credentials such as the username, password, host, port, and database name.\n",
    "\n",
    "2. **Connection String:**\n",
    "   - A PostgreSQL connection string is constructed using the credentials from the **`mysql`** dictionary.\n",
    "   - The connection string follows the format: \n",
    "     ```\n",
    "     postgresql://<user>:<password>@<host>:<port>/<dbname>\n",
    "     ```\n",
    "\n",
    "3. **Database Engine:**\n",
    "   - The **`create_engine()`** function from SQLAlchemy is used to create a connection engine, which allows communication with the PostgreSQL database. This will enable efficient querying and manipulation of data stored in the database.\n",
    "\n",
    "4. **Connection:**\n",
    "   - The **`conn`** object is created by calling **`engine.connect()`**, which establishes an active connection to the database. This connection can now be used to perform SQL queries and retrieve the required data for analysis.\n",
    "\n",
    "This step is critical as it sets up the database connection, allowing access to the data needed for analyzing potential wind and solar farm locations.\n"
   ],
   "metadata": {
    "collapsed": false
   },
   "id": "64262a0e17633581"
  },
  {
   "cell_type": "code",
   "outputs": [],
   "source": [
    "# Import database configuration\n",
    "mysql = config.mysql\n",
    "\n",
    "# Construct PostgreSQL connection string\n",
    "connection_string = (\n",
    "    f\"postgresql://{mysql['user']}:{mysql['password']}@\"\n",
    "    f\"{mysql['host']}:{mysql['port']}/{mysql['dbname']}\"\n",
    ")\n",
    "\n",
    "# Create database engine\n",
    "engine = create_engine(connection_string)"
   ],
   "metadata": {
    "collapsed": false,
    "ExecuteTime": {
     "end_time": "2024-09-28T08:53:06.248687900Z",
     "start_time": "2024-09-28T08:53:06.062558800Z"
    }
   },
   "id": "dc496d0a22448180",
   "execution_count": 15
  },
  {
   "cell_type": "markdown",
   "source": [
    "## Defining Polish Provinces\n",
    "\n",
    "This section defines a list of Polish provinces that will be used for data filtering or selection purposes during the analysis. Each province represents a geographical region in Poland, where the potential locations for wind and solar farms will be evaluated.\n",
    "\n",
    "The list includes the names of all 16 provinces (województwa) in Poland:\n",
    "\n",
    "- Dolnośląskie\n",
    "- Kujawsko-pomorskie\n",
    "- Lubelskie\n",
    "- Lubuskie\n",
    "- Łódzkie\n",
    "- Małopolskie\n",
    "- Mazowieckie\n",
    "- Opolskie\n",
    "- Podkarpackie\n",
    "- Podlaskie\n",
    "- Pomorskie\n",
    "- Śląskie\n",
    "- Świętokrzyskie\n",
    "- Warmińsko-mazurskie\n",
    "- Wielkopolskie\n",
    "- Zachodniopomorskie\n",
    "\n",
    "This list will likely be used later in the analysis to subset data or run analyses for specific regions.\n"
   ],
   "metadata": {
    "collapsed": false
   },
   "id": "8516e2986339f611"
  },
  {
   "cell_type": "code",
   "outputs": [],
   "source": [
    "# Define a list of Polish provinces (województwa)\n",
    "provinces = [\n",
    "    \"dolnoslaskie\",\n",
    "    \"kujawsko_pomorskie\",\n",
    "    \"lubelskie\",\n",
    "    \"lubuskie\",\n",
    "    \"lodzkie\",\n",
    "    \"malopolskie\",\n",
    "    \"mazowieckie\",\n",
    "    \"opolskie\",\n",
    "    \"podkarpackie\",\n",
    "    \"podlaskie\",\n",
    "    \"pomorskie\",\n",
    "    \"slaskie\",\n",
    "    \"swietokrzyskie\",\n",
    "    \"warminsko_mazurskie\",\n",
    "    \"wielkopolskie\",\n",
    "    \"zachodniopomorskie\"\n",
    "]\n"
   ],
   "metadata": {
    "collapsed": false,
    "ExecuteTime": {
     "end_time": "2024-09-28T08:53:06.378700400Z",
     "start_time": "2024-09-28T08:53:06.217175Z"
    }
   },
   "id": "e2889452fbf7e5ca",
   "execution_count": 16
  },
  {
   "cell_type": "markdown",
   "source": [
    "## Renewable Energy Potential by Province\n",
    "\n",
    "This section calculates the total potential area available for solar and wind energy production across Polish provinces. It retrieves data from two types of tables:\n",
    "\n",
    "- **Solar photovoltaic potential area**: Calculated from `solar_radiation_photovoltaic_area_{province}` tables.\n",
    "- **Wind energy potential area**: Calculated from `wind_speed_area_{province}` tables.\n",
    "\n",
    "The data for each province is fetched from a PostgreSQL database, and the total area for both solar and wind potential is computed. The result is presented in square kilometers (km²) for easier interpretation.\n",
    "\n",
    "### Steps:\n",
    "\n",
    "1. **Data Initialization**:\n",
    "    - Two dictionaries, `solar_area_append_total` and `wind_area_append_total`, are created to store the results for each province.\n",
    "\n",
    "2. **Data Extraction**:\n",
    "    - For each province, the corresponding table names for solar and wind energy data are generated.\n",
    "    - SQL queries are constructed to sum up the available area (`SUM(area)`) for both solar and wind in each province.\n",
    "\n",
    "3. **Data Validation**:\n",
    "    - After fetching data using `pd.read_sql`, it is checked whether valid data was retrieved. If no data is found or the area is `None`, the area is set to 0.\n",
    "\n",
    "4. **Unit Conversion**:\n",
    "    - The area is converted from square meters (m²) to square kilometers (km²) using a factor of `1e-6`, and the result is rounded to 2 decimal places.\n",
    "\n",
    "5. **Data Storage**:\n",
    "    - The calculated values are appended to the dictionaries, which are later converted into Pandas DataFrames for both solar and wind areas.\n",
    "\n",
    "The resulting DataFrames, `df_solar` and `df_wind`, hold the calculated total potential area for renewable energy in each province.\n"
   ],
   "metadata": {
    "collapsed": false
   },
   "id": "8f04629befc87c21"
  },
  {
   "cell_type": "code",
   "outputs": [
    {
     "data": {
      "text/plain": "               Province  solar_area\n0          dolnoslaskie      480.64\n1    kujawsko_pomorskie      262.50\n2             lubelskie      594.29\n3              lubuskie      326.41\n4               lodzkie      485.20\n5           malopolskie      441.87\n6           mazowieckie     1344.64\n7              opolskie       90.20\n8          podkarpackie      568.48\n9             podlaskie      962.12\n10            pomorskie      396.98\n11              slaskie      363.83\n12       swietokrzyskie      295.94\n13  warminsko_mazurskie      970.89\n14        wielkopolskie      569.06\n15   zachodniopomorskie      744.66",
      "text/html": "<div>\n<style scoped>\n    .dataframe tbody tr th:only-of-type {\n        vertical-align: middle;\n    }\n\n    .dataframe tbody tr th {\n        vertical-align: top;\n    }\n\n    .dataframe thead th {\n        text-align: right;\n    }\n</style>\n<table border=\"1\" class=\"dataframe\">\n  <thead>\n    <tr style=\"text-align: right;\">\n      <th></th>\n      <th>Province</th>\n      <th>solar_area</th>\n    </tr>\n  </thead>\n  <tbody>\n    <tr>\n      <th>0</th>\n      <td>dolnoslaskie</td>\n      <td>480.64</td>\n    </tr>\n    <tr>\n      <th>1</th>\n      <td>kujawsko_pomorskie</td>\n      <td>262.50</td>\n    </tr>\n    <tr>\n      <th>2</th>\n      <td>lubelskie</td>\n      <td>594.29</td>\n    </tr>\n    <tr>\n      <th>3</th>\n      <td>lubuskie</td>\n      <td>326.41</td>\n    </tr>\n    <tr>\n      <th>4</th>\n      <td>lodzkie</td>\n      <td>485.20</td>\n    </tr>\n    <tr>\n      <th>5</th>\n      <td>malopolskie</td>\n      <td>441.87</td>\n    </tr>\n    <tr>\n      <th>6</th>\n      <td>mazowieckie</td>\n      <td>1344.64</td>\n    </tr>\n    <tr>\n      <th>7</th>\n      <td>opolskie</td>\n      <td>90.20</td>\n    </tr>\n    <tr>\n      <th>8</th>\n      <td>podkarpackie</td>\n      <td>568.48</td>\n    </tr>\n    <tr>\n      <th>9</th>\n      <td>podlaskie</td>\n      <td>962.12</td>\n    </tr>\n    <tr>\n      <th>10</th>\n      <td>pomorskie</td>\n      <td>396.98</td>\n    </tr>\n    <tr>\n      <th>11</th>\n      <td>slaskie</td>\n      <td>363.83</td>\n    </tr>\n    <tr>\n      <th>12</th>\n      <td>swietokrzyskie</td>\n      <td>295.94</td>\n    </tr>\n    <tr>\n      <th>13</th>\n      <td>warminsko_mazurskie</td>\n      <td>970.89</td>\n    </tr>\n    <tr>\n      <th>14</th>\n      <td>wielkopolskie</td>\n      <td>569.06</td>\n    </tr>\n    <tr>\n      <th>15</th>\n      <td>zachodniopomorskie</td>\n      <td>744.66</td>\n    </tr>\n  </tbody>\n</table>\n</div>"
     },
     "execution_count": 34,
     "metadata": {},
     "output_type": "execute_result"
    }
   ],
   "source": [
    "# Initialize dictionaries to store total renewable areas for solar and wind by province\n",
    "solar_area_append_total = {'Province': [], 'solar_area': []}\n",
    "wind_area_append_total = {'Province': [], 'wind_area': []}\n",
    "\n",
    "# Establish persistent connection to the database\n",
    "conn = engine.connect()\n",
    "\n",
    "# Import data from the database for each province\n",
    "for province in provinces:\n",
    "    \n",
    "    # Define table names for solar and wind data\n",
    "    table_name_solar = f\"solar_radiation_photovoltaic_area_{province}\"\n",
    "    table_name_wind = f\"wind_speed_area_{province}\"\n",
    "  \n",
    "    # SQL queries to get the total area for solar and wind energy\n",
    "    query_solar = (f\"SELECT SUM(area) as solar_total_area FROM {table_name_solar}\")\n",
    "    query_wind = (f\"SELECT SUM(area) as wind_total_area FROM {table_name_wind}\")\n",
    "    \n",
    "    # Execute queries and store results in pandas DataFrames\n",
    "    solar_result = pd.read_sql(query_solar, conn)\n",
    "    wind_result = pd.read_sql(query_wind, conn)\n",
    "    \n",
    "    # Check if valid data is retrieved, set area to 0 if data is missing\n",
    "    solar_area = solar_result['solar_total_area'][0] if not solar_result.empty and solar_result['solar_total_area'][0] is not None else 0\n",
    "    wind_area = wind_result['wind_total_area'][0] if not wind_result.empty and wind_result['wind_total_area'][0] is not None else 0\n",
    "    \n",
    "    # Append results to the respective lists, converting m² to km²\n",
    "    solar_area_append_total['Province'].append(province)\n",
    "    solar_area_append_total['solar_area'].append(round(solar_area * 1e-6, 2))\n",
    "    \n",
    "    wind_area_append_total['Province'].append(province)\n",
    "    wind_area_append_total['wind_area'].append(round(wind_area * 1e-6, 2))\n",
    "\n",
    "\n",
    "# Convert the dictionaries to pandas DataFrames\n",
    "df_solar = pd.DataFrame(solar_area_append_total)\n",
    "df_wind = pd.DataFrame(wind_area_append_total)\n",
    "\n",
    "# Display the solar potential area DataFrame\n",
    "df_solar"
   ],
   "metadata": {
    "collapsed": false,
    "ExecuteTime": {
     "end_time": "2024-09-28T08:54:35.456667Z",
     "start_time": "2024-09-28T08:54:34.757157500Z"
    }
   },
   "id": "e7829fcaaad3985d",
   "execution_count": 34
  },
  {
   "cell_type": "markdown",
   "source": [
    "## Visualization of Renewable Energy Potential\n",
    "\n",
    "The bar plot below illustrates the total area available for solar and wind energy generation for each province in Poland. The blue bars represent the potential area for solar energy, while the green bars represent the potential area for wind energy. The data is presented in square kilometers (km²).\n",
    "\n",
    "This visualization provides an easy comparison of the renewable energy potential across different regions, showing how provinces differ in their capacity for both solar and wind energy development.\n",
    "\n",
    "- **X-axis**: Names of the provinces.\n",
    "- **Y-axis**: Total area available for renewable energy (km²).\n",
    "- **Bars**:\n",
    "    - **Blue**: Solar energy potential.\n",
    "    - **Green**: Wind energy potential.\n",
    "\n",
    "The plot highlights the variation in renewable resource availability, which is crucial for planning large-scale energy projects.\n"
   ],
   "metadata": {
    "collapsed": false
   },
   "id": "e51899014f41f6fc"
  },
  {
   "cell_type": "code",
   "outputs": [
    {
     "data": {
      "text/plain": "<Figure size 1400x700 with 1 Axes>",
      "image/png": "[encoded data removed]"
     },
     "metadata": {},
     "output_type": "display_data"
    }
   ],
   "source": [
    "# Create a bar plot to compare solar and wind energy areas by province\n",
    "plt.figure(figsize=(14, 7))\n",
    "width = 0.35  # Width of the bars\n",
    "\n",
    "# Position of the bars for each province\n",
    "ind = range(len(df_solar['Province']))\n",
    "\n",
    "# Create bars for solar and wind energy areas\n",
    "plt.bar(ind, df_solar['solar_area'], width=width, label='Solar Area', color='blue')\n",
    "plt.bar([i + width for i in ind], df_wind['wind_area'], width=width, label='Wind Area', color='green')\n",
    "\n",
    "# Add labels, title, and format the x-ticks\n",
    "plt.xlabel('Province')\n",
    "plt.ylabel('Total Area (km²)')\n",
    "plt.title('Comparison of Solar and Wind Energy Area by Province')\n",
    "plt.xticks([i + width / 2 for i in ind], df_solar['Province'], rotation=90)\n",
    "\n",
    "# Add legend and display the plot\n",
    "plt.legend()\n",
    "plt.tight_layout()\n",
    "plt.show()"
   ],
   "metadata": {
    "collapsed": false,
    "ExecuteTime": {
     "end_time": "2024-09-28T08:53:08.953956600Z",
     "start_time": "2024-09-28T08:53:07.875891Z"
    }
   },
   "id": "5a259961a2e8aadc",
   "execution_count": 18
  },
  {
   "cell_type": "markdown",
   "source": [
    "Photovoltaic Panel Parameters and Effective Area Calculation\n",
    "In this section, we calculate the effective area available for photovoltaic (PV) panel installations. Key factors include the size and efficiency of the panels, as well as adjustments to account for space required for equipment and maintenance access.\n",
    "\n",
    "Key Parameters:\n",
    "Panel Size: Each panel has a height of 1.016 m and a width of 1.686 m, giving a surface area of approximately 1.71 m².\n",
    "Power Output: The standard power output of a panel is 0.350 kW, leading to a power output of around 0.205 kW per square meter (kW/m²).\n",
    "Efficiency: The panel efficiency is calculated under standard conditions of 25°C and 1000 W/m², with an efficiency close to 20%.\n",
    "Effective Area: We cannot use the entire area for panels, as some space (20%) must be allocated for equipment and maintenance access, meaning only 80% of the area is available for PV panels.\n",
    "The code below calculates the effective solar panel area in each province, taking into account these factors."
   ],
   "metadata": {
    "collapsed": false
   },
   "id": "af9bac094e5340c1"
  },
  {
   "cell_type": "code",
   "outputs": [
    {
     "data": {
      "text/plain": "               Province  solar_area  solar_effective_area\n0          dolnoslaskie      480.64                384.51\n1    kujawsko_pomorskie      262.50                210.00\n2             lubelskie      594.29                475.43\n3              lubuskie      326.41                261.13\n4               lodzkie      485.20                388.16\n5           malopolskie      441.87                353.50\n6           mazowieckie     1344.64               1075.71\n7              opolskie       90.20                 72.16\n8          podkarpackie      568.48                454.78\n9             podlaskie      962.12                769.70\n10            pomorskie      396.98                317.58\n11              slaskie      363.83                291.06\n12       swietokrzyskie      295.94                236.75\n13  warminsko_mazurskie      970.89                776.71\n14        wielkopolskie      569.06                455.25\n15   zachodniopomorskie      744.66                595.73",
      "text/html": "<div>\n<style scoped>\n    .dataframe tbody tr th:only-of-type {\n        vertical-align: middle;\n    }\n\n    .dataframe tbody tr th {\n        vertical-align: top;\n    }\n\n    .dataframe thead th {\n        text-align: right;\n    }\n</style>\n<table border=\"1\" class=\"dataframe\">\n  <thead>\n    <tr style=\"text-align: right;\">\n      <th></th>\n      <th>Province</th>\n      <th>solar_area</th>\n      <th>solar_effective_area</th>\n    </tr>\n  </thead>\n  <tbody>\n    <tr>\n      <th>0</th>\n      <td>dolnoslaskie</td>\n      <td>480.64</td>\n      <td>384.51</td>\n    </tr>\n    <tr>\n      <th>1</th>\n      <td>kujawsko_pomorskie</td>\n      <td>262.50</td>\n      <td>210.00</td>\n    </tr>\n    <tr>\n      <th>2</th>\n      <td>lubelskie</td>\n      <td>594.29</td>\n      <td>475.43</td>\n    </tr>\n    <tr>\n      <th>3</th>\n      <td>lubuskie</td>\n      <td>326.41</td>\n      <td>261.13</td>\n    </tr>\n    <tr>\n      <th>4</th>\n      <td>lodzkie</td>\n      <td>485.20</td>\n      <td>388.16</td>\n    </tr>\n    <tr>\n      <th>5</th>\n      <td>malopolskie</td>\n      <td>441.87</td>\n      <td>353.50</td>\n    </tr>\n    <tr>\n      <th>6</th>\n      <td>mazowieckie</td>\n      <td>1344.64</td>\n      <td>1075.71</td>\n    </tr>\n    <tr>\n      <th>7</th>\n      <td>opolskie</td>\n      <td>90.20</td>\n      <td>72.16</td>\n    </tr>\n    <tr>\n      <th>8</th>\n      <td>podkarpackie</td>\n      <td>568.48</td>\n      <td>454.78</td>\n    </tr>\n    <tr>\n      <th>9</th>\n      <td>podlaskie</td>\n      <td>962.12</td>\n      <td>769.70</td>\n    </tr>\n    <tr>\n      <th>10</th>\n      <td>pomorskie</td>\n      <td>396.98</td>\n      <td>317.58</td>\n    </tr>\n    <tr>\n      <th>11</th>\n      <td>slaskie</td>\n      <td>363.83</td>\n      <td>291.06</td>\n    </tr>\n    <tr>\n      <th>12</th>\n      <td>swietokrzyskie</td>\n      <td>295.94</td>\n      <td>236.75</td>\n    </tr>\n    <tr>\n      <th>13</th>\n      <td>warminsko_mazurskie</td>\n      <td>970.89</td>\n      <td>776.71</td>\n    </tr>\n    <tr>\n      <th>14</th>\n      <td>wielkopolskie</td>\n      <td>569.06</td>\n      <td>455.25</td>\n    </tr>\n    <tr>\n      <th>15</th>\n      <td>zachodniopomorskie</td>\n      <td>744.66</td>\n      <td>595.73</td>\n    </tr>\n  </tbody>\n</table>\n</div>"
     },
     "execution_count": 19,
     "metadata": {},
     "output_type": "execute_result"
    }
   ],
   "source": [
    "# Photovoltaic standard panel parameters\n",
    "height_panel = 1.016  # Height of a single panel in meters\n",
    "width_panel = 1.686  # Width of a single panel in meters\n",
    "power_output = 0.350  # Power output per panel in kW\n",
    "power_output_m2 = power_output / (height_panel * width_panel)  # Power output per m²\n",
    "\n",
    "# Efficiency of the panel under standard conditions (~20% efficiency)\n",
    "efficiency = (power_output / (height_panel * width_panel * 1))\n",
    "\n",
    "# Parameters for effective solar area (80% area used for panels, 20% for equipment and access)\n",
    "solar_maintenance_access = 0.2  # 20% area reserved for equipment and access\n",
    "effective_solar_panel_area = 1 - solar_maintenance_access  # 80% area for PV panels\n",
    "\n",
    "# Calculate the effective solar area for each province\n",
    "df_solar['solar_effective_area'] = df_solar['solar_area'] * effective_solar_panel_area\n",
    "\n",
    "# Display the DataFrame with the new column\n",
    "df_solar"
   ],
   "metadata": {
    "collapsed": false,
    "ExecuteTime": {
     "end_time": "2024-09-28T08:53:08.963084700Z",
     "start_time": "2024-09-28T08:53:08.815938300Z"
    }
   },
   "id": "4157793bb8fac810",
   "execution_count": 19
  },
  {
   "cell_type": "markdown",
   "source": [],
   "metadata": {
    "collapsed": false
   },
   "id": "aefe6fce214ef9eb"
  },
  {
   "cell_type": "markdown",
   "source": [
    "Solar Radiation Calculation by Province and Month\n",
    "This section calculates the total solar energy potential for each province based on monthly solar radiation data. The calculation considers the available photovoltaic area, panel efficiency, and monthly sunlight duration. The final data is merged into the df_solar DataFrame.\n",
    "\n",
    "Key Steps:\n",
    "Months Dictionary: A dictionary with the number of days in each month is defined.\n",
    "Query Construction: For each province and month, a SQL query is used to sum up the total area available for photovoltaic installations, multiply it by monthly solar radiation, adjust for panel efficiency, and account for the 80% effective area utilization.\n",
    "Energy Calculation: The resulting energy is converted from kW to MW for easier interpretation.\n",
    "Data Merging: The calculated solar radiation data is merged with the existing df_solar DataFrame.\n"
   ],
   "metadata": {
    "collapsed": false
   },
   "id": "e3b0630c7bee0dea"
  },
  {
   "cell_type": "code",
   "outputs": [],
   "source": [
    "# Dictionary containing months and their respective number of days\n",
    "months = {\n",
    "    \"january\": 31,\n",
    "    \"february\": 28,\n",
    "    \"march\": 31,\n",
    "    \"april\": 30,\n",
    "    \"may\": 31,\n",
    "    \"june\": 30,\n",
    "    \"july\": 31,\n",
    "    \"august\": 31,\n",
    "    \"september\": 30,\n",
    "    \"october\": 31,\n",
    "    \"november\": 30,\n",
    "    \"december\": 31\n",
    "}\n",
    "\n",
    "# DataFrame to store solar radiation by province and month\n",
    "solar_radiation = pd.DataFrame(index=provinces, columns=months.keys())\n",
    "\n",
    "# Loop through each province and month to calculate solar radiation\n",
    "for province in provinces:\n",
    "    for month in months:\n",
    "        table_name_solar = f\"solar_radiation_photovoltaic_area_{province}\"\n",
    "        \n",
    "        # SQL query to calculate total solar energy in the month (accounting for area, radiation, efficiency)\n",
    "        query = (f\"SELECT SUM(area * {months[month]} * {effective_solar_panel_area} * {efficiency}) \"\n",
    "                 f\"AS total FROM {table_name_solar}\")\n",
    "        \n",
    "        # Execute the query and store result in DataFrame\n",
    "        result_df = pd.read_sql(query, conn)\n",
    "        monthly_solar_energy = result_df.iloc[0]['total'] if not result_df.empty else 0\n",
    "        \n",
    "        # Convert from kW to MW and store in the DataFrame\n",
    "        solar_radiation.at[province, month] = round(monthly_solar_energy * 1e-3, 2)\n",
    "\n",
    "# Reset index and rename columns\n",
    "solar_radiation.reset_index(inplace=True)\n",
    "solar_radiation.rename(columns={'index': 'Province'}, inplace=True)\n",
    "\n",
    "# Merge the solar radiation data with the df_solar DataFrame\n",
    "df_solar = df_solar.merge(solar_radiation, left_on='Province', right_on='Province')"
   ],
   "metadata": {
    "collapsed": false,
    "ExecuteTime": {
     "end_time": "2024-09-28T08:54:57.243567900Z",
     "start_time": "2024-09-28T08:54:54.672874300Z"
    }
   },
   "id": "59f63e568ae6e292",
   "execution_count": 36
  },
  {
   "cell_type": "markdown",
   "source": [
    "# Functional Assumptions for Wind Energy\n",
    "\n",
    "- **Turbines per km²**: We assume 3 wind turbines for every square kilometer of wind-available land.\n",
    "- **Wind Turbine Model**: The parameters for the Vestas V100 turbine are as follows:\n",
    "    - Minimum wind speed for operation: **3 m/s**\n",
    "    - Maximum wind speed for operation: **22 m/s**\n",
    "    - Maximum energy generation: **2 MW** (at 22 m/s)\n"
   ],
   "metadata": {
    "collapsed": false
   },
   "id": "22baa41959945207"
  },
  {
   "cell_type": "code",
   "outputs": [
    {
     "data": {
      "text/plain": "               Province  wind_area  turbines_number\n0          dolnoslaskie     220.40              661\n1    kujawsko_pomorskie     100.90              302\n2             lubelskie     473.40             1420\n3              lubuskie     366.51             1099\n4               lodzkie     104.86              314\n5           malopolskie      86.31              258\n6           mazowieckie     551.29             1653\n7              opolskie      47.03              141\n8          podkarpackie     195.24              585\n9             podlaskie     722.85             2168\n10            pomorskie     217.50              652\n11              slaskie      62.63              187\n12       swietokrzyskie      72.13              216\n13  warminsko_mazurskie     371.82             1115\n14        wielkopolskie     487.28             1461\n15   zachodniopomorskie     684.23             2052",
      "text/html": "<div>\n<style scoped>\n    .dataframe tbody tr th:only-of-type {\n        vertical-align: middle;\n    }\n\n    .dataframe tbody tr th {\n        vertical-align: top;\n    }\n\n    .dataframe thead th {\n        text-align: right;\n    }\n</style>\n<table border=\"1\" class=\"dataframe\">\n  <thead>\n    <tr style=\"text-align: right;\">\n      <th></th>\n      <th>Province</th>\n      <th>wind_area</th>\n      <th>turbines_number</th>\n    </tr>\n  </thead>\n  <tbody>\n    <tr>\n      <th>0</th>\n      <td>dolnoslaskie</td>\n      <td>220.40</td>\n      <td>661</td>\n    </tr>\n    <tr>\n      <th>1</th>\n      <td>kujawsko_pomorskie</td>\n      <td>100.90</td>\n      <td>302</td>\n    </tr>\n    <tr>\n      <th>2</th>\n      <td>lubelskie</td>\n      <td>473.40</td>\n      <td>1420</td>\n    </tr>\n    <tr>\n      <th>3</th>\n      <td>lubuskie</td>\n      <td>366.51</td>\n      <td>1099</td>\n    </tr>\n    <tr>\n      <th>4</th>\n      <td>lodzkie</td>\n      <td>104.86</td>\n      <td>314</td>\n    </tr>\n    <tr>\n      <th>5</th>\n      <td>malopolskie</td>\n      <td>86.31</td>\n      <td>258</td>\n    </tr>\n    <tr>\n      <th>6</th>\n      <td>mazowieckie</td>\n      <td>551.29</td>\n      <td>1653</td>\n    </tr>\n    <tr>\n      <th>7</th>\n      <td>opolskie</td>\n      <td>47.03</td>\n      <td>141</td>\n    </tr>\n    <tr>\n      <th>8</th>\n      <td>podkarpackie</td>\n      <td>195.24</td>\n      <td>585</td>\n    </tr>\n    <tr>\n      <th>9</th>\n      <td>podlaskie</td>\n      <td>722.85</td>\n      <td>2168</td>\n    </tr>\n    <tr>\n      <th>10</th>\n      <td>pomorskie</td>\n      <td>217.50</td>\n      <td>652</td>\n    </tr>\n    <tr>\n      <th>11</th>\n      <td>slaskie</td>\n      <td>62.63</td>\n      <td>187</td>\n    </tr>\n    <tr>\n      <th>12</th>\n      <td>swietokrzyskie</td>\n      <td>72.13</td>\n      <td>216</td>\n    </tr>\n    <tr>\n      <th>13</th>\n      <td>warminsko_mazurskie</td>\n      <td>371.82</td>\n      <td>1115</td>\n    </tr>\n    <tr>\n      <th>14</th>\n      <td>wielkopolskie</td>\n      <td>487.28</td>\n      <td>1461</td>\n    </tr>\n    <tr>\n      <th>15</th>\n      <td>zachodniopomorskie</td>\n      <td>684.23</td>\n      <td>2052</td>\n    </tr>\n  </tbody>\n</table>\n</div>"
     },
     "execution_count": 38,
     "metadata": {},
     "output_type": "execute_result"
    }
   ],
   "source": [
    "# Functional assumption: 3 wind turbines per km²\n",
    "turbine_number_for_area = 3\n",
    "df_wind['turbines_number'] = df_wind['wind_area'] * turbine_number_for_area\n",
    "df_wind['turbines_number'] = df_wind['turbines_number'].astype(int)\n",
    "\n",
    "# Parameters for wind turbine Vestas V100\n",
    "# Minimum wind speed [m/s]\n",
    "minimum_wind_speed = 3\n",
    "\n",
    "# Maximum wind speed [m/s]\n",
    "maximum_wind_speed = 22\n",
    "\n",
    "# Energy generated per hour at 22 m/s wind speed [MW]\n",
    "maximum_power_generate = 2\n",
    "\n",
    "df_wind\n"
   ],
   "metadata": {
    "collapsed": false,
    "ExecuteTime": {
     "end_time": "2024-09-28T08:57:25.707943200Z",
     "start_time": "2024-09-28T08:57:25.531261Z"
    }
   },
   "id": "589a5dbf37fa4d29",
   "execution_count": 38
  },
  {
   "cell_type": "markdown",
   "source": [
    "# Wind Energy Calculation by Province\n",
    "\n",
    "For each province, we calculate the wind energy generated per month using the following assumptions:\n",
    "\n",
    "- **Wind Speed Thresholds**:\n",
    "    - **Minimum Wind Speed**: 3 m/s (below this, no energy is generated)\n",
    "    - **Maximum Wind Speed**: 22 m/s (maximum energy output at this speed)\n",
    "\n",
    "- **Energy Generation Formula**:\n",
    "    - Energy generated is proportional to the wind speed up to 22 m/s.\n",
    "    - For wind speeds above 3 m/s, the energy generated per hour is calculated based on the wind speed ratio compared to the maximum wind speed.\n",
    "\n",
    "For each month, the energy generated is calculated in MW for every province.\n"
   ],
   "metadata": {
    "collapsed": false
   },
   "id": "f27b17c2822b817f"
  },
  {
   "cell_type": "markdown",
   "source": [],
   "metadata": {
    "collapsed": false
   },
   "id": "ca08c60286e9b82a"
  },
  {
   "cell_type": "code",
   "outputs": [
    {
     "data": {
      "text/plain": "               Province  wind_area  turbines_number  january february   march  \\\n0          dolnoslaskie     220.40              661   447120   396744  423090   \n1    kujawsko_pomorskie     100.90              302   115072    97600  108000   \n2             lubelskie     473.40             1420   534060   482632  534060   \n3              lubuskie     366.51             1099   423630   382836  423630   \n4               lodzkie     104.86              314   214228   170800  189000   \n5           malopolskie      86.31              258   103950    93940  103950   \n6           mazowieckie     551.29             1653   741136   663192  733860   \n7              opolskie      47.03              141   126900   114680  117180   \n8          podkarpackie     195.24              585   369900   334280  353160   \n9             podlaskie     722.85             2168   344790   311588  344790   \n10            pomorskie     217.50              652   401618   341648  339502   \n11              slaskie      62.63              187   169156   136152  150660   \n12       swietokrzyskie      72.13              216   163590   143228  158490   \n13  warminsko_mazurskie     371.82             1115   598900   516228  567990   \n14        wielkopolskie     487.28             1461   434232   391864  433620   \n15   zachodniopomorskie     684.23             2052  1002680   831860  899866   \n\n     april     may    june    july  august september october november december  \n0   120640       0       0       0       0     11440  256770   325520   445230  \n1   104000   65340   60840   12960       0     97240  108000   104000   108000  \n2   162760   18090       0       0       0     41340  477630   514280   534060  \n3    11180       0       0       0       0      1300  394470   407940   423630  \n4   181480   96390       0       0       0    164840  189000   182000   189816  \n5     1560       0       0       0       0         0   31860    43160    68580  \n6   232960   68040    4420       0       0    182000  693630   706680   733860  \n7    49140    5670       0       0       0     14300   83160    96200   126900  \n8    30420       0       0       0       0         0  273240   355940   383670  \n9   147680    8640       0       0       0    109720  344790   332020   344790  \n10  313472  311754  293854  262484  185124    316442  342400   335120   382576  \n11   98800   50490       0       0       0     87620  144720   143260   159636  \n12  104260   14040       0       0       0     61100  117720   151580   158490  \n13  237256  134462  115836   31322   31322    377902  570500   550382   574284  \n14  312260  107730   59540    1080       0    220740  433620   417560   433620  \n15  759228  576618  562992  356904  174114    719070  904486   871766   956032  ",
      "text/html": "<div>\n<style scoped>\n    .dataframe tbody tr th:only-of-type {\n        vertical-align: middle;\n    }\n\n    .dataframe tbody tr th {\n        vertical-align: top;\n    }\n\n    .dataframe thead th {\n        text-align: right;\n    }\n</style>\n<table border=\"1\" class=\"dataframe\">\n  <thead>\n    <tr style=\"text-align: right;\">\n      <th></th>\n      <th>Province</th>\n      <th>wind_area</th>\n      <th>turbines_number</th>\n      <th>january</th>\n      <th>february</th>\n      <th>march</th>\n      <th>april</th>\n      <th>may</th>\n      <th>june</th>\n      <th>july</th>\n      <th>august</th>\n      <th>september</th>\n      <th>october</th>\n      <th>november</th>\n      <th>december</th>\n    </tr>\n  </thead>\n  <tbody>\n    <tr>\n      <th>0</th>\n      <td>dolnoslaskie</td>\n      <td>220.40</td>\n      <td>661</td>\n      <td>447120</td>\n      <td>396744</td>\n      <td>423090</td>\n      <td>120640</td>\n      <td>0</td>\n      <td>0</td>\n      <td>0</td>\n      <td>0</td>\n      <td>11440</td>\n      <td>256770</td>\n      <td>325520</td>\n      <td>445230</td>\n    </tr>\n    <tr>\n      <th>1</th>\n      <td>kujawsko_pomorskie</td>\n      <td>100.90</td>\n      <td>302</td>\n      <td>115072</td>\n      <td>97600</td>\n      <td>108000</td>\n      <td>104000</td>\n      <td>65340</td>\n      <td>60840</td>\n      <td>12960</td>\n      <td>0</td>\n      <td>97240</td>\n      <td>108000</td>\n      <td>104000</td>\n      <td>108000</td>\n    </tr>\n    <tr>\n      <th>2</th>\n      <td>lubelskie</td>\n      <td>473.40</td>\n      <td>1420</td>\n      <td>534060</td>\n      <td>482632</td>\n      <td>534060</td>\n      <td>162760</td>\n      <td>18090</td>\n      <td>0</td>\n      <td>0</td>\n      <td>0</td>\n      <td>41340</td>\n      <td>477630</td>\n      <td>514280</td>\n      <td>534060</td>\n    </tr>\n    <tr>\n      <th>3</th>\n      <td>lubuskie</td>\n      <td>366.51</td>\n      <td>1099</td>\n      <td>423630</td>\n      <td>382836</td>\n      <td>423630</td>\n      <td>11180</td>\n      <td>0</td>\n      <td>0</td>\n      <td>0</td>\n      <td>0</td>\n      <td>1300</td>\n      <td>394470</td>\n      <td>407940</td>\n      <td>423630</td>\n    </tr>\n    <tr>\n      <th>4</th>\n      <td>lodzkie</td>\n      <td>104.86</td>\n      <td>314</td>\n      <td>214228</td>\n      <td>170800</td>\n      <td>189000</td>\n      <td>181480</td>\n      <td>96390</td>\n      <td>0</td>\n      <td>0</td>\n      <td>0</td>\n      <td>164840</td>\n      <td>189000</td>\n      <td>182000</td>\n      <td>189816</td>\n    </tr>\n    <tr>\n      <th>5</th>\n      <td>malopolskie</td>\n      <td>86.31</td>\n      <td>258</td>\n      <td>103950</td>\n      <td>93940</td>\n      <td>103950</td>\n      <td>1560</td>\n      <td>0</td>\n      <td>0</td>\n      <td>0</td>\n      <td>0</td>\n      <td>0</td>\n      <td>31860</td>\n      <td>43160</td>\n      <td>68580</td>\n    </tr>\n    <tr>\n      <th>6</th>\n      <td>mazowieckie</td>\n      <td>551.29</td>\n      <td>1653</td>\n      <td>741136</td>\n      <td>663192</td>\n      <td>733860</td>\n      <td>232960</td>\n      <td>68040</td>\n      <td>4420</td>\n      <td>0</td>\n      <td>0</td>\n      <td>182000</td>\n      <td>693630</td>\n      <td>706680</td>\n      <td>733860</td>\n    </tr>\n    <tr>\n      <th>7</th>\n      <td>opolskie</td>\n      <td>47.03</td>\n      <td>141</td>\n      <td>126900</td>\n      <td>114680</td>\n      <td>117180</td>\n      <td>49140</td>\n      <td>5670</td>\n      <td>0</td>\n      <td>0</td>\n      <td>0</td>\n      <td>14300</td>\n      <td>83160</td>\n      <td>96200</td>\n      <td>126900</td>\n    </tr>\n    <tr>\n      <th>8</th>\n      <td>podkarpackie</td>\n      <td>195.24</td>\n      <td>585</td>\n      <td>369900</td>\n      <td>334280</td>\n      <td>353160</td>\n      <td>30420</td>\n      <td>0</td>\n      <td>0</td>\n      <td>0</td>\n      <td>0</td>\n      <td>0</td>\n      <td>273240</td>\n      <td>355940</td>\n      <td>383670</td>\n    </tr>\n    <tr>\n      <th>9</th>\n      <td>podlaskie</td>\n      <td>722.85</td>\n      <td>2168</td>\n      <td>344790</td>\n      <td>311588</td>\n      <td>344790</td>\n      <td>147680</td>\n      <td>8640</td>\n      <td>0</td>\n      <td>0</td>\n      <td>0</td>\n      <td>109720</td>\n      <td>344790</td>\n      <td>332020</td>\n      <td>344790</td>\n    </tr>\n    <tr>\n      <th>10</th>\n      <td>pomorskie</td>\n      <td>217.50</td>\n      <td>652</td>\n      <td>401618</td>\n      <td>341648</td>\n      <td>339502</td>\n      <td>313472</td>\n      <td>311754</td>\n      <td>293854</td>\n      <td>262484</td>\n      <td>185124</td>\n      <td>316442</td>\n      <td>342400</td>\n      <td>335120</td>\n      <td>382576</td>\n    </tr>\n    <tr>\n      <th>11</th>\n      <td>slaskie</td>\n      <td>62.63</td>\n      <td>187</td>\n      <td>169156</td>\n      <td>136152</td>\n      <td>150660</td>\n      <td>98800</td>\n      <td>50490</td>\n      <td>0</td>\n      <td>0</td>\n      <td>0</td>\n      <td>87620</td>\n      <td>144720</td>\n      <td>143260</td>\n      <td>159636</td>\n    </tr>\n    <tr>\n      <th>12</th>\n      <td>swietokrzyskie</td>\n      <td>72.13</td>\n      <td>216</td>\n      <td>163590</td>\n      <td>143228</td>\n      <td>158490</td>\n      <td>104260</td>\n      <td>14040</td>\n      <td>0</td>\n      <td>0</td>\n      <td>0</td>\n      <td>61100</td>\n      <td>117720</td>\n      <td>151580</td>\n      <td>158490</td>\n    </tr>\n    <tr>\n      <th>13</th>\n      <td>warminsko_mazurskie</td>\n      <td>371.82</td>\n      <td>1115</td>\n      <td>598900</td>\n      <td>516228</td>\n      <td>567990</td>\n      <td>237256</td>\n      <td>134462</td>\n      <td>115836</td>\n      <td>31322</td>\n      <td>31322</td>\n      <td>377902</td>\n      <td>570500</td>\n      <td>550382</td>\n      <td>574284</td>\n    </tr>\n    <tr>\n      <th>14</th>\n      <td>wielkopolskie</td>\n      <td>487.28</td>\n      <td>1461</td>\n      <td>434232</td>\n      <td>391864</td>\n      <td>433620</td>\n      <td>312260</td>\n      <td>107730</td>\n      <td>59540</td>\n      <td>1080</td>\n      <td>0</td>\n      <td>220740</td>\n      <td>433620</td>\n      <td>417560</td>\n      <td>433620</td>\n    </tr>\n    <tr>\n      <th>15</th>\n      <td>zachodniopomorskie</td>\n      <td>684.23</td>\n      <td>2052</td>\n      <td>1002680</td>\n      <td>831860</td>\n      <td>899866</td>\n      <td>759228</td>\n      <td>576618</td>\n      <td>562992</td>\n      <td>356904</td>\n      <td>174114</td>\n      <td>719070</td>\n      <td>904486</td>\n      <td>871766</td>\n      <td>956032</td>\n    </tr>\n  </tbody>\n</table>\n</div>"
     },
     "execution_count": 39,
     "metadata": {},
     "output_type": "execute_result"
    }
   ],
   "source": [
    "# Create a DataFrame for wind energy\n",
    "wind_energy = pd.DataFrame(index=provinces, columns=months.keys())\n",
    "\n",
    "# Loop through each province and month to calculate wind energy\n",
    "for province in provinces:\n",
    "    for month, days in months.items():\n",
    "        table_name_wind = f\"wind_speed_area_{province}\"\n",
    "        \n",
    "        # Select data in tables and calculate energy generated for 1 month in MW\n",
    "        query = (f\"SELECT SUM(CASE \"\n",
    "                 f\"WHEN {month} > {minimum_wind_speed} THEN ((({month} * 24 * {days}) / {maximum_wind_speed}) * {maximum_power_generate}) \"\n",
    "                 f\"ELSE 0 \"\n",
    "                 f\"END) as total \"\n",
    "                 f\"FROM {table_name_wind}\")\n",
    "\n",
    "        # Fetch result into pandas\n",
    "        result_df = pd.read_sql(query, conn)\n",
    "        monthly_wind_speed = result_df.iloc[0]['total'] if not result_df.empty else 0\n",
    "        \n",
    "        # Round the result and assign it to the DataFrame\n",
    "        monthly_wind_speed = round(monthly_wind_speed, 2)\n",
    "        wind_energy.at[province, month] = monthly_wind_speed\n",
    "        \n",
    "# Rename index for merging\n",
    "wind_energy.reset_index(inplace=True)\n",
    "wind_energy.rename(columns={'index': 'Province'}, inplace=True)\n",
    "\n",
    "# Merge wind energy data with the existing df_wind DataFrame\n",
    "df_wind = df_wind.merge(wind_energy, left_on='Province', right_on='Province')\n",
    "\n",
    "df_wind"
   ],
   "metadata": {
    "collapsed": false,
    "ExecuteTime": {
     "end_time": "2024-09-28T08:58:29.340568600Z",
     "start_time": "2024-09-28T08:58:27.887562700Z"
    }
   },
   "id": "58e0098bd3e5a586",
   "execution_count": 39
  },
  {
   "cell_type": "markdown",
   "source": [
    "# Solar Radiation Analysis by Province\n",
    "\n",
    "For each province, we calculate the solar radiation energy production and the estimated building costs for photovoltaic panels. We perform the following operations:\n",
    "\n",
    "- **Area and Distances**:\n",
    "    - Area in km²\n",
    "    - Line distance and road distance in km\n",
    "\n",
    "- **Solar Energy Production**:\n",
    "    - Total and monthly energy production (in MWh) calculated based on the effective solar panel area and panel efficiency.\n",
    "\n",
    "- **Construction Cost**:\n",
    "    - The construction cost (in millions of PLN) is calculated based on the energy production, using a tiered cost approach.\n",
    "\n",
    "- **Solar Radiation Difference**:\n",
    "    - The difference in solar radiation values between the maximum monthly radiation and the total sum of all months.\n",
    "\n",
    "Each province is processed, and the resulting DataFrame is stored in a dictionary for easy access.\n"
   ],
   "metadata": {
    "collapsed": false
   },
   "id": "13738fe95f7c799e"
  },
  {
   "cell_type": "code",
   "outputs": [],
   "source": [
    "# Initialize a dictionary to store the solar radiation data for each province\n",
    "solar_radiation_photovoltaic_area_by_each_province = {}\n",
    "\n",
    "# Loop through each province to calculate solar radiation and other metrics\n",
    "for province in provinces:\n",
    "    \n",
    "    # Define the table name for the current province\n",
    "    table_name = f\"solar_radiation_photovoltaic_area_{province}\"\n",
    "    \n",
    "    # Define the sum of monthly columns for solar radiation difference calculation\n",
    "    sum_columns = ' + '.join(months)\n",
    "    \n",
    "    # Define the SQL query for fetching solar radiation and energy production data\n",
    "    query = (\n",
    "        f\"SELECT \"\n",
    "        f\"id, \"\n",
    "        f\"area * 1e-6 AS area_km2, \"\n",
    "        f\"line_dista * 1e-3 AS line_distance_km, \"\n",
    "        f\"road_dista * 1e-3 AS road_distance_km, \"\n",
    "        f\"area * {effective_solar_panel_area} * {efficiency} * 1e-3 AS solar_energy_production_mwh, \"\n",
    "        \n",
    "        # Monthly energy production\n",
    "        f\"area * {effective_solar_panel_area} * {efficiency} * january * 1e-3 AS january_solar_energy_production_mwh, \"\n",
    "        f\"area * {effective_solar_panel_area} * {efficiency} * february * 1e-3 AS february_solar_energy_production_mwh, \"\n",
    "        f\"area * {effective_solar_panel_area} * {efficiency} * march * 1e-3 AS march_solar_energy_production_mwh, \"\n",
    "        f\"area * {effective_solar_panel_area} * {efficiency} * april * 1e-3 AS april_solar_energy_production_mwh, \"\n",
    "        f\"area * {effective_solar_panel_area} * {efficiency} * may * 1e-3 AS may_solar_energy_production_mwh, \"\n",
    "        f\"area * {effective_solar_panel_area} * {efficiency} * june * 1e-3 AS june_solar_energy_production_mwh, \"\n",
    "        f\"area * {effective_solar_panel_area} * {efficiency} * july * 1e-3 AS july_solar_energy_production_mwh, \"\n",
    "        f\"area * {effective_solar_panel_area} * {efficiency} * august * 1e-3 AS august_solar_energy_production_mwh, \"\n",
    "        f\"area * {effective_solar_panel_area} * {efficiency} * september * 1e-3 AS september_solar_energy_production_mwh, \"\n",
    "        f\"area * {effective_solar_panel_area} * {efficiency} * october * 1e-3 AS october_solar_energy_production_mwh, \"\n",
    "        f\"area * {effective_solar_panel_area} * {efficiency} * november * 1e-3 AS november_solar_energy_production_mwh, \"\n",
    "        f\"area * {effective_solar_panel_area} * {efficiency} * december * 1e-3 AS december_solar_energy_production_mwh, \"\n",
    "        \n",
    "        # Building cost calculation\n",
    "        f\"CASE \"\n",
    "        f\"    WHEN area * {effective_solar_panel_area} * {efficiency} * 1e-3 < 0.5 THEN 3.51 * area * {effective_solar_panel_area} * {efficiency} * 1e-3 \"\n",
    "        f\"    WHEN area * {effective_solar_panel_area} * {efficiency} * 1e-3 <= 1 THEN 2.63 * area * {effective_solar_panel_area} * {efficiency} * 1e-3 \"\n",
    "        f\"    WHEN area * {effective_solar_panel_area} * {efficiency} * 1e-3 > 1 THEN 2.05 * area * {effective_solar_panel_area} * {efficiency} * 1e-3 \"\n",
    "        f\"    ELSE 0 \"\n",
    "        f\"END AS building_cost_mln_zl, \"\n",
    "        \n",
    "        # Solar radiation difference\n",
    "        f\"((SELECT MAX(value) FROM (SELECT {sum_columns} AS value FROM {table_name}) subquery) - ({sum_columns})) AS solar_radiation_difference_kw \"\n",
    "        \n",
    "        f\"FROM {table_name}\"\n",
    "    )\n",
    "    \n",
    "    # Execute the SQL query and load the result into a pandas DataFrame\n",
    "    result_df = pd.read_sql(query, conn)\n",
    "    \n",
    "    # Copy the result DataFrame for the current province\n",
    "    solar_radiation_photovoltaic_area_by_each_province[province] = result_df.copy()\n",
    "    \n",
    "    # Calculate the annual energy production and add it as a new column\n",
    "    solar_radiation_photovoltaic_area_by_each_province[province]['energy_production_by_year_mwh'] = \\\n",
    "        solar_radiation_photovoltaic_area_by_each_province[province].loc[:, 'january_solar_energy_production_mwh':'december_solar_energy_production_mwh'].sum(axis=1)"
   ],
   "metadata": {
    "collapsed": false,
    "ExecuteTime": {
     "end_time": "2024-09-28T09:02:29.668920700Z",
     "start_time": "2024-09-28T09:02:19.933923200Z"
    }
   },
   "id": "3d39aa8cc0a45c2c",
   "execution_count": 40
  },
  {
   "cell_type": "code",
   "outputs": [
    {
     "data": {
      "text/plain": "           id  area_km2  line_distance_km  road_distance_km  \\\n0         2.0      0.08          4.39e-01              0.00   \n1         4.0      0.06          7.86e-03              0.00   \n2         6.0      0.03          4.01e-01              0.05   \n3         7.0      0.13          1.21e-01              0.00   \n4         8.0      0.03          4.66e-01              0.00   \n...       ...       ...               ...               ...   \n9692  13019.0      0.02          1.95e-01              0.00   \n9693  13020.0      0.08          0.00e+00              0.00   \n9694  13021.0      0.02          2.39e-01              0.00   \n9695  13022.0      0.04          7.49e-02              0.00   \n9696  13023.0      0.02          4.29e-01              0.00   \n\n      solar_energy_production_mwh  january_solar_energy_production_mwh  \\\n0                           12.74                               331.24   \n1                            9.31                               242.14   \n2                            4.36                               113.34   \n3                           20.50                               533.00   \n4                            4.99                               129.65   \n...                           ...                                  ...   \n9692                         3.37                               104.57   \n9693                        12.49                               387.30   \n9694                         4.03                               124.97   \n9695                         5.80                               179.86   \n9696                         3.87                               119.89   \n\n      february_solar_energy_production_mwh  march_solar_energy_production_mwh  \\\n0                                   751.66                            1465.11   \n1                                   549.48                            1071.02   \n2                                   252.83                             501.31   \n3                                  1209.51                            2357.52   \n4                                   294.20                             578.44   \n...                                    ...                                ...   \n9692                                212.51                             401.42   \n9693                                787.09                            1486.73   \n9694                                253.96                             479.71   \n9695                                365.53                             690.44   \n9696                                243.66                             460.24   \n\n      april_solar_energy_production_mwh  may_solar_energy_production_mwh  \\\n0                               2229.51                          2841.03   \n1                               1629.82                          2076.86   \n2                                767.22                           976.46   \n3                               3587.52                          4571.53   \n4                                882.61                          1116.98   \n...                                 ...                              ...   \n9692                             610.56                           765.73   \n9693                            2261.34                          2836.04   \n9694                             729.64                           915.07   \n9695                            1050.17                          1317.06   \n9696                             700.03                           877.93   \n\n      june_solar_energy_production_mwh  july_solar_energy_production_mwh  \\\n0                              3095.83                           2917.47   \n1                              2263.12                           2132.73   \n2                              1059.29                            998.26   \n3                              4981.53                           4694.53   \n4                              1216.71                           1146.90   \n...                                ...                               ...   \n9692                            836.57                            802.83   \n9693                           3098.41                           2973.47   \n9694                            999.73                            959.41   \n9695                           1438.90                           1380.88   \n9696                            959.15                            920.48   \n\n      august_solar_energy_production_mwh  \\\n0                                2356.91   \n1                                1722.95   \n2                                 806.46   \n3                                3792.53   \n4                                 927.49   \n...                                  ...   \n9692                              664.53   \n9693                             2461.23   \n9694                              794.14   \n9695                             1143.00   \n9696                              761.91   \n\n      september_solar_energy_production_mwh  \\\n0                                   1592.51   \n1                                   1164.16   \n2                                    544.90   \n3                                   2562.52   \n4                                    628.30   \n...                                     ...   \n9692                                 458.76   \n9693                                1699.13   \n9694                                 548.24   \n9695                                 789.07   \n9696                                 525.99   \n\n      october_solar_energy_production_mwh  \\\n0                                  879.06   \n1                                  642.61   \n2                                  300.79   \n3                                 1414.51   \n4                                  344.07   \n...                                   ...   \n9692                               263.11   \n9693                               974.50   \n9694                               314.43   \n9695                               452.56   \n9696                               301.67   \n\n      november_solar_energy_production_mwh  \\\n0                                   394.94   \n1                                   288.71   \n2                                   135.14   \n3                                   635.50   \n4                                   154.58   \n...                                    ...   \n9692                                121.44   \n9693                                449.77   \n9694                                145.12   \n9695                                208.87   \n9696                                139.23   \n\n      december_solar_energy_production_mwh  building_cost_mln_zl  \\\n0                                   229.32                 26.12   \n1                                   167.64                 19.09   \n2                                    78.47                  8.94   \n3                                   369.00                 42.03   \n4                                    89.76                 10.22   \n...                                    ...                   ...   \n9692                                 74.21                  6.92   \n9693                                274.86                 25.61   \n9694                                 88.69                  8.26   \n9695                                127.64                 11.89   \n9696                                 85.09                  7.93   \n\n      solar_radiation_difference_kw  energy_production_by_year_mwh  \n0                                97                       19084.59  \n1                                97                       13951.25  \n2                                96                        6534.47  \n3                                97                       30709.21  \n4                                89                        7509.70  \n...                             ...                            ...  \n9692                             19                        5316.24  \n9693                             19                       19689.87  \n9694                             19                        6353.10  \n9695                             19                        9143.98  \n9696                             19                        6095.25  \n\n[9697 rows x 20 columns]",
      "text/html": "<div>\n<style scoped>\n    .dataframe tbody tr th:only-of-type {\n        vertical-align: middle;\n    }\n\n    .dataframe tbody tr th {\n        vertical-align: top;\n    }\n\n    .dataframe thead th {\n        text-align: right;\n    }\n</style>\n<table border=\"1\" class=\"dataframe\">\n  <thead>\n    <tr style=\"text-align: right;\">\n      <th></th>\n      <th>id</th>\n      <th>area_km2</th>\n      <th>line_distance_km</th>\n      <th>road_distance_km</th>\n      <th>solar_energy_production_mwh</th>\n      <th>january_solar_energy_production_mwh</th>\n      <th>february_solar_energy_production_mwh</th>\n      <th>march_solar_energy_production_mwh</th>\n      <th>april_solar_energy_production_mwh</th>\n      <th>may_solar_energy_production_mwh</th>\n      <th>june_solar_energy_production_mwh</th>\n      <th>july_solar_energy_production_mwh</th>\n      <th>august_solar_energy_production_mwh</th>\n      <th>september_solar_energy_production_mwh</th>\n      <th>october_solar_energy_production_mwh</th>\n      <th>november_solar_energy_production_mwh</th>\n      <th>december_solar_energy_production_mwh</th>\n      <th>building_cost_mln_zl</th>\n      <th>solar_radiation_difference_kw</th>\n      <th>energy_production_by_year_mwh</th>\n    </tr>\n  </thead>\n  <tbody>\n    <tr>\n      <th>0</th>\n      <td>2.0</td>\n      <td>0.08</td>\n      <td>4.39e-01</td>\n      <td>0.00</td>\n      <td>12.74</td>\n      <td>331.24</td>\n      <td>751.66</td>\n      <td>1465.11</td>\n      <td>2229.51</td>\n      <td>2841.03</td>\n      <td>3095.83</td>\n      <td>2917.47</td>\n      <td>2356.91</td>\n      <td>1592.51</td>\n      <td>879.06</td>\n      <td>394.94</td>\n      <td>229.32</td>\n      <td>26.12</td>\n      <td>97</td>\n      <td>19084.59</td>\n    </tr>\n    <tr>\n      <th>1</th>\n      <td>4.0</td>\n      <td>0.06</td>\n      <td>7.86e-03</td>\n      <td>0.00</td>\n      <td>9.31</td>\n      <td>242.14</td>\n      <td>549.48</td>\n      <td>1071.02</td>\n      <td>1629.82</td>\n      <td>2076.86</td>\n      <td>2263.12</td>\n      <td>2132.73</td>\n      <td>1722.95</td>\n      <td>1164.16</td>\n      <td>642.61</td>\n      <td>288.71</td>\n      <td>167.64</td>\n      <td>19.09</td>\n      <td>97</td>\n      <td>13951.25</td>\n    </tr>\n    <tr>\n      <th>2</th>\n      <td>6.0</td>\n      <td>0.03</td>\n      <td>4.01e-01</td>\n      <td>0.05</td>\n      <td>4.36</td>\n      <td>113.34</td>\n      <td>252.83</td>\n      <td>501.31</td>\n      <td>767.22</td>\n      <td>976.46</td>\n      <td>1059.29</td>\n      <td>998.26</td>\n      <td>806.46</td>\n      <td>544.90</td>\n      <td>300.79</td>\n      <td>135.14</td>\n      <td>78.47</td>\n      <td>8.94</td>\n      <td>96</td>\n      <td>6534.47</td>\n    </tr>\n    <tr>\n      <th>3</th>\n      <td>7.0</td>\n      <td>0.13</td>\n      <td>1.21e-01</td>\n      <td>0.00</td>\n      <td>20.50</td>\n      <td>533.00</td>\n      <td>1209.51</td>\n      <td>2357.52</td>\n      <td>3587.52</td>\n      <td>4571.53</td>\n      <td>4981.53</td>\n      <td>4694.53</td>\n      <td>3792.53</td>\n      <td>2562.52</td>\n      <td>1414.51</td>\n      <td>635.50</td>\n      <td>369.00</td>\n      <td>42.03</td>\n      <td>97</td>\n      <td>30709.21</td>\n    </tr>\n    <tr>\n      <th>4</th>\n      <td>8.0</td>\n      <td>0.03</td>\n      <td>4.66e-01</td>\n      <td>0.00</td>\n      <td>4.99</td>\n      <td>129.65</td>\n      <td>294.20</td>\n      <td>578.44</td>\n      <td>882.61</td>\n      <td>1116.98</td>\n      <td>1216.71</td>\n      <td>1146.90</td>\n      <td>927.49</td>\n      <td>628.30</td>\n      <td>344.07</td>\n      <td>154.58</td>\n      <td>89.76</td>\n      <td>10.22</td>\n      <td>89</td>\n      <td>7509.70</td>\n    </tr>\n    <tr>\n      <th>...</th>\n      <td>...</td>\n      <td>...</td>\n      <td>...</td>\n      <td>...</td>\n      <td>...</td>\n      <td>...</td>\n      <td>...</td>\n      <td>...</td>\n      <td>...</td>\n      <td>...</td>\n      <td>...</td>\n      <td>...</td>\n      <td>...</td>\n      <td>...</td>\n      <td>...</td>\n      <td>...</td>\n      <td>...</td>\n      <td>...</td>\n      <td>...</td>\n      <td>...</td>\n    </tr>\n    <tr>\n      <th>9692</th>\n      <td>13019.0</td>\n      <td>0.02</td>\n      <td>1.95e-01</td>\n      <td>0.00</td>\n      <td>3.37</td>\n      <td>104.57</td>\n      <td>212.51</td>\n      <td>401.42</td>\n      <td>610.56</td>\n      <td>765.73</td>\n      <td>836.57</td>\n      <td>802.83</td>\n      <td>664.53</td>\n      <td>458.76</td>\n      <td>263.11</td>\n      <td>121.44</td>\n      <td>74.21</td>\n      <td>6.92</td>\n      <td>19</td>\n      <td>5316.24</td>\n    </tr>\n    <tr>\n      <th>9693</th>\n      <td>13020.0</td>\n      <td>0.08</td>\n      <td>0.00e+00</td>\n      <td>0.00</td>\n      <td>12.49</td>\n      <td>387.30</td>\n      <td>787.09</td>\n      <td>1486.73</td>\n      <td>2261.34</td>\n      <td>2836.04</td>\n      <td>3098.41</td>\n      <td>2973.47</td>\n      <td>2461.23</td>\n      <td>1699.13</td>\n      <td>974.50</td>\n      <td>449.77</td>\n      <td>274.86</td>\n      <td>25.61</td>\n      <td>19</td>\n      <td>19689.87</td>\n    </tr>\n    <tr>\n      <th>9694</th>\n      <td>13021.0</td>\n      <td>0.02</td>\n      <td>2.39e-01</td>\n      <td>0.00</td>\n      <td>4.03</td>\n      <td>124.97</td>\n      <td>253.96</td>\n      <td>479.71</td>\n      <td>729.64</td>\n      <td>915.07</td>\n      <td>999.73</td>\n      <td>959.41</td>\n      <td>794.14</td>\n      <td>548.24</td>\n      <td>314.43</td>\n      <td>145.12</td>\n      <td>88.69</td>\n      <td>8.26</td>\n      <td>19</td>\n      <td>6353.10</td>\n    </tr>\n    <tr>\n      <th>9695</th>\n      <td>13022.0</td>\n      <td>0.04</td>\n      <td>7.49e-02</td>\n      <td>0.00</td>\n      <td>5.80</td>\n      <td>179.86</td>\n      <td>365.53</td>\n      <td>690.44</td>\n      <td>1050.17</td>\n      <td>1317.06</td>\n      <td>1438.90</td>\n      <td>1380.88</td>\n      <td>1143.00</td>\n      <td>789.07</td>\n      <td>452.56</td>\n      <td>208.87</td>\n      <td>127.64</td>\n      <td>11.89</td>\n      <td>19</td>\n      <td>9143.98</td>\n    </tr>\n    <tr>\n      <th>9696</th>\n      <td>13023.0</td>\n      <td>0.02</td>\n      <td>4.29e-01</td>\n      <td>0.00</td>\n      <td>3.87</td>\n      <td>119.89</td>\n      <td>243.66</td>\n      <td>460.24</td>\n      <td>700.03</td>\n      <td>877.93</td>\n      <td>959.15</td>\n      <td>920.48</td>\n      <td>761.91</td>\n      <td>525.99</td>\n      <td>301.67</td>\n      <td>139.23</td>\n      <td>85.09</td>\n      <td>7.93</td>\n      <td>19</td>\n      <td>6095.25</td>\n    </tr>\n  </tbody>\n</table>\n<p>9697 rows × 20 columns</p>\n</div>"
     },
     "execution_count": 41,
     "metadata": {},
     "output_type": "execute_result"
    }
   ],
   "source": [
    "solar_radiation_photovoltaic_area_by_each_province['podlaskie']\n"
   ],
   "metadata": {
    "collapsed": false,
    "ExecuteTime": {
     "end_time": "2024-09-28T09:07:03.388911300Z",
     "start_time": "2024-09-28T09:07:03.246838900Z"
    }
   },
   "id": "4d55fe94b46d8ad1",
   "execution_count": 41
  },
  {
   "cell_type": "markdown",
   "source": [
    "# Function to Calculate Cost Parameters Based on Road and Line Distance\n",
    "\n",
    "We define a function that calculates cost parameters for road and power line distances for each province. The function normalizes the distances according to the following assumptions:\n",
    "- **Line distance**: Maximum allowed distance is 500 meters.\n",
    "- **Road distance**: 1 km is considered the base unit, and the cost increases with distance.\n",
    "\n",
    "Additionally, we calculate other parameters:\n",
    "- **Solar radiation difference parameter**: Normalized based on the minimum and maximum differences in solar radiation values.\n",
    "- **Energy production parameter**: Negative values are normalized for energy production to reflect higher costs for lower production.\n"
   ],
   "metadata": {
    "collapsed": false
   },
   "id": "2bb7bb92910a35d1"
  },
  {
   "cell_type": "code",
   "outputs": [],
   "source": [
    "def calculate_cost_parameters(province_data):\n",
    "    \"\"\"\n",
    "    Function to calculate cost parameters based on road and line distance for solar energy production.\n",
    "\n",
    "    Args:\n",
    "        province_data (pd.DataFrame): DataFrame containing the solar radiation data for a specific province.\n",
    "\n",
    "    Returns:\n",
    "        pd.DataFrame: Updated DataFrame with new cost parameters.\n",
    "    \"\"\"\n",
    "    # Calculate road and line distance parameters (normalization between 0 and 1)\n",
    "    parametr_line_distance = (province_data['line_distance_km'] - province_data['line_distance_km'].min()) / (province_data['line_distance_km'].max() - province_data['line_distance_km'].min())\n",
    "    parametr_road_distance = (province_data['road_distance_km'] - province_data['road_distance_km'].min()) / (province_data['road_distance_km'].max() - province_data['road_distance_km'].min())\n",
    "\n",
    "    # Assign normalized parameters to DataFrame\n",
    "    province_data['road_distance_cost_parametr'] = parametr_road_distance\n",
    "    province_data['line_distance_cost_parametr'] = parametr_line_distance\n",
    "\n",
    "    # Normalize solar radiation difference\n",
    "    province_data['solar_radiation_difference_parametr'] = (province_data['solar_radiation_difference_kw'] - province_data['solar_radiation_difference_kw'].min()) / (province_data['solar_radiation_difference_kw'].max() - province_data['solar_radiation_difference_kw'].min())\n",
    "    \n",
    "    # Copy DataFrame for temporary modification\n",
    "    temp_df = province_data.copy()\n",
    "    \n",
    "    # Convert energy production values to negative and normalize them\n",
    "    temp_df['energy_production_by_year_mwh'] = -1 * temp_df['energy_production_by_year_mwh']\n",
    "    province_data['solar_radiation_energy_parametr'] = (temp_df['energy_production_by_year_mwh'] - temp_df['energy_production_by_year_mwh'].min()) / (temp_df['energy_production_by_year_mwh'].max() - temp_df['energy_production_by_year_mwh'].min())\n",
    "    \n",
    "    return province_data\n",
    "\n",
    "# Apply the function to each province and update the corresponding DataFrame\n",
    "for province in provinces:    \n",
    "    df = solar_radiation_photovoltaic_area_by_each_province[province]\n",
    "    \n",
    "    # Calculate and update cost parameters for each province\n",
    "    solar_radiation_photovoltaic_area_by_each_province[province] = calculate_cost_parameters(df)\n"
   ],
   "metadata": {
    "collapsed": false,
    "ExecuteTime": {
     "end_time": "2024-09-28T09:07:59.292784200Z",
     "start_time": "2024-09-28T09:07:59.078290300Z"
    }
   },
   "id": "f688adb74913f679",
   "execution_count": 42
  },
  {
   "cell_type": "markdown",
   "source": [
    "# Optimization of Solar Panel Placement Based on Cost Parameters\n",
    "\n",
    "This code is designed to optimize the placement of solar panels based on four weighted cost parameters:\n",
    "- **`w_1`**: Weight for the distance from the road\n",
    "- **`w_2`**: Weight for the distance from power lines\n",
    "- **`w_3`**: Weight for the difference in solar radiation\n",
    "- **`w_4`**: Weight for the energy production potential in the area\n",
    "\n",
    "The objective function calculates a value based on the input weights for these parameters. The goal is to minimize the negative contribution of road and power line distances while maximizing solar radiation and energy production potential.\n",
    "\n",
    "The optimization process explores different combinations of these weights to find the best configuration.\n"
   ],
   "metadata": {
    "collapsed": false
   },
   "id": "85e54dbbbfcfa82c"
  },
  {
   "cell_type": "code",
   "outputs": [],
   "source": [
    "import numpy as np\n",
    "from scipy.optimize import minimize, Bounds\n",
    "\n",
    "# Weights for different parameters\n",
    "w_1 = 0.3  # Weight for road distance\n",
    "w_2 = 0.4  # Weight for line distance\n",
    "w_3 = 0.1  # Weight for solar radiation difference\n",
    "w_4 = 0.2  # Weight for energy production\n",
    "\n",
    "# Objective function definition\n",
    "def objective(x, weights):\n",
    "    \"\"\"\n",
    "    Objective function to minimize the placement costs for solar panels based on weighted parameters.\n",
    "\n",
    "    Args:\n",
    "        x (list): List of parameter values [road_distance, line_distance, solar_radiation_diff, energy_production].\n",
    "        weights (list): Weights for each parameter.\n",
    "\n",
    "    Returns:\n",
    "        float: Objective function value to minimize.\n",
    "    \"\"\"\n",
    "    return -weights[0] * x[0] - weights[1] * x[1] + weights[2] * x[2] + weights[3] * x[3]\n",
    "\n",
    "# Initial guesses for parameter values (starting point)\n",
    "initial_values = [0.5, 0.5, 0.5, 0.5]  \n",
    "\n",
    "# Bounds for the parameter values (0 to 1 range for normalization)\n",
    "bounds = Bounds([0, 0, 0, 0], [1, 1, 1, 1])  \n",
    "\n",
    "# Generate different sets of weights for exploration (combinations of weights in 0.4 increments)\n",
    "weight_sets = [(w1, w2, w3, w4) for w1 in np.linspace(w_1, w_1 + 0.4, 5)\n",
    "                                  for w2 in np.linspace(w_2, w_2 + 0.4, 5)\n",
    "                                  for w3 in np.linspace(w_3, w_3 + 0.4, 5)\n",
    "                                  for w4 in np.linspace(w_4, w_4 + 0.4, 5)]"
   ],
   "metadata": {
    "collapsed": false,
    "ExecuteTime": {
     "end_time": "2024-09-28T09:11:57.515660300Z",
     "start_time": "2024-09-28T09:11:45.597780300Z"
    }
   },
   "id": "fd3647780d76ff3d",
   "execution_count": 45
  },
  {
   "cell_type": "markdown",
   "source": [],
   "metadata": {
    "collapsed": false
   },
   "id": "35c9c7735c8eee71"
  },
  {
   "cell_type": "markdown",
   "source": [
    "# Calculating Objective Value for Solar Panel Placement by Province\n",
    "\n",
    "The function `calculate_objective` is used to compute an objective value for each province. This value is based on:\n",
    "- **`w1`**: Weight for the cost associated with road distance.\n",
    "- **`w2`**: Weight for the cost associated with the distance from power lines.\n",
    "- **`w3`**: Weight for the solar radiation difference.\n",
    "- **`w4`**: Weight for the energy production potential in the area.\n",
    "\n",
    "For each province, the objective value is calculated and stored as a new column in the dataset, allowing for comparison and further analysis.\n"
   ],
   "metadata": {
    "collapsed": false
   },
   "id": "91609e81886237d"
  },
  {
   "cell_type": "code",
   "outputs": [],
   "source": [
    "# Function to calculate the objective value based on the given weights and parameters\n",
    "def calculate_objective(row, w1, w2, w3, w4):\n",
    "    \"\"\"\n",
    "    Calculate the objective value for a given row based on weights for different parameters.\n",
    "\n",
    "    Args:\n",
    "        row (pd.Series): A row of data containing the parameters to calculate the objective value.\n",
    "        w1 (float): Weight for road distance cost parameter.\n",
    "        w2 (float): Weight for line distance cost parameter.\n",
    "        w3 (float): Weight for solar radiation difference parameter.\n",
    "        w4 (float): Weight for solar radiation energy parameter.\n",
    "\n",
    "    Returns:\n",
    "        float: The computed objective value for the row.\n",
    "    \"\"\"\n",
    "    return (-w1 * row['road_distance_cost_parametr'] - w2 * row['line_distance_cost_parametr']\n",
    "            + w3 * row['solar_radiation_difference_parametr'] + w4 * row['solar_radiation_energy_parametr'])\n",
    "\n",
    "# Iterate through each province and apply the objective value calculation\n",
    "for province in provinces:\n",
    "    # Add additional columns to the DataFrame for 'type' and 'province'\n",
    "    solar_radiation_photovoltaic_area_by_each_province[province]['type'] = 'solar'\n",
    "    solar_radiation_photovoltaic_area_by_each_province[province]['province'] = province\n",
    "\n",
    "    # Calculate the objective value for each row using the given weights\n",
    "    solar_radiation_photovoltaic_area_by_each_province[province]['objective_value'] = \\\n",
    "        solar_radiation_photovoltaic_area_by_each_province[province].apply(\n",
    "            calculate_objective, axis=1, args=(w_1, w_2, w_3, w_4)\n",
    "        )"
   ],
   "metadata": {
    "collapsed": false,
    "ExecuteTime": {
     "end_time": "2024-09-28T09:11:59.786653700Z",
     "start_time": "2024-09-28T09:11:57.519658200Z"
    }
   },
   "id": "cc10083ff46b4432",
   "execution_count": 46
  },
  {
   "cell_type": "markdown",
   "source": [
    "## 13. Dane na temat rocznego zuzycia energii w wojewodztwach"
   ],
   "metadata": {
    "collapsed": false
   },
   "id": "58e91072726c36a6"
  },
  {
   "cell_type": "code",
   "outputs": [],
   "source": [
    "#zuzycie energii wg gus wg wojewodztw\n",
    "energy_consumption_df = pd.read_csv('D:\\GEOWORLDLOOK\\OZE\\PILOT\\Data\\ENERGY_CONSUMPTION\\ENERGY_CONSUMPTION_BY_REGION.csv')\n",
    "\n",
    "#wybranie danych z 2022\n",
    "energy_consumption_df_2022 = energy_consumption_df[['wojewodztwa','2022']]\n",
    "\n",
    "#usuniecie 1 wiersza z suma dla calej polski\n",
    "energy_consumption_df_2022_by_region = energy_consumption_df_2022.drop(index = 0)\n",
    "\n",
    "\n",
    "\n",
    "#zamiana gW na tW\n",
    "energy_consumption_df_2022_by_region['2022'] = energy_consumption_df_2022_by_region['2022'] * 1e-3 \n",
    "energy_consumption_df_2022_by_region['wojewodztwa'] = energy_consumption_df_2022_by_region['wojewodztwa'].str.replace('-', '_').str.lower()\n",
    "energy_consumption_df_2022_by_region = energy_consumption_df_2022_by_region.rename(columns={'wojewodztwa': 'Province'})\n",
    "energy_consumption_df_2022_by_region = energy_consumption_df_2022_by_region.rename(columns={'2022': 'energy_consumption_2022'})\n",
    "energy_consumption_df_2022_by_region"
   ],
   "metadata": {
    "collapsed": false,
    "ExecuteTime": {
     "start_time": "2024-09-28T08:53:09.325035Z"
    }
   },
   "id": "dd1edfd90b729ead",
   "execution_count": null
  },
  {
   "cell_type": "markdown",
   "source": [
    "## 14. Zbiorczy wykres przedstawiający zużycie roczne z podziałem na poszczególne województwa oraz teoretyczną produkcję energii elektrycznej i wiatrowej dla wszystkich wyselekcjonowanych obszarów"
   ],
   "metadata": {
    "collapsed": false
   },
   "id": "f651b225eca71ea3"
  },
  {
   "cell_type": "code",
   "outputs": [],
   "source": [
    "# Łączenie danych na podstawie nazwy prowincji\n",
    "data_combined = pd.merge(df_solar, df_wind, on='Province', suffixes=('_solar_energy_production_mwh', '_wind_energy_production_mwh'))\n",
    "\n",
    "# Sumowanie danych miesięcznych dla energii słonecznej i wiatrowej\n",
    "monthly_solar = data_combined.loc[:, 'january_solar_energy_production_mwh':'december_solar_energy_production_mwh'].sum(axis=1)\n",
    "monthly_wind = data_combined.loc[:, 'january_wind_energy_production_mwh':'december_wind_energy_production_mwh'].sum(axis=1)\n",
    "\n",
    "#obliczenie sumy produkcji energii rocznej dla województw ze względu na liczbę turbin\n",
    "monthly_wind = monthly_wind# * df_wind['turbines_number'] \n",
    "# Tworzenie wykresu\n",
    "fig, ax1 = plt.subplots(figsize=(12, 8))\n",
    "\n",
    "# Wykres słupkowy dla powierzchni\n",
    "ax1.bar(data_combined['Province'], data_combined['solar_effective_area'], color='b', label='Solar Effective Area', width=0.4, align='center')\n",
    "ax1.bar(data_combined['Province'], data_combined['wind_area'], color='r', alpha=0.7, label='Wind Area', width=0.4, align='edge')\n",
    "ax1.set_ylabel('Area (km²)')\n",
    "ax1.set_title('Effective Area and Monthly Energy Production by Province')\n",
    "tick_locations = range(len(data_combined['Province']))  # Positions for each tick\n",
    "ax1.xaxis.set_major_locator(FixedLocator(tick_locations))\n",
    "ax1.set_xticklabels(data_combined['Province'],rotation = 90)\n",
    "ax1.legend(loc='upper left')\n",
    "\n",
    "# Wykres liniowy dla produkcji energii\n",
    "ax2 = ax1.twinx()\n",
    "ax2.plot(data_combined['Province'], monthly_solar * 1e-6, 'g-', label='Total Solar Production')\n",
    "ax2.plot(data_combined['Province'], monthly_wind * 1e-6, 'y-', label='Total Wind Production')\n",
    "ax2.plot(energy_consumption_df_2022_by_region['Province'], energy_consumption_df_2022_by_region['energy_consumption_2022'], 'r-', label = 'demand for electricity in Poland in 2022')\n",
    "\n",
    "ax2.set_ylabel('Total Energy Production (tW)')\n",
    "ax2.legend(loc='upper right')\n",
    "\n",
    "plt.show()"
   ],
   "metadata": {
    "collapsed": false,
    "ExecuteTime": {
     "start_time": "2024-09-28T08:53:09.338028100Z"
    }
   },
   "id": "a3c34637f58f738",
   "execution_count": null
  },
  {
   "cell_type": "markdown",
   "source": [
    "## 15. Suma produkcji solarnej i wiatrowej dla posczególnych województw\n"
   ],
   "metadata": {
    "collapsed": false
   },
   "id": "2296a67a2ec4aaec"
  },
  {
   "cell_type": "code",
   "outputs": [],
   "source": [
    "data_combined['sum_production_solar'] = data_combined.loc[:, 'january_solar_energy_production_mwh':'december_solar_energy_production_mwh'].sum(axis=1)\n",
    "data_combined['sum_production_wind'] = data_combined.loc[:, 'january_wind_energy_production_mwh':'december_wind_energy_production_mwh'].sum(axis=1)\n",
    "data_combined = pd.merge(data_combined, energy_consumption_df_2022_by_region, on='Province')\n",
    "data_combined"
   ],
   "metadata": {
    "collapsed": false,
    "ExecuteTime": {
     "start_time": "2024-09-28T08:53:09.357017900Z"
    }
   },
   "id": "7363818f8b4006bb",
   "execution_count": null
  },
  {
   "cell_type": "markdown",
   "source": [
    "## 16. Wybranie dla każdego obszaru miesiąca z najmniejszą produkcją prądu"
   ],
   "metadata": {
    "collapsed": false
   },
   "id": "f69171e2ee0636d9"
  },
  {
   "cell_type": "code",
   "outputs": [],
   "source": [
    "data_combined['energy_consumption_2022'].sum()"
   ],
   "metadata": {
    "collapsed": false,
    "ExecuteTime": {
     "start_time": "2024-09-28T08:53:09.361013800Z"
    }
   },
   "id": "58549eb9f1d697c9",
   "execution_count": null
  },
  {
   "cell_type": "code",
   "outputs": [],
   "source": [
    "data_combined['min_value_solar'] = data_combined[['january_solar_energy_production_mwh',\n",
    "       'february_solar_energy_production_mwh', 'march_solar_energy_production_mwh', 'april_solar_energy_production_mwh', 'may_solar_energy_production_mwh',\n",
    "       'june_solar_energy_production_mwh', 'july_solar_energy_production_mwh', 'august_solar_energy_production_mwh', 'september_solar_energy_production_mwh',\n",
    "       'october_solar_energy_production_mwh', 'november_solar_energy_production_mwh', 'december_solar_energy_production_mwh']].idxmin(axis=1) \n",
    "data_combined['min_value_wind'] = data_combined[['january_wind_energy_production_mwh', 'february_wind_energy_production_mwh', 'march_wind_energy_production_mwh',\n",
    "       'april_wind_energy_production_mwh', 'may_wind_energy_production_mwh', 'june_wind_energy_production_mwh', 'july_wind_energy_production_mwh', 'august_wind_energy_production_mwh',\n",
    "       'september_wind_energy_production_mwh', 'october_wind_energy_production_mwh', 'november_wind_energy_production_mwh', 'december_wind_energy_production_mwh']].idxmin(axis=1)\n",
    "data_combined"
   ],
   "metadata": {
    "collapsed": false,
    "ExecuteTime": {
     "start_time": "2024-09-28T08:53:09.365014600Z"
    }
   },
   "id": "bae97bb071ca120c",
   "execution_count": null
  },
  {
   "cell_type": "code",
   "outputs": [],
   "source": [],
   "metadata": {
    "collapsed": false,
    "ExecuteTime": {
     "start_time": "2024-09-28T08:53:09.370009800Z"
    }
   },
   "id": "3f43aebbe9aa1015",
   "execution_count": null
  },
  {
   "cell_type": "markdown",
   "source": [
    "## 17. Mając wybrane najmniejsze możliwości produkcyjne dla każdego województwa w najgorszym miesiacy szukamy takiej ilości, żeby zapewnić produkcję energii"
   ],
   "metadata": {
    "collapsed": false
   },
   "id": "195a7f832429e001"
  },
  {
   "cell_type": "code",
   "outputs": [],
   "source": [
    "#filtracja danych, które spełniają warunek wytworzenia prądu z paneli solarnych w najgorszym możliwym okresie (grudzien) aby zapewnić miesięczną produkcję prądu\n",
    "filtered_solar_radiation_photovoltaic_area_by_each_province = {}\n",
    "\n",
    "for province in provinces:\n",
    "    solar_radiation_photovoltaic_area_by_each_province[province] = solar_radiation_photovoltaic_area_by_each_province[province].sort_values(by = 'objective_value', ascending=False)\n",
    "    \n",
    "    #Wybranie wartości najmniejszej\n",
    "    row = data_combined[data_combined['Province'] == province]\n",
    "    column = row['min_value_solar'].iloc[0]\n",
    "    solar_radiation_photovoltaic_area_by_each_province[province]['cumsum_tw'] = (solar_radiation_photovoltaic_area_by_each_province[province][column].cumsum()) * 1e-6\n",
    "    \n",
    "    #produkcja w tw najoptymalniejszych miejsc wybranych z wskaznikow\n",
    "    # Tworzenie maski logicznej do momentu, gdy warunek jest spełniony\n",
    "    \n",
    "    row_min = energy_consumption_df_2022_by_region[energy_consumption_df_2022_by_region['Province'] == province]\n",
    "    value_min = row['energy_consumption_2022'].iloc[0] / 12\n",
    "    filtered_solar_radiation_photovoltaic_area_by_each_province[province]  = solar_radiation_photovoltaic_area_by_each_province[province][solar_radiation_photovoltaic_area_by_each_province[province]['cumsum_tw'] <value_min]\n"
   ],
   "metadata": {
    "collapsed": false,
    "ExecuteTime": {
     "start_time": "2024-09-28T08:53:09.375007100Z"
    }
   },
   "id": "7dfe829485ebd5f3",
   "execution_count": null
  },
  {
   "cell_type": "markdown",
   "source": [
    "## 18. Przedstawienie na wykresie jak kształtuje się proukcja energii wiatrowej na przestrzenii roku dla każdego z województw"
   ],
   "metadata": {
    "collapsed": false
   },
   "id": "4e12776932589e1"
  },
  {
   "cell_type": "code",
   "outputs": [],
   "source": [
    "df = pd.DataFrame(data = data_combined, columns = ['Province', 'january_wind_energy_production_mwh', 'february_wind_energy_production_mwh', 'march_wind_energy_production_mwh',\n",
    "       'april_wind_energy_production_mwh', 'may_wind_energy_production_mwh', 'june_wind_energy_production_mwh', 'july_wind_energy_production_mwh', 'august_wind_energy_production_mwh',\n",
    "       'september_wind_energy_production_mwh', 'october_wind_energy_production_mwh', 'november_wind_energy_production_mwh', 'december_wind_energy_production_mwh'])\n",
    "# Ustawienie kolumny 'Province' jako indeks\n",
    "df.set_index('Province', inplace=True)\n",
    "\n",
    "# Przygotowanie danych do wykresu\n",
    "months = df.columns  # Miesiące jako etykiety osi x\n",
    "plt.figure(figsize=(12, 8))\n",
    "\n",
    "# Rysowanie wykresu liniowego dla każdej prowincji\n",
    "for province in df.index:\n",
    "    plt.plot(months, df.loc[province], marker='o', label=province)\n",
    "\n",
    "# Konfiguracja wykresu\n",
    "plt.title('Produkcja energii w poszczególnych województwach')\n",
    "plt.xlabel('Miesiąc')\n",
    "plt.ylabel('Produkcja energii')\n",
    "plt.legend(title='Województwo')\n",
    "plt.xticks(rotation=45)  # Ułatwia czytanie nazw miesięcy\n",
    "plt.grid(True)\n",
    "plt.tight_layout()\n",
    "plt.show()"
   ],
   "metadata": {
    "collapsed": false,
    "ExecuteTime": {
     "start_time": "2024-09-28T08:53:09.379004Z"
    }
   },
   "id": "c72a53ab5acd2d12",
   "execution_count": null
  },
  {
   "cell_type": "markdown",
   "source": [
    "## 19. Obliczenie dla każdego obszaru pod farmę wiatrową możliwości produkcyjnych oraz kosztów budowy"
   ],
   "metadata": {
    "collapsed": false
   },
   "id": "ad9f9035c75d1a39"
  },
  {
   "cell_type": "code",
   "outputs": [],
   "source": [
    "month_days = {\n",
    "    \"january\": 31,\n",
    "    \"february\": 28,\n",
    "    \"march\": 31,\n",
    "    \"april\": 30,\n",
    "    \"may\": 31,\n",
    "    \"june\": 30,\n",
    "    \"july\": 31,\n",
    "    \"august\": 31,\n",
    "    \"september\": 30,\n",
    "    \"october\": 31,\n",
    "    \"november\": 30,\n",
    "    \"december\": 31\n",
    "}\n",
    "\n",
    "#dodanie atrybutow do obliczenia wskaznikow\n",
    "#dystans od linii energetycznych\n",
    "#koszt budowy 1 mW to 5-7 mln zl, przyjmujemy 6 wg  Polskiej Agencji Informacji i Inwestycji Zagranicznych.\n",
    "\n",
    "wind_energy_production_by_each_province = {}\n",
    "wind_farm_cost_by_mw = 6\n",
    "for province in provinces:\n",
    "    cumulative_df = pd.DataFrame()\n",
    "    for month, days in month_days.items():\n",
    "        table_name_wind = f\"wind_speed_area_{province}\"\n",
    "        \n",
    "\n",
    "\n",
    "        query = (\n",
    "    f\"SELECT \"\n",
    "    f\"id, \"\n",
    "    f\"area * 1e-6 as area_km2, \"\n",
    "    f\"distance * 1e-3 as line_distance_km, \"\n",
    "    f\"CASE \"\n",
    "    f\"WHEN {month} > {minimum_wind_speed} THEN \"\n",
    "    f\"(((({month} * 24 * {days}) / {maximum_wind_speed}) * {maximum_power_generate}) * (area * 1e-6 * {turbine_number_for_area})) \"  # to są jednostki mW\n",
    "    f\"ELSE 0 \"\n",
    "    f\"END AS {month} \"\n",
    "    f\"FROM {table_name_wind} \"\n",
    "    f\"WHERE area * 1e-6 > {(1 / turbine_number_for_area)}\" # 1 km2 / 3 turbines for 1 km^2\n",
    ")\n",
    "\n",
    "        # result to pandas\n",
    "        result_df = pd.read_sql(query, conn)\n",
    "\n",
    "        if cumulative_df.empty:\n",
    "            cumulative_df = result_df\n",
    "        else:\n",
    "            # Inaczej, złącz na podstawie kolumny 'id'\n",
    "            cumulative_df = pd.merge(cumulative_df, result_df[['id', month]], on='id', how='left')\n",
    "\n",
    "        wind_energy_production_by_each_province[province] = cumulative_df \n",
    "\n",
    "    wind_energy_production_by_each_province[province]['energy_production_by_year_mwh'] = wind_energy_production_by_each_province[province][['january','february', 'march', 'april','june','july','august','september','october', 'november','december']].sum(axis = 1)\n",
    "    wind_energy_production_by_each_province[province]['building_cost_mln_zl'] = wind_energy_production_by_each_province[province]['energy_production_by_year_mwh'] * wind_farm_cost_by_mw\n",
    "    "
   ],
   "metadata": {
    "collapsed": false,
    "ExecuteTime": {
     "start_time": "2024-09-28T08:53:09.383001700Z"
    }
   },
   "id": "c6f9646675abc83c",
   "execution_count": null
  },
  {
   "cell_type": "markdown",
   "source": [
    "## 20. Obliczenie wskażników atrakcyjności obszaru dla farm wiatrowych"
   ],
   "metadata": {
    "collapsed": false
   },
   "id": "324d8b928618cc5c"
  },
  {
   "cell_type": "code",
   "outputs": [],
   "source": [
    "for province in provinces:    \n",
    "    wind_energy_production_by_each_province[province]\n",
    "    \n",
    "    #syntetyczny parametr, ktory wykazuje wzrost kosztów w zależności od odległości od drogi. Można to dowolnie parametryzować i obliczać realne koszty\n",
    "    parametr_line_distance = (wind_energy_production_by_each_province[province]['line_distance_km'] - min(wind_energy_production_by_each_province[province]['line_distance_km'])) / (max(result_df['line_distance_km']) - min(result_df['line_distance_km']))\n",
    "\n",
    "\n",
    "    wind_energy_production_by_each_province[province]['line_distance_cost_parametr'] = parametr_line_distance\n",
    "    #normalizacja\n",
    "    #poprawic wszystkie wg tego schematu lub napisać funkcję\n",
    "    wind_energy_production_by_each_province[province]['difference_wind_production_for_km2'] =(wind_energy_production_by_each_province[province]['energy_production_by_year_mwh']/wind_energy_production_by_each_province[province]['area_km2'] - min((wind_energy_production_by_each_province[province]['energy_production_by_year_mwh']/wind_energy_production_by_each_province[province]['area_km2']) - wind_energy_production_by_each_province[province]['energy_production_by_year_mwh']/wind_energy_production_by_each_province[province]['area_km2']))/ (\n",
    "    max((wind_energy_production_by_each_province[province]['energy_production_by_year_mwh']/wind_energy_production_by_each_province[province]['area_km2']) - min(wind_energy_production_by_each_province[province]['energy_production_by_year_mwh']/wind_energy_production_by_each_province[province]['area_km2'])))\n",
    "\n",
    "#waga_1 waga odleglosci od drogi\n",
    "w_1 = 0.3\n",
    "\n",
    "#waga_2 odleglosc od linii energetycznych\n",
    "w_2 = 0.4\n",
    "\n",
    "#waga_3 roznica w ilosci promieniowania \n",
    "w_3 = 0.1\n",
    "\n",
    "#waga_4 ilosc energii, ktora mozna wyprodukowac w tym obszarze\n",
    "w_4 = 0.2\n",
    "\n",
    "\n",
    "def calculate_objective_wind(row, w1, w2):\n",
    "    return -w1 * row['line_distance_cost_parametr'] \\\n",
    "            +w2 * row['difference_wind_production_for_km2']\n",
    "\n",
    "for province in provinces:\n",
    "    wind_energy_production_by_each_province[province]['type'] = 'wind'\n",
    "    wind_energy_production_by_each_province[province]['province'] = province\n",
    "    wind_energy_production_by_each_province[province]['objective_value'] = wind_energy_production_by_each_province[province].apply(calculate_objective_wind, axis=1, args=(w_1, w_4))"
   ],
   "metadata": {
    "collapsed": false,
    "ExecuteTime": {
     "start_time": "2024-09-28T08:53:09.387998600Z"
    }
   },
   "id": "3148ab3e388894ae",
   "execution_count": null
  },
  {
   "cell_type": "markdown",
   "source": [
    "## 21. Zebranie danych o farmach wiatrowych i solarnych w jedną zmienna"
   ],
   "metadata": {
    "collapsed": false
   },
   "id": "8468295aeed9d444"
  },
  {
   "cell_type": "code",
   "outputs": [],
   "source": [
    "df_area_solar_wind = {}\n",
    "comb_all_area_solar_wind = pd.DataFrame()\n",
    "for province in provinces:\n",
    "    \n",
    "    #filtered, bo to sa minimalne powierzchnie dla zapewnienia produkcji\n",
    "    df_solar_area = filtered_solar_radiation_photovoltaic_area_by_each_province[province][['id','province','type', 'area_km2','objective_value','building_cost_mln_zl','energy_production_by_year_mwh',\n",
    "        'january_solar_energy_production_mwh',\n",
    "       'february_solar_energy_production_mwh',\n",
    "       'march_solar_energy_production_mwh',\n",
    "       'april_solar_energy_production_mwh', 'may_solar_energy_production_mwh',\n",
    "       'june_solar_energy_production_mwh', 'july_solar_energy_production_mwh',\n",
    "       'august_solar_energy_production_mwh',\n",
    "       'september_solar_energy_production_mwh',\n",
    "       'october_solar_energy_production_mwh',\n",
    "       'november_solar_energy_production_mwh',\n",
    "       'december_solar_energy_production_mwh']].rename(columns={\n",
    "            'january_solar_energy_production_mwh': 'january',\n",
    "            'february_solar_energy_production_mwh': 'february',\n",
    "            'march_solar_energy_production_mwh': 'march',\n",
    "            'april_solar_energy_production_mwh': 'april',\n",
    "            'may_solar_energy_production_mwh': 'may',\n",
    "            'june_solar_energy_production_mwh': 'june',\n",
    "            'july_solar_energy_production_mwh': 'july',\n",
    "            'august_solar_energy_production_mwh': 'august',\n",
    "            'september_solar_energy_production_mwh': 'september',\n",
    "            'october_solar_energy_production_mwh': 'october',\n",
    "            'november_solar_energy_production_mwh': 'november',\n",
    "            'december_solar_energy_production_mwh': 'december'\n",
    "        })\n",
    "\n",
    "    # Wybieranie odpowiednich kolumn dla wind #farmy wiatrowe jako wspomaganie\n",
    "    wind_energy_production_by_each_province['dolnoslaskie'].columns\n",
    "    df_wind_area = wind_energy_production_by_each_province[province][['id','province','type', 'area_km2','objective_value','building_cost_mln_zl','energy_production_by_year_mwh','january', 'february', 'march',\n",
    "       'april', 'may', 'june', 'july', 'august', 'september', 'october',\n",
    "       'november', 'december']]\n",
    "    \n",
    "    # Konkatenacja danych dla danej prowincji (łączenie wierszy)\n",
    "    df_area_solar_wind[province] = pd.concat([df_solar_area, df_wind_area], ignore_index=True)\n",
    "    comb_all_area_solar_wind = pd.concat([comb_all_area_solar_wind, df_area_solar_wind[province]], ignore_index=True)\n",
    "    \n",
    "#Posortowanie danych według atrakcyjności\n",
    "comb_all_area_solar_wind = comb_all_area_solar_wind.sort_values(by = 'objective_value', ascending=False)\n",
    "\n",
    "#Dodanie kolumny z całkowitą produkcją energii dla wybranych obszarów według atrakcyjności\n",
    "comb_all_area_solar_wind['all_solar_wind_cumsum_twh'] = comb_all_area_solar_wind['energy_production_by_year_mwh'].cumsum() * 1e-6 #tWh\n"
   ],
   "metadata": {
    "collapsed": false,
    "ExecuteTime": {
     "start_time": "2024-09-28T08:53:09.392995700Z"
    }
   },
   "id": "738378839030e22c",
   "execution_count": null
  },
  {
   "cell_type": "markdown",
   "source": [
    "## 21. Wykres przedstawiający produkcję energii i zapotrzebowanie "
   ],
   "metadata": {
    "collapsed": false
   },
   "id": "f06a83c694e8e2d1"
  },
  {
   "cell_type": "code",
   "outputs": [
    {
     "ename": "NameError",
     "evalue": "name 'df_area_solar_wind' is not defined",
     "output_type": "error",
     "traceback": [
      "\u001B[1;31m---------------------------------------------------------------------------\u001B[0m",
      "\u001B[1;31mNameError\u001B[0m                                 Traceback (most recent call last)",
      "Cell \u001B[1;32mIn[21], line 6\u001B[0m\n\u001B[0;32m      2\u001B[0m fig, ax1 \u001B[38;5;241m=\u001B[39m plt\u001B[38;5;241m.\u001B[39msubplots(figsize\u001B[38;5;241m=\u001B[39m(\u001B[38;5;241m12\u001B[39m, \u001B[38;5;241m8\u001B[39m))\n\u001B[0;32m      4\u001B[0m \u001B[38;5;28;01mfor\u001B[39;00m province \u001B[38;5;129;01min\u001B[39;00m provinces:\n\u001B[1;32m----> 6\u001B[0m     ax1\u001B[38;5;241m.\u001B[39mbar(province, \u001B[43mdf_area_solar_wind\u001B[49m[province][\u001B[38;5;124m'\u001B[39m\u001B[38;5;124menergy_production_by_year_mwh\u001B[39m\u001B[38;5;124m'\u001B[39m]\u001B[38;5;241m.\u001B[39msum() \u001B[38;5;241m*\u001B[39m \u001B[38;5;241m1e-6\u001B[39m) \u001B[38;5;66;03m#twh\u001B[39;00m\n\u001B[0;32m      8\u001B[0m plt\u001B[38;5;241m.\u001B[39mxticks(rotation\u001B[38;5;241m=\u001B[39m\u001B[38;5;241m90\u001B[39m)  \u001B[38;5;66;03m# Ułatwia czytanie nazw miesięcy\u001B[39;00m\n\u001B[0;32m      9\u001B[0m plt\u001B[38;5;241m.\u001B[39mgrid(\u001B[38;5;28;01mTrue\u001B[39;00m)\n",
      "\u001B[1;31mNameError\u001B[0m: name 'df_area_solar_wind' is not defined"
     ]
    },
    {
     "data": {
      "text/plain": "<Figure size 1200x800 with 1 Axes>",
      "image/png": "[encoded data removed]"
     },
     "metadata": {},
     "output_type": "display_data"
    }
   ],
   "source": [
    "# Tworzenie wykresu\n",
    "fig, ax1 = plt.subplots(figsize=(12, 8))\n",
    "\n",
    "for province in provinces:\n",
    "    \n",
    "    ax1.bar(province, df_area_solar_wind[province]['energy_production_by_year_mwh'].sum() * 1e-6) #twh\n",
    "    \n",
    "plt.xticks(rotation=90)  # Ułatwia czytanie nazw miesięcy\n",
    "plt.grid(True)\n",
    "plt.plot(data_combined['Province'],data_combined['energy_consumption_2022'], color = 'red')\n",
    "\n",
    "plt.title('Wykres przedstawiający możliwości produkcyjne prądu dla każdego województwa w najgorszymi miesiącu pod względem możliwości wytwórczych')\n",
    "plt.show()    "
   ],
   "metadata": {
    "collapsed": false,
    "ExecuteTime": {
     "start_time": "2024-09-28T08:53:09.619754200Z"
    }
   },
   "id": "2a0531e24334a04e",
   "execution_count": 21
  },
  {
   "cell_type": "code",
   "outputs": [
    {
     "ename": "NameError",
     "evalue": "name 'df_area_solar_wind' is not defined",
     "output_type": "error",
     "traceback": [
      "\u001B[1;31m---------------------------------------------------------------------------\u001B[0m",
      "\u001B[1;31mNameError\u001B[0m                                 Traceback (most recent call last)",
      "Cell \u001B[1;32mIn[22], line 1\u001B[0m\n\u001B[1;32m----> 1\u001B[0m \u001B[43mdf_area_solar_wind\u001B[49m[\u001B[38;5;124m'\u001B[39m\u001B[38;5;124mpodlaskie\u001B[39m\u001B[38;5;124m'\u001B[39m]\n",
      "\u001B[1;31mNameError\u001B[0m: name 'df_area_solar_wind' is not defined"
     ]
    }
   ],
   "source": [
    "df_area_solar_wind['podlaskie']"
   ],
   "metadata": {
    "collapsed": false,
    "ExecuteTime": {
     "end_time": "2024-09-28T08:53:11.478035800Z",
     "start_time": "2024-09-28T08:53:10.451229900Z"
    }
   },
   "id": "357958a20895b3ad",
   "execution_count": 22
  },
  {
   "cell_type": "code",
   "outputs": [
    {
     "ename": "NameError",
     "evalue": "name 'comb_all_area_solar_wind' is not defined",
     "output_type": "error",
     "traceback": [
      "\u001B[1;31m---------------------------------------------------------------------------\u001B[0m",
      "\u001B[1;31mNameError\u001B[0m                                 Traceback (most recent call last)",
      "Cell \u001B[1;32mIn[23], line 1\u001B[0m\n\u001B[1;32m----> 1\u001B[0m \u001B[43mcomb_all_area_solar_wind\u001B[49m[\u001B[38;5;124m'\u001B[39m\u001B[38;5;124mdecember\u001B[39m\u001B[38;5;124m'\u001B[39m]\u001B[38;5;241m.\u001B[39msum()\u001B[38;5;241m*\u001B[39m\u001B[38;5;241m1e-6\u001B[39m\n",
      "\u001B[1;31mNameError\u001B[0m: name 'comb_all_area_solar_wind' is not defined"
     ]
    }
   ],
   "source": [
    "comb_all_area_solar_wind['december'].sum()*1e-6"
   ],
   "metadata": {
    "collapsed": false,
    "ExecuteTime": {
     "start_time": "2024-09-28T08:53:11.094797200Z"
    }
   },
   "id": "19c45609181dc386",
   "execution_count": 23
  },
  {
   "cell_type": "code",
   "outputs": [
    {
     "ename": "NameError",
     "evalue": "name 'comb_all_area_solar_wind' is not defined",
     "output_type": "error",
     "traceback": [
      "\u001B[1;31m---------------------------------------------------------------------------\u001B[0m",
      "\u001B[1;31mNameError\u001B[0m                                 Traceback (most recent call last)",
      "Cell \u001B[1;32mIn[24], line 1\u001B[0m\n\u001B[1;32m----> 1\u001B[0m \u001B[38;5;28;01mfor\u001B[39;00m i \u001B[38;5;129;01min\u001B[39;00m \u001B[43mcomb_all_area_solar_wind\u001B[49m:\n\u001B[0;32m      2\u001B[0m     \u001B[38;5;28mprint\u001B[39m(i) \n",
      "\u001B[1;31mNameError\u001B[0m: name 'comb_all_area_solar_wind' is not defined"
     ]
    }
   ],
   "source": [
    "for i in comb_all_area_solar_wind:\n",
    "    print(i) "
   ],
   "metadata": {
    "collapsed": false,
    "ExecuteTime": {
     "end_time": "2024-09-28T08:53:12.001099100Z",
     "start_time": "2024-09-28T08:53:11.663522100Z"
    }
   },
   "id": "d446ffa84457743d",
   "execution_count": 24
  },
  {
   "cell_type": "code",
   "outputs": [
    {
     "ename": "NameError",
     "evalue": "name 'comb_all_area_solar_wind' is not defined",
     "output_type": "error",
     "traceback": [
      "\u001B[1;31m---------------------------------------------------------------------------\u001B[0m",
      "\u001B[1;31mNameError\u001B[0m                                 Traceback (most recent call last)",
      "Cell \u001B[1;32mIn[25], line 1\u001B[0m\n\u001B[1;32m----> 1\u001B[0m df \u001B[38;5;241m=\u001B[39m \u001B[43mcomb_all_area_solar_wind\u001B[49m\n\u001B[0;32m      3\u001B[0m \u001B[38;5;66;03m# # Grupa na podstawie 'id' i sprawdzenie, czy w 'province' lub 'type' są różne wartości\u001B[39;00m\n\u001B[0;32m      4\u001B[0m \u001B[38;5;66;03m# df_grouped = df.groupby('id').filter(lambda x: x['province'].nunique() > 1 or x['type'].nunique() > 1)\u001B[39;00m\n\u001B[0;32m      5\u001B[0m \u001B[38;5;66;03m# \u001B[39;00m\n\u001B[0;32m      6\u001B[0m \u001B[38;5;66;03m# # Teraz usuniemy duplikaty 'id', zachowując tylko pierwsze wystąpienie\u001B[39;00m\n\u001B[0;32m      7\u001B[0m \u001B[38;5;66;03m# df_unique = df_grouped.drop_duplicates(subset=[['id','province','type']])\u001B[39;00m\n",
      "\u001B[1;31mNameError\u001B[0m: name 'comb_all_area_solar_wind' is not defined"
     ]
    }
   ],
   "source": [
    "df = comb_all_area_solar_wind\n",
    "\n",
    "# # Grupa na podstawie 'id' i sprawdzenie, czy w 'province' lub 'type' są różne wartości\n",
    "# df_grouped = df.groupby('id').filter(lambda x: x['province'].nunique() > 1 or x['type'].nunique() > 1)\n",
    "# \n",
    "# # Teraz usuniemy duplikaty 'id', zachowując tylko pierwsze wystąpienie\n",
    "# df_unique = df_grouped.drop_duplicates(subset=[['id','province','type']])"
   ],
   "metadata": {
    "collapsed": false,
    "ExecuteTime": {
     "start_time": "2024-09-28T08:53:11.968872300Z"
    }
   },
   "id": "2825706450c8d690",
   "execution_count": 25
  },
  {
   "cell_type": "code",
   "outputs": [
    {
     "ename": "NameError",
     "evalue": "name 'df' is not defined",
     "output_type": "error",
     "traceback": [
      "\u001B[1;31m---------------------------------------------------------------------------\u001B[0m",
      "\u001B[1;31mNameError\u001B[0m                                 Traceback (most recent call last)",
      "Cell \u001B[1;32mIn[26], line 1\u001B[0m\n\u001B[1;32m----> 1\u001B[0m df_unique \u001B[38;5;241m=\u001B[39m \u001B[43mdf\u001B[49m\u001B[38;5;241m.\u001B[39mdrop_duplicates(subset\u001B[38;5;241m=\u001B[39m[\u001B[38;5;124m'\u001B[39m\u001B[38;5;124mid\u001B[39m\u001B[38;5;124m'\u001B[39m, \u001B[38;5;124m'\u001B[39m\u001B[38;5;124mprovince\u001B[39m\u001B[38;5;124m'\u001B[39m, \u001B[38;5;124m'\u001B[39m\u001B[38;5;124mtype\u001B[39m\u001B[38;5;124m'\u001B[39m],keep\u001B[38;5;241m=\u001B[39m\u001B[38;5;124m'\u001B[39m\u001B[38;5;124mfirst\u001B[39m\u001B[38;5;124m'\u001B[39m)\n",
      "\u001B[1;31mNameError\u001B[0m: name 'df' is not defined"
     ]
    }
   ],
   "source": [
    "df_unique = df.drop_duplicates(subset=['id', 'province', 'type'],keep='first')"
   ],
   "metadata": {
    "collapsed": false,
    "ExecuteTime": {
     "end_time": "2024-09-28T08:53:12.332595700Z",
     "start_time": "2024-09-28T08:53:12.093452200Z"
    }
   },
   "id": "400c2ff517e91691",
   "execution_count": 26
  },
  {
   "cell_type": "code",
   "outputs": [
    {
     "ename": "NameError",
     "evalue": "name 'df_unique' is not defined",
     "output_type": "error",
     "traceback": [
      "\u001B[1;31m---------------------------------------------------------------------------\u001B[0m",
      "\u001B[1;31mNameError\u001B[0m                                 Traceback (most recent call last)",
      "Cell \u001B[1;32mIn[27], line 1\u001B[0m\n\u001B[1;32m----> 1\u001B[0m \u001B[43mdf_unique\u001B[49m\n",
      "\u001B[1;31mNameError\u001B[0m: name 'df_unique' is not defined"
     ]
    }
   ],
   "source": [
    "df_unique"
   ],
   "metadata": {
    "collapsed": false,
    "ExecuteTime": {
     "start_time": "2024-09-28T08:53:12.309099700Z"
    }
   },
   "id": "9f9568c3c76006ff",
   "execution_count": 27
  },
  {
   "cell_type": "code",
   "outputs": [],
   "source": [],
   "metadata": {
    "collapsed": false,
    "ExecuteTime": {
     "end_time": "2024-09-28T08:53:12.671063200Z",
     "start_time": "2024-09-28T08:53:12.494779200Z"
    }
   },
   "id": "a17418801df06b42",
   "execution_count": 27
  },
  {
   "cell_type": "code",
   "outputs": [
    {
     "ename": "NameError",
     "evalue": "name 'comb_all_area_solar_wind' is not defined",
     "output_type": "error",
     "traceback": [
      "\u001B[1;31m---------------------------------------------------------------------------\u001B[0m",
      "\u001B[1;31mNameError\u001B[0m                                 Traceback (most recent call last)",
      "Cell \u001B[1;32mIn[28], line 1\u001B[0m\n\u001B[1;32m----> 1\u001B[0m duplicated_rows \u001B[38;5;241m=\u001B[39m \u001B[43mcomb_all_area_solar_wind\u001B[49m\u001B[38;5;241m.\u001B[39mduplicated(subset\u001B[38;5;241m=\u001B[39m[\u001B[38;5;124m'\u001B[39m\u001B[38;5;124mid\u001B[39m\u001B[38;5;124m'\u001B[39m, \u001B[38;5;124m'\u001B[39m\u001B[38;5;124mprovince\u001B[39m\u001B[38;5;124m'\u001B[39m, \u001B[38;5;124m'\u001B[39m\u001B[38;5;124mtype\u001B[39m\u001B[38;5;124m'\u001B[39m])\n\u001B[0;32m      3\u001B[0m \u001B[38;5;66;03m# Wybranie tylko tych wierszy, które są duplikatami\u001B[39;00m\n\u001B[0;32m      4\u001B[0m df_duplicates \u001B[38;5;241m=\u001B[39m comb_all_area_solar_wind[duplicated_rows]\n",
      "\u001B[1;31mNameError\u001B[0m: name 'comb_all_area_solar_wind' is not defined"
     ]
    }
   ],
   "source": [
    "duplicated_rows = comb_all_area_solar_wind.duplicated(subset=['id', 'province', 'type'])\n",
    "\n",
    "# Wybranie tylko tych wierszy, które są duplikatami\n",
    "df_duplicates = comb_all_area_solar_wind[duplicated_rows]\n",
    "df_duplicates"
   ],
   "metadata": {
    "collapsed": false,
    "ExecuteTime": {
     "end_time": "2024-09-28T08:53:12.850726100Z",
     "start_time": "2024-09-28T08:53:12.647078600Z"
    }
   },
   "id": "597081982a915073",
   "execution_count": 28
  },
  {
   "cell_type": "code",
   "outputs": [
    {
     "ename": "NameError",
     "evalue": "name 'df' is not defined",
     "output_type": "error",
     "traceback": [
      "\u001B[1;31m---------------------------------------------------------------------------\u001B[0m",
      "\u001B[1;31mNameError\u001B[0m                                 Traceback (most recent call last)",
      "Cell \u001B[1;32mIn[29], line 1\u001B[0m\n\u001B[1;32m----> 1\u001B[0m df_grouped \u001B[38;5;241m=\u001B[39m \u001B[43mdf\u001B[49m\u001B[38;5;241m.\u001B[39mgroupby(\u001B[38;5;124m'\u001B[39m\u001B[38;5;124mprovince\u001B[39m\u001B[38;5;124m'\u001B[39m)\n\u001B[0;32m      2\u001B[0m df_grouped\n",
      "\u001B[1;31mNameError\u001B[0m: name 'df' is not defined"
     ]
    }
   ],
   "source": [
    "df_grouped = df.groupby('province')\n",
    "df_grouped"
   ],
   "metadata": {
    "collapsed": false,
    "ExecuteTime": {
     "start_time": "2024-09-28T08:53:12.814705Z"
    }
   },
   "id": "284581bd28eb7855",
   "execution_count": 29
  },
  {
   "cell_type": "code",
   "outputs": [
    {
     "ename": "NameError",
     "evalue": "name 'df_area_solar_wind' is not defined",
     "output_type": "error",
     "traceback": [
      "\u001B[1;31m---------------------------------------------------------------------------\u001B[0m",
      "\u001B[1;31mNameError\u001B[0m                                 Traceback (most recent call last)",
      "Cell \u001B[1;32mIn[30], line 1\u001B[0m\n\u001B[1;32m----> 1\u001B[0m \u001B[43mdf_area_solar_wind\u001B[49m[\u001B[38;5;124m'\u001B[39m\u001B[38;5;124mpomorskie\u001B[39m\u001B[38;5;124m'\u001B[39m]\n",
      "\u001B[1;31mNameError\u001B[0m: name 'df_area_solar_wind' is not defined"
     ]
    }
   ],
   "source": [
    "df_area_solar_wind['pomorskie']"
   ],
   "metadata": {
    "collapsed": false,
    "ExecuteTime": {
     "end_time": "2024-09-28T08:53:13.233153700Z",
     "start_time": "2024-09-28T08:53:12.900797900Z"
    }
   },
   "id": "bffd6d20a5089be8",
   "execution_count": 30
  },
  {
   "cell_type": "code",
   "outputs": [
    {
     "ename": "NameError",
     "evalue": "name 'solar_radiation_photovoltaic_area_by_each_province' is not defined",
     "output_type": "error",
     "traceback": [
      "\u001B[1;31m---------------------------------------------------------------------------\u001B[0m",
      "\u001B[1;31mNameError\u001B[0m                                 Traceback (most recent call last)",
      "Cell \u001B[1;32mIn[31], line 1\u001B[0m\n\u001B[1;32m----> 1\u001B[0m \u001B[43msolar_radiation_photovoltaic_area_by_each_province\u001B[49m[\u001B[38;5;124m'\u001B[39m\u001B[38;5;124mdolnoslaskie\u001B[39m\u001B[38;5;124m'\u001B[39m][solar_radiation_photovoltaic_area_by_each_province[\u001B[38;5;124m'\u001B[39m\u001B[38;5;124mdolnoslaskie\u001B[39m\u001B[38;5;124m'\u001B[39m][\u001B[38;5;124m'\u001B[39m\u001B[38;5;124mid\u001B[39m\u001B[38;5;124m'\u001B[39m]\u001B[38;5;241m==\u001B[39m\u001B[38;5;241m4029\u001B[39m]\n",
      "\u001B[1;31mNameError\u001B[0m: name 'solar_radiation_photovoltaic_area_by_each_province' is not defined"
     ]
    }
   ],
   "source": [
    "solar_radiation_photovoltaic_area_by_each_province['dolnoslaskie'][solar_radiation_photovoltaic_area_by_each_province['dolnoslaskie']['id']==4029]"
   ],
   "metadata": {
    "collapsed": false,
    "ExecuteTime": {
     "start_time": "2024-09-28T08:53:13.181008400Z"
    }
   },
   "id": "ea0dc62a23d38729",
   "execution_count": 31
  },
  {
   "cell_type": "code",
   "outputs": [
    {
     "ename": "NameError",
     "evalue": "name 'solar_radiation_photovoltaic_area_by_each_province' is not defined",
     "output_type": "error",
     "traceback": [
      "\u001B[1;31m---------------------------------------------------------------------------\u001B[0m",
      "\u001B[1;31mNameError\u001B[0m                                 Traceback (most recent call last)",
      "Cell \u001B[1;32mIn[32], line 4\u001B[0m\n\u001B[0;32m      2\u001B[0m b \u001B[38;5;241m=\u001B[39m \u001B[38;5;241m0\u001B[39m\n\u001B[0;32m      3\u001B[0m \u001B[38;5;28;01mfor\u001B[39;00m province \u001B[38;5;129;01min\u001B[39;00m provinces:\n\u001B[1;32m----> 4\u001B[0m     a \u001B[38;5;241m+\u001B[39m\u001B[38;5;241m=\u001B[39m\u001B[43msolar_radiation_photovoltaic_area_by_each_province\u001B[49m[province]\u001B[38;5;241m.\u001B[39mshape[\u001B[38;5;241m0\u001B[39m]\n\u001B[0;32m      5\u001B[0m     b \u001B[38;5;241m+\u001B[39m\u001B[38;5;241m=\u001B[39m wind_energy_production_by_each_province[province]\u001B[38;5;241m.\u001B[39mshape[\u001B[38;5;241m0\u001B[39m]\n\u001B[0;32m      7\u001B[0m \u001B[38;5;28mprint\u001B[39m(a)\n",
      "\u001B[1;31mNameError\u001B[0m: name 'solar_radiation_photovoltaic_area_by_each_province' is not defined"
     ]
    }
   ],
   "source": [
    "a = 0\n",
    "b = 0\n",
    "for province in provinces:\n",
    "    a +=solar_radiation_photovoltaic_area_by_each_province[province].shape[0]\n",
    "    b += wind_energy_production_by_each_province[province].shape[0]\n",
    "    \n",
    "print(a)\n",
    "print(b)"
   ],
   "metadata": {
    "collapsed": false,
    "ExecuteTime": {
     "end_time": "2024-09-28T08:53:13.671294900Z",
     "start_time": "2024-09-28T08:53:13.401666400Z"
    }
   },
   "id": "2bc501166a30debc",
   "execution_count": 32
  },
  {
   "cell_type": "code",
   "outputs": [],
   "source": [],
   "metadata": {
    "collapsed": false,
    "ExecuteTime": {
     "end_time": "2024-09-28T08:53:13.804022600Z",
     "start_time": "2024-09-28T08:53:13.593481200Z"
    }
   },
   "id": "f2dcbf1bad5ab3d8",
   "execution_count": 32
  }
 ],
 "metadata": {
  "kernelspec": {
   "display_name": "Python 3",
   "language": "python",
   "name": "python3"
  },
  "language_info": {
   "codemirror_mode": {
    "name": "ipython",
    "version": 2
   },
   "file_extension": ".py",
   "mimetype": "text/x-python",
   "name": "python",
   "nbconvert_exporter": "python",
   "pygments_lexer": "ipython2",
   "version": "2.7.6"
  }
 },
 "nbformat": 4,
 "nbformat_minor": 5
}
