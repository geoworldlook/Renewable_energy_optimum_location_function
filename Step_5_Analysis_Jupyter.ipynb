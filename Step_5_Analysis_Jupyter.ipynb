{
 "cells": [
  {
   "cell_type": "markdown",
   "source": [
    "Code Description\n",
    "This cell sets up the required libraries and configurations for the analysis:\n",
    "\n",
    "Imports:\n",
    "\n",
    "config: Likely contains custom settings or credentials, such as database connection strings.\n",
    "pandas: A powerful library for data manipulation, allowing for easy handling of the tabular data used in this analysis.\n",
    "matplotlib.pyplot: A plotting library for creating visualizations, which will be useful for representing geographical data.\n",
    "FixedLocator: A specific tool from matplotlib to fix tick locations in plots, ensuring consistent visual representation.\n",
    "sqlalchemy.create_engine: Enables connection to databases (likely a PostGIS or another spatial database) to retrieve and manage geospatial data.\n",
    "Pandas Configuration:\n",
    "\n",
    "The display precision is set to 2 decimal places for floating-point numbers. This ensures consistent representation of numerical data, such as slope angles or solar irradiance values, in the subsequent DataFrame outputs.\n",
    "This setup is essential for the further steps in the analysis, where data is retrieved, manipulated, and visualized."
   ],
   "metadata": {
    "collapsed": false
   },
   "id": "1536bd5dbdce8f3c"
  },
  {
   "cell_type": "code",
   "execution_count": 227,
   "id": "initial_id",
   "metadata": {
    "collapsed": true,
    "ExecuteTime": {
     "end_time": "2024-09-27T19:08:37.533295400Z",
     "start_time": "2024-09-27T19:08:37.488849800Z"
    }
   },
   "outputs": [],
   "source": [
    "# Import necessary libraries and modules\n",
    "import config\n",
    "import pandas as pd\n",
    "import matplotlib.pyplot as plt\n",
    "from matplotlib.pyplot import FixedLocator\n",
    "from sqlalchemy import create_engine\n",
    "\n",
    "# Set display option for pandas DataFrames to limit float precision to 2 decimal places\n",
    "pd.set_option(\"display.precision\", 2)"
   ]
  },
  {
   "cell_type": "markdown",
   "source": [],
   "metadata": {
    "collapsed": false
   },
   "id": "8dd8dc80c21f0246"
  },
  {
   "cell_type": "markdown",
   "source": [
    "Database Connection Setup\n",
    "Configuration Data:\n",
    "\n",
    "The mysql dictionary is imported from the config module, which stores database credentials such as the username, password, host, port, and database name.\n",
    "Connection String:\n",
    "\n",
    "A PostgreSQL connection string is constructed using the credentials from the mysql dictionary.\n",
    "The connection string follows the format:\n",
    "postgresql://<user>:<password>@<host>:<port>/<dbname>\n",
    "Database Engine:\n",
    "\n",
    "The create_engine() function from SQLAlchemy is used to create a connection engine, which allows communication with the PostgreSQL database. This will enable efficient querying and manipulation of data stored in the database.\n",
    "Connection:\n",
    "\n",
    "The conn object is created by calling engine.connect(), which establishes an active connection to the database. This connection can now be used to perform SQL queries and retrieve the required data for analysis.\n",
    "This step is critical as it sets up the database connection, allowing access to the data needed for analyzing potential wind and solar farm locations."
   ],
   "metadata": {
    "collapsed": false
   },
   "id": "64262a0e17633581"
  },
  {
   "cell_type": "code",
   "outputs": [],
   "source": [
    "# Import database configuration\n",
    "mysql = config.mysql\n",
    "\n",
    "# Construct PostgreSQL connection string\n",
    "connection_string = (\n",
    "    f\"postgresql://{mysql['user']}:{mysql['password']}@\"\n",
    "    f\"{mysql['host']}:{mysql['port']}/{mysql['dbname']}\"\n",
    ")\n",
    "\n",
    "# Create database engine\n",
    "engine = create_engine(connection_string)"
   ],
   "metadata": {
    "collapsed": false
   },
   "id": "dc496d0a22448180",
   "execution_count": null
  },
  {
   "cell_type": "markdown",
   "source": [
    "Defining Polish Provinces\n",
    "This section defines a list of Polish provinces that will be used for data filtering or selection purposes during the analysis. Each province represents a geographical region in Poland, where the potential locations for wind and solar farms will be evaluated.\n",
    "\n",
    "The list includes the names of all 16 provinces (województwa) in Poland:\n",
    "\n",
    "Dolnośląskie\n",
    "Kujawsko-pomorskie\n",
    "Lubelskie\n",
    "Lubuskie\n",
    "Łódzkie\n",
    "Małopolskie\n",
    "Mazowieckie\n",
    "Opolskie\n",
    "Podkarpackie\n",
    "Podlaskie\n",
    "Pomorskie\n",
    "Śląskie\n",
    "Świętokrzyskie\n",
    "Warmińsko-mazurskie\n",
    "Wielkopolskie\n",
    "Zachodniopomorskie"
   ],
   "metadata": {
    "collapsed": false
   },
   "id": "8516e2986339f611"
  },
  {
   "cell_type": "code",
   "outputs": [],
   "source": [
    "# Define a list of Polish provinces (województwa)\n",
    "provinces = [\n",
    "    \"dolnoslaskie\",\n",
    "    \"kujawsko_pomorskie\",\n",
    "    \"lubelskie\",\n",
    "    \"lubuskie\",\n",
    "    \"lodzkie\",\n",
    "    \"malopolskie\",\n",
    "    \"mazowieckie\",\n",
    "    \"opolskie\",\n",
    "    \"podkarpackie\",\n",
    "    \"podlaskie\",\n",
    "    \"pomorskie\",\n",
    "    \"slaskie\",\n",
    "    \"swietokrzyskie\",\n",
    "    \"warminsko_mazurskie\",\n",
    "    \"wielkopolskie\",\n",
    "    \"zachodniopomorskie\"\n",
    "]\n"
   ],
   "metadata": {
    "collapsed": false,
    "ExecuteTime": {
     "end_time": "2024-09-27T19:08:47.513845900Z",
     "start_time": "2024-09-27T19:08:47.476873400Z"
    }
   },
   "id": "e2889452fbf7e5ca",
   "execution_count": 228
  },
  {
   "cell_type": "markdown",
   "source": [
    "Renewable Energy Potential by Province\n",
    "This section calculates the total potential area available for solar and wind energy production across Polish provinces. It retrieves data from two types of tables:\n",
    "\n",
    "Solar photovoltaic potential area: Calculated from solar_radiation_photovoltaic_area_{province} tables.\n",
    "Wind energy potential area: Calculated from wind_speed_area_{province} tables.\n",
    "The data for each province is fetched from a PostgreSQL database, and the total area for both solar and wind potential is computed. The result is presented in square kilometers (km²) for easier interpretation.\n",
    "\n",
    "Steps:\n",
    "Data Initialization:\n",
    "\n",
    "Two dictionaries, solar_area_append_total and wind_area_append_total, are created to store the results for each province.\n",
    "Data Extraction:\n",
    "\n",
    "For each province, the corresponding table names for solar and wind energy data are generated.\n",
    "SQL queries are constructed to sum up the available area (SUM(area)) for both solar and wind in each province.\n",
    "Data Validation:\n",
    "\n",
    "After fetching data using pd.read_sql, it is checked whether valid data was retrieved. If no data is found or the area is None, the area is set to 0.\n",
    "Unit Conversion:\n",
    "\n",
    "The area is converted from square meters (m²) to square kilometers (km²) using a factor of 1e-6, and the result is rounded to 2 decimal places.\n",
    "Data Storage:\n",
    "\n",
    "The calculated values are appended to the dictionaries, which are later converted into Pandas DataFrames for both solar and wind areas.\n",
    "The resulting DataFrames, df_solar and df_wind, hold the calculated total potential area for renewable energy in each province."
   ],
   "metadata": {
    "collapsed": false
   },
   "id": "8f04629befc87c21"
  },
  {
   "cell_type": "code",
   "outputs": [
    {
     "data": {
      "text/plain": "               Province  solar_area\n0          dolnoslaskie      480.64\n1    kujawsko_pomorskie      262.50\n2             lubelskie      594.29\n3              lubuskie      326.41\n4               lodzkie      485.20\n5           malopolskie      441.87\n6           mazowieckie     1344.64\n7              opolskie       90.20\n8          podkarpackie      568.48\n9             podlaskie      962.12\n10            pomorskie      396.98\n11              slaskie      363.83\n12       swietokrzyskie      295.94\n13  warminsko_mazurskie      970.89\n14        wielkopolskie      569.06\n15   zachodniopomorskie      744.66",
      "text/html": "<div>\n<style scoped>\n    .dataframe tbody tr th:only-of-type {\n        vertical-align: middle;\n    }\n\n    .dataframe tbody tr th {\n        vertical-align: top;\n    }\n\n    .dataframe thead th {\n        text-align: right;\n    }\n</style>\n<table border=\"1\" class=\"dataframe\">\n  <thead>\n    <tr style=\"text-align: right;\">\n      <th></th>\n      <th>Province</th>\n      <th>solar_area</th>\n    </tr>\n  </thead>\n  <tbody>\n    <tr>\n      <th>0</th>\n      <td>dolnoslaskie</td>\n      <td>480.64</td>\n    </tr>\n    <tr>\n      <th>1</th>\n      <td>kujawsko_pomorskie</td>\n      <td>262.50</td>\n    </tr>\n    <tr>\n      <th>2</th>\n      <td>lubelskie</td>\n      <td>594.29</td>\n    </tr>\n    <tr>\n      <th>3</th>\n      <td>lubuskie</td>\n      <td>326.41</td>\n    </tr>\n    <tr>\n      <th>4</th>\n      <td>lodzkie</td>\n      <td>485.20</td>\n    </tr>\n    <tr>\n      <th>5</th>\n      <td>malopolskie</td>\n      <td>441.87</td>\n    </tr>\n    <tr>\n      <th>6</th>\n      <td>mazowieckie</td>\n      <td>1344.64</td>\n    </tr>\n    <tr>\n      <th>7</th>\n      <td>opolskie</td>\n      <td>90.20</td>\n    </tr>\n    <tr>\n      <th>8</th>\n      <td>podkarpackie</td>\n      <td>568.48</td>\n    </tr>\n    <tr>\n      <th>9</th>\n      <td>podlaskie</td>\n      <td>962.12</td>\n    </tr>\n    <tr>\n      <th>10</th>\n      <td>pomorskie</td>\n      <td>396.98</td>\n    </tr>\n    <tr>\n      <th>11</th>\n      <td>slaskie</td>\n      <td>363.83</td>\n    </tr>\n    <tr>\n      <th>12</th>\n      <td>swietokrzyskie</td>\n      <td>295.94</td>\n    </tr>\n    <tr>\n      <th>13</th>\n      <td>warminsko_mazurskie</td>\n      <td>970.89</td>\n    </tr>\n    <tr>\n      <th>14</th>\n      <td>wielkopolskie</td>\n      <td>569.06</td>\n    </tr>\n    <tr>\n      <th>15</th>\n      <td>zachodniopomorskie</td>\n      <td>744.66</td>\n    </tr>\n  </tbody>\n</table>\n</div>"
     },
     "execution_count": 230,
     "metadata": {},
     "output_type": "execute_result"
    }
   ],
   "source": [
    "# Initialize dictionaries to store total renewable areas for solar and wind by province\n",
    "solar_area_append_total = {'Province': [], 'solar_area': []}\n",
    "wind_area_append_total = {'Province': [], 'wind_area': []}\n",
    "\n",
    "# Establish persistent connection to the database\n",
    "conn = engine.connect()\n",
    "\n",
    "# Import data from the database for each province\n",
    "for province in provinces:\n",
    "    \n",
    "    # Define table names for solar and wind data\n",
    "    table_name_solar = f\"solar_radiation_photovoltaic_area_{province}\"\n",
    "    table_name_wind = f\"wind_speed_area_{province}\"\n",
    "  \n",
    "    # SQL queries to get the total area for solar and wind energy\n",
    "    query_solar = (f\"SELECT SUM(area) as solar_total_area FROM {table_name_solar}\")\n",
    "    query_wind = (f\"SELECT SUM(area) as wind_total_area FROM {table_name_wind}\")\n",
    "    \n",
    "    # Execute queries and store results in pandas DataFrames\n",
    "    solar_result = pd.read_sql(query_solar, conn)\n",
    "    wind_result = pd.read_sql(query_wind, conn)\n",
    "    \n",
    "    # Check if valid data is retrieved, set area to 0 if data is missing\n",
    "    solar_area = solar_result['solar_total_area'][0] if not solar_result.empty and solar_result['solar_total_area'][0] is not None else 0\n",
    "    wind_area = wind_result['wind_total_area'][0] if not wind_result.empty and wind_result['wind_total_area'][0] is not None else 0\n",
    "    \n",
    "    # Append results to the respective lists, converting m² to km²\n",
    "    solar_area_append_total['Province'].append(province)\n",
    "    solar_area_append_total['solar_area'].append(round(solar_area * 1e-6, 2))\n",
    "    \n",
    "    wind_area_append_total['Province'].append(province)\n",
    "    wind_area_append_total['wind_area'].append(round(wind_area * 1e-6, 2))\n",
    "\n",
    "# Close the database connection after the loop\n",
    "conn.close()\n",
    "\n",
    "# Convert the dictionaries to pandas DataFrames\n",
    "df_solar = pd.DataFrame(solar_area_append_total)\n",
    "df_wind = pd.DataFrame(wind_area_append_total)\n",
    "\n",
    "# Display the solar potential area DataFrame\n",
    "df_solar"
   ],
   "metadata": {
    "collapsed": false,
    "ExecuteTime": {
     "end_time": "2024-09-27T19:09:51.509560600Z",
     "start_time": "2024-09-27T19:09:50.126796900Z"
    }
   },
   "id": "e7829fcaaad3985d",
   "execution_count": 230
  },
  {
   "cell_type": "markdown",
   "source": [
    "## 5. Bar plot with solar area for each province"
   ],
   "metadata": {
    "collapsed": false
   },
   "id": "e51899014f41f6fc"
  },
  {
   "cell_type": "code",
   "outputs": [],
   "source": [
    "# Bar plot\n",
    "plt.figure(figsize=(14, 7))\n",
    "width = 0.35  # szerokość słupków\n",
    "\n",
    "# Pozycje słupków dla każdego województwa\n",
    "ind = range(len(df_solar['Province']))\n",
    "\n",
    "# Tworzenie słupków dla energii słonecznej i wiatrowej\n",
    "plt.bar(ind, df_solar['solar_area'], width=width, label='Solar Area', color='blue')\n",
    "plt.bar([i + width for i in ind], df_wind['wind_area'], width=width, label='Wind Area', color='green')\n",
    "\n",
    "# Dodanie opisów i tytułu\n",
    "plt.xlabel('Province')\n",
    "plt.ylabel('Total Area (km²)')\n",
    "plt.title('Comparison of Solar and Wind Energy Area by Province')\n",
    "plt.xticks([i + width / 2 for i in ind], df_solar['Province'], rotation=90)\n",
    "plt.legend()\n",
    "\n",
    "# Wyświetlenie wykresu\n",
    "plt.tight_layout()\n",
    "plt.show()"
   ],
   "metadata": {
    "collapsed": false
   },
   "id": "5a259961a2e8aadc",
   "execution_count": null
  },
  {
   "cell_type": "markdown",
   "source": [
    "## 6. Parametry paneli fotowoltaicznych jako zmienne, które mozna dostosować"
   ],
   "metadata": {
    "collapsed": false
   },
   "id": "af9bac094e5340c1"
  },
  {
   "cell_type": "code",
   "outputs": [],
   "source": [
    "#photovoltaic standard panels parametrs [m^2]\n",
    "height_panel = 1.016\n",
    "width_panel = 1.686\n",
    "power_output = 0.350 # unit [kW]\n",
    "power_output_m2 = power_output / (height_panel * width_panel)\n",
    "\n",
    "#panel efficiency by producent 25*C, 1000 [Wm^2]/ power efficency ~20%\n",
    "efficiency = (power_output / (height_panel*width_panel  * 1))\n",
    "\n",
    "#create effective area. We can't use whole area. In this case we use 80% area to solar panels and 20% for equipment and maintenance access\n",
    "#parametrs \n",
    "solar_maintenance_access = 0.2\n",
    "effective_solar_panel_area = 1 - solar_maintenance_access\n",
    "\n",
    "#calculate the effective area\n",
    "df_solar['solar_effective_area'] = (df_solar['solar_area'] * effective_solar_panel_area)\n",
    "df_solar\n"
   ],
   "metadata": {
    "collapsed": false
   },
   "id": "4157793bb8fac810",
   "execution_count": null
  },
  {
   "cell_type": "markdown",
   "source": [],
   "metadata": {
    "collapsed": false
   },
   "id": "aefe6fce214ef9eb"
  },
  {
   "cell_type": "markdown",
   "source": [
    "## 7. Zebranie ilości produkowanej energii dla każdego miesiąca"
   ],
   "metadata": {
    "collapsed": false
   },
   "id": "e3b0630c7bee0dea"
  },
  {
   "cell_type": "code",
   "outputs": [],
   "source": [
    "#select tables\n",
    "months = {\n",
    "    \"january\" : 31\n",
    "    , \"february\" : 28\n",
    "    , \"march\" : 31\n",
    "    , \"april\" : 30\n",
    "    ,\"may\" : 31\n",
    "    , \"june\" : 30\n",
    "    , \"july\" : 31\n",
    "    , \"august\" : 31\n",
    "    ,\"september\" : 30\n",
    "    , \"october\" : 31\n",
    "    , \"november\" : 30\n",
    "    , \"december\" : 31\n",
    "}\n",
    "\n",
    "#solar radiation by province and each month\n",
    "solar_radiation = pd.DataFrame(index=provinces, columns=months.keys())\n",
    "\n",
    "for province in provinces:\n",
    "    for month in months:\n",
    "        table_name_solar = f\"solar_radiation_photovoltaic_area_{province}\"\n",
    "        # select data in tables\n",
    "        #sum of multipe area in m^2 * amount of solar radiation in month [kW] * effective area (80%) * efficency \n",
    "        query = f\"SELECT SUM(area * {month} * {effective_solar_panel_area} * {efficiency}) as total FROM {table_name_solar}\"\n",
    "\n",
    "        # result to pandas\n",
    "        result_df = pd.read_sql(query, conn)\n",
    "        monthly_solar_energy = result_df.iloc[0]['total'] if not result_df.empty else 0\n",
    "        #solar panel and change kW to  mw\n",
    "        solar_radiation.at[province, month] = round(monthly_solar_energy * 1e-3,2)\n",
    "        \n",
    "#rename index        \n",
    "solar_radiation.reset_index(inplace=True)\n",
    "solar_radiation.rename(columns={'index': 'Province'}, inplace=True)\n",
    "\n",
    "#merge df_solar and solar_radiation\n",
    "df_solar = df_solar.merge(solar_radiation, left_on='Province', right_on='Province')\n"
   ],
   "metadata": {
    "collapsed": false
   },
   "id": "59f63e568ae6e292",
   "execution_count": null
  },
  {
   "cell_type": "code",
   "outputs": [],
   "source": [
    "df_wind"
   ],
   "metadata": {
    "collapsed": false
   },
   "id": "9ddf73827772484c",
   "execution_count": null
  },
  {
   "cell_type": "markdown",
   "source": [
    "## 8. Zdefiniowanie parametrów dla turbin wiatrowych"
   ],
   "metadata": {
    "collapsed": false
   },
   "id": "22baa41959945207"
  },
  {
   "cell_type": "code",
   "outputs": [],
   "source": [
    "#functional assumption 3 wind turbine for km^2\n",
    "turbine_number_for_area = 3\n",
    "df_wind['turbines_number'] = df_wind['wind_area'] * turbine_number_for_area\n",
    "df_wind['turbines_number'] = df_wind['turbines_number'].astype(int)\n",
    "#parametrs for wind turbin Vestas V100\n",
    "\n",
    "#minimum wind speed [m/s]\n",
    "minimum_wind_speed = 3\n",
    "\n",
    "#maximum wind speed [m/s]\n",
    "maximum_wind_speed = 22\n",
    "\n",
    "#energy generate for 1 hour when wind speed is 22 [mW]\n",
    "maximum_power_generate = 2 \n"
   ],
   "metadata": {
    "collapsed": false
   },
   "id": "589a5dbf37fa4d29",
   "execution_count": null
  },
  {
   "cell_type": "markdown",
   "source": [
    "## 9. Wybranie z bazy danych obszarów spełniających warunki budowy farmy wiatrowej"
   ],
   "metadata": {
    "collapsed": false
   },
   "id": "f27b17c2822b817f"
  },
  {
   "cell_type": "markdown",
   "source": [],
   "metadata": {
    "collapsed": false
   },
   "id": "ca08c60286e9b82a"
  },
  {
   "cell_type": "code",
   "outputs": [],
   "source": [
    "wind_energy = pd.DataFrame(index=provinces, columns=months.keys())\n",
    "\n",
    "for province in provinces:\n",
    "    for month,days in months.items():\n",
    "        table_name_wind = f\"wind_speed_area_{province}\"\n",
    "        \n",
    "        # select data in tables\n",
    "        #energy generate for 1 month [mW]\n",
    "        query = (f\"SELECT SUM(CASE \"\n",
    "         f\"WHEN {month} > {minimum_wind_speed} THEN ((({month} * 24 * {days}) / {maximum_wind_speed}) * {maximum_power_generate})\"\n",
    "         f\"ELSE 0 \"\n",
    "         f\"END)  as total \"\n",
    "         f\"FROM wind_speed_area_{province}\")\n",
    "\n",
    "        # result to pandas\n",
    "        result_df = pd.read_sql(query, conn)\n",
    "        monthly_wind_speed = result_df.iloc[0]['total'] if not result_df.empty else 0\n",
    "        \n",
    "    \n",
    "        #change mW \n",
    "        monthly_wind_speed = round(monthly_wind_speed , 2)\n",
    "        wind_energy.at[province, month] = monthly_wind_speed\n",
    "        \n",
    "#rename index        \n",
    "wind_energy.reset_index(inplace=True)\n",
    "wind_energy.rename(columns={'index': 'Province'}, inplace=True)\n",
    "\n",
    "#merge df_solar and solar_radiation\n",
    "df_wind = df_wind.merge(wind_energy, left_on='Province', right_on='Province')\n",
    "\n",
    "df_wind"
   ],
   "metadata": {
    "collapsed": false
   },
   "id": "58e0098bd3e5a586",
   "execution_count": null
  },
  {
   "cell_type": "markdown",
   "source": [
    "## 10. Obliczenie kosztow budowy produkcji farmy fotowoltaicznej na podstawie dostęnych danych"
   ],
   "metadata": {
    "collapsed": false
   },
   "id": "13738fe95f7c799e"
  },
  {
   "cell_type": "code",
   "outputs": [],
   "source": [
    "solar_radiation_photovoltaic_area_by_each_province = {}\n",
    "for province in provinces:\n",
    "    \n",
    "    # Analiza kosztów dla pojedynczych województw\n",
    "    table_name = f\"solar_radiation_photovoltaic_area_{province}\"\n",
    "    \n",
    "    # Definiowanie zapytania SQL\n",
    "    sum_columns = ' + '.join(months)\n",
    "    \n",
    "    query = (\n",
    "        f\"SELECT \"\n",
    "        f\"id, \"\n",
    "        f\"area * 1e-6 AS area_km2, \"\n",
    "        f\"line_dista * 1e-3 AS line_distance_km, \"\n",
    "        f\"road_dista * 1e-3 AS road_distance_km, \"\n",
    "        f\"area * {effective_solar_panel_area} * {efficiency} * 1e-3 AS solar_energy_production_mwh, \"\n",
    "    \n",
    "        # Miesięczna produkcja energii\n",
    "        f\"area * {effective_solar_panel_area} * {efficiency} * january * 1e-3 AS january_solar_energy_production_mwh, \"\n",
    "        f\"area * {effective_solar_panel_area} * {efficiency} * february * 1e-3 AS february_solar_energy_production_mwh, \"\n",
    "        f\"area * {effective_solar_panel_area} * {efficiency} * march * 1e-3 AS march_solar_energy_production_mwh, \"\n",
    "        f\"area * {effective_solar_panel_area} * {efficiency} * april * 1e-3 AS april_solar_energy_production_mwh, \"\n",
    "        f\"area * {effective_solar_panel_area} * {efficiency} * may * 1e-3 AS may_solar_energy_production_mwh, \"\n",
    "        f\"area * {effective_solar_panel_area} * {efficiency} * june * 1e-3 AS june_solar_energy_production_mwh, \"\n",
    "        f\"area * {effective_solar_panel_area} * {efficiency} * july * 1e-3 AS july_solar_energy_production_mwh, \"\n",
    "        f\"area * {effective_solar_panel_area} * {efficiency} * august * 1e-3 AS august_solar_energy_production_mwh, \"\n",
    "        f\"area * {effective_solar_panel_area} * {efficiency} * september * 1e-3 AS september_solar_energy_production_mwh, \"\n",
    "        f\"area * {effective_solar_panel_area} * {efficiency} * october * 1e-3 AS october_solar_energy_production_mwh, \"\n",
    "        f\"area * {effective_solar_panel_area} * {efficiency} * november * 1e-3 AS november_solar_energy_production_mwh, \"\n",
    "        f\"area * {effective_solar_panel_area} * {efficiency} * december * 1e-3 AS december_solar_energy_production_mwh, \"\n",
    "        \n",
    "        # Koszt budowy\n",
    "        f\"CASE \"\n",
    "        f\"    WHEN area * {effective_solar_panel_area} * {efficiency} * 1e-3 < 0.5 THEN 3.51 * area * {effective_solar_panel_area} * {efficiency} * 1e-3 \"\n",
    "        f\"    WHEN area * {effective_solar_panel_area} * {efficiency} * 1e-3 <= 1 THEN 2.63 * area * {effective_solar_panel_area} * {efficiency} * 1e-3 \"\n",
    "        f\"    WHEN area * {effective_solar_panel_area} * {efficiency} * 1e-3 > 1 THEN 2.05 * area * {effective_solar_panel_area} * {efficiency} * 1e-3 \"\n",
    "        f\"    ELSE 0 \"\n",
    "        f\"END AS building_cost_mln_zl, \"\n",
    "        \n",
    "        # Różnica w nasłonecznieniu\n",
    "        f\"((SELECT MAX(value) FROM (SELECT {sum_columns} AS value FROM {table_name}) subquery) - ({sum_columns})) AS solar_radiation_difference_kw \"\n",
    "        \n",
    "        f\"FROM {table_name}\"\n",
    "    )\n",
    "    \n",
    "    # Pobranie wyniku do pandas DataFrame\n",
    "    result_df = pd.read_sql(query, conn)\n",
    "    \n",
    "    # Skopiowanie DataFrame przed dodaniem do słownika\n",
    "    solar_radiation_photovoltaic_area_by_each_province[province] = result_df.copy()\n",
    "    \n",
    "    # Dodanie nowej kolumny z roczną produkcją energii\n",
    "    solar_radiation_photovoltaic_area_by_each_province[province]['energy_production_by_year_mwh'] = solar_radiation_photovoltaic_area_by_each_province[province].loc[:, 'january_solar_energy_production_mwh':'december_solar_energy_production_mwh'].sum(axis=1)\n"
   ],
   "metadata": {
    "collapsed": false
   },
   "id": "3d39aa8cc0a45c2c",
   "execution_count": null
  },
  {
   "cell_type": "code",
   "outputs": [],
   "source": [
    "solar_radiation_photovoltaic_area_by_each_province['podlaskie']\n"
   ],
   "metadata": {
    "collapsed": false
   },
   "id": "4d55fe94b46d8ad1",
   "execution_count": null
  },
  {
   "cell_type": "markdown",
   "source": [
    "## parametr sum narazie tego nie używam"
   ],
   "metadata": {
    "collapsed": false
   },
   "id": "2bb7bb92910a35d1"
  },
  {
   "cell_type": "code",
   "outputs": [],
   "source": [
    "#create function which calculate value of road distance and distance to line \n",
    "#przyjmuje, że 1 to jest maksymalna odległość dla linii energetycznej to 500 m tak jest w wytycznych\n",
    "#to samo robię dla drogi, parametr przyjmuje, że 1 km to jest 1 i rośnie, bo koszty są wysokie\n",
    "# Druga pętla - tutaj zmiany\n",
    "for province in provinces:    \n",
    "    # Użycie danych z solar_radiation_photovoltaic_area_by_each_province, a nie z result_df\n",
    "    df = solar_radiation_photovoltaic_area_by_each_province[province]\n",
    "    \n",
    "    # Obliczanie parametrów dla każdej prowincji\n",
    "    parametr_line_distance = (df['line_distance_km'] - df['line_distance_km'].min()) / (df['line_distance_km'].max() - df['line_distance_km'].min())\n",
    "    parametr_road_distance = (df['road_distance_km'] - df['road_distance_km'].min()) / (df['road_distance_km'].max() - df['road_distance_km'].min())\n",
    "\n",
    "    df['road_distance_cost_parametr'] = parametr_road_distance\n",
    "    df['line_distance_cost_parametr'] = parametr_line_distance\n",
    "\n",
    "    df['solar_radiation_difference_parametr'] = (df['solar_radiation_difference_kw'] - df['solar_radiation_difference_kw'].min()) / (df['solar_radiation_difference_kw'].max() - df['solar_radiation_difference_kw'].min())\n",
    "    \n",
    "    # Kopiowanie danych dla modyfikacji\n",
    "    temp_df = df.copy()\n",
    "    \n",
    "    # Zamiana wartości ujemnych w 'energy_production_by_year_mwh' i normalizacja\n",
    "    temp_df['energy_production_by_year_mwh'] = -1 * temp_df['energy_production_by_year_mwh'] \n",
    "    df['solar_radiation_energy_parametr'] = (temp_df['energy_production_by_year_mwh'] - temp_df['energy_production_by_year_mwh'].min()) / (temp_df['energy_production_by_year_mwh'].max() - temp_df['energy_production_by_year_mwh'].min())\n",
    "\n",
    "    # Zapisanie zaktualizowanych danych\n",
    "    solar_radiation_photovoltaic_area_by_each_province[province] = df\n",
    "\n"
   ],
   "metadata": {
    "collapsed": false
   },
   "id": "f688adb74913f679",
   "execution_count": null
  },
  {
   "cell_type": "code",
   "outputs": [],
   "source": [
    "solar_radiation_photovoltaic_area_by_each_province['podlaskie']\n"
   ],
   "metadata": {
    "collapsed": false
   },
   "id": "4b262cfb63a5e2a4",
   "execution_count": null
  },
  {
   "cell_type": "markdown",
   "source": [
    "## 11. Nadanie wag poszczególnym cechom obszarów pod budowę farm fotowoltaicznych, które wpływają na atrakcyjność obszaru"
   ],
   "metadata": {
    "collapsed": false
   },
   "id": "85e54dbbbfcfa82c"
  },
  {
   "cell_type": "code",
   "outputs": [],
   "source": [
    "import numpy as np\n",
    "from scipy.optimize import minimize, Bounds\n",
    "\n",
    "#waga_1 waga odleglosci od drogi\n",
    "w_1 = 0.3\n",
    "\n",
    "#waga_2 odleglosc od linii energetycznych\n",
    "w_2 = 0.4\n",
    "\n",
    "#waga_3 roznica w ilosci promieniowania \n",
    "w_3 = 0.1\n",
    "\n",
    "#waga_4 ilosc energii, ktora mozna wyprodukowac w tym obszarze\n",
    "w_4 = 0.2\n",
    "\n",
    "#definiowanie funkcji celu\n",
    "def objective(x, weights):\n",
    "    \n",
    "    return -weights[0] * x[0] - weights[1] * x[1] + weights[2] * x[2] + weights[3] * x[3]\n",
    "\n",
    "\n",
    "initial_values = [0.5, 0.5, 0.5, 0.5]  \n",
    "\n",
    "#granice \n",
    "bounds = Bounds([0, 0, 0, 0], [1, 1, 1, 1])  \n",
    "\n",
    "\n",
    "weight_sets = [(w1, w2, w3, w4) for w1 in np.linspace(w_1, w_1 + 0.4, 5)\n",
    "                                  for w2 in np.linspace(w_2, w_2 + 0.4, 5)\n",
    "                                  for w3 in np.linspace(w_3, w_3 + 0.4, 5)\n",
    "                                  for w4 in np.linspace(w_4, w_4 + 0.4, 5)]"
   ],
   "metadata": {
    "collapsed": false
   },
   "id": "fd3647780d76ff3d",
   "execution_count": null
  },
  {
   "cell_type": "code",
   "outputs": [],
   "source": [],
   "metadata": {
    "collapsed": false
   },
   "id": "d7db251934457c2b",
   "execution_count": null
  },
  {
   "cell_type": "markdown",
   "source": [],
   "metadata": {
    "collapsed": false
   },
   "id": "35c9c7735c8eee71"
  },
  {
   "cell_type": "markdown",
   "source": [
    "## 12. Definiowanie funkcji celu obliczające wybrane cechy obszarów wpływające na ich atrakcyjnośc"
   ],
   "metadata": {
    "collapsed": false
   },
   "id": "91609e81886237d"
  },
  {
   "cell_type": "code",
   "outputs": [],
   "source": [
    "def calculate_objective(row, w1, w2, w3, w4):\n",
    "    return -w1 * row['road_distance_cost_parametr'] - w2 * row['line_distance_cost_parametr'] \\\n",
    "           + w3 * row['solar_radiation_difference_parametr'] + w4 * row['solar_radiation_energy_parametr']"
   ],
   "metadata": {
    "collapsed": false
   },
   "id": "716501b932c77702",
   "execution_count": null
  },
  {
   "cell_type": "code",
   "outputs": [],
   "source": [
    "for province in provinces:\n",
    "    solar_radiation_photovoltaic_area_by_each_province[province]['type'] = 'solar'\n",
    "    solar_radiation_photovoltaic_area_by_each_province[province]['province'] = province\n",
    "    solar_radiation_photovoltaic_area_by_each_province[province]['objective_value'] = solar_radiation_photovoltaic_area_by_each_province[province].apply(calculate_objective, axis=1, args=(w_1, w_2, w_3, w_4))\n"
   ],
   "metadata": {
    "collapsed": false
   },
   "id": "cc10083ff46b4432",
   "execution_count": null
  },
  {
   "cell_type": "code",
   "outputs": [],
   "source": [
    "solar_radiation_photovoltaic_area_by_each_province['podlaskie']"
   ],
   "metadata": {
    "collapsed": false
   },
   "id": "50ad90e283f1b62b",
   "execution_count": null
  },
  {
   "cell_type": "markdown",
   "source": [
    "## 13. Dane na temat rocznego zuzycia energii w wojewodztwach"
   ],
   "metadata": {
    "collapsed": false
   },
   "id": "58e91072726c36a6"
  },
  {
   "cell_type": "code",
   "outputs": [],
   "source": [
    "#zuzycie energii wg gus wg wojewodztw\n",
    "energy_consumption_df = pd.read_csv('D:\\GEOWORLDLOOK\\OZE\\PILOT\\Data\\ENERGY_CONSUMPTION\\ENERGY_CONSUMPTION_BY_REGION.csv')\n",
    "\n",
    "#wybranie danych z 2022\n",
    "energy_consumption_df_2022 = energy_consumption_df[['wojewodztwa','2022']]\n",
    "\n",
    "#usuniecie 1 wiersza z suma dla calej polski\n",
    "energy_consumption_df_2022_by_region = energy_consumption_df_2022.drop(index = 0)\n",
    "\n",
    "\n",
    "\n",
    "#zamiana gW na tW\n",
    "energy_consumption_df_2022_by_region['2022'] = energy_consumption_df_2022_by_region['2022'] * 1e-3 \n",
    "energy_consumption_df_2022_by_region['wojewodztwa'] = energy_consumption_df_2022_by_region['wojewodztwa'].str.replace('-', '_').str.lower()\n",
    "energy_consumption_df_2022_by_region = energy_consumption_df_2022_by_region.rename(columns={'wojewodztwa': 'Province'})\n",
    "energy_consumption_df_2022_by_region = energy_consumption_df_2022_by_region.rename(columns={'2022': 'energy_consumption_2022'})\n",
    "energy_consumption_df_2022_by_region"
   ],
   "metadata": {
    "collapsed": false
   },
   "id": "dd1edfd90b729ead",
   "execution_count": null
  },
  {
   "cell_type": "markdown",
   "source": [
    "## 14. Zbiorczy wykres przedstawiający zużycie roczne z podziałem na poszczególne województwa oraz teoretyczną produkcję energii elektrycznej i wiatrowej dla wszystkich wyselekcjonowanych obszarów"
   ],
   "metadata": {
    "collapsed": false
   },
   "id": "f651b225eca71ea3"
  },
  {
   "cell_type": "code",
   "outputs": [],
   "source": [
    "# Łączenie danych na podstawie nazwy prowincji\n",
    "data_combined = pd.merge(df_solar, df_wind, on='Province', suffixes=('_solar_energy_production_mwh', '_wind_energy_production_mwh'))\n",
    "\n",
    "# Sumowanie danych miesięcznych dla energii słonecznej i wiatrowej\n",
    "monthly_solar = data_combined.loc[:, 'january_solar_energy_production_mwh':'december_solar_energy_production_mwh'].sum(axis=1)\n",
    "monthly_wind = data_combined.loc[:, 'january_wind_energy_production_mwh':'december_wind_energy_production_mwh'].sum(axis=1)\n",
    "\n",
    "#obliczenie sumy produkcji energii rocznej dla województw ze względu na liczbę turbin\n",
    "monthly_wind = monthly_wind# * df_wind['turbines_number'] \n",
    "# Tworzenie wykresu\n",
    "fig, ax1 = plt.subplots(figsize=(12, 8))\n",
    "\n",
    "# Wykres słupkowy dla powierzchni\n",
    "ax1.bar(data_combined['Province'], data_combined['solar_effective_area'], color='b', label='Solar Effective Area', width=0.4, align='center')\n",
    "ax1.bar(data_combined['Province'], data_combined['wind_area'], color='r', alpha=0.7, label='Wind Area', width=0.4, align='edge')\n",
    "ax1.set_ylabel('Area (km²)')\n",
    "ax1.set_title('Effective Area and Monthly Energy Production by Province')\n",
    "tick_locations = range(len(data_combined['Province']))  # Positions for each tick\n",
    "ax1.xaxis.set_major_locator(FixedLocator(tick_locations))\n",
    "ax1.set_xticklabels(data_combined['Province'],rotation = 90)\n",
    "ax1.legend(loc='upper left')\n",
    "\n",
    "# Wykres liniowy dla produkcji energii\n",
    "ax2 = ax1.twinx()\n",
    "ax2.plot(data_combined['Province'], monthly_solar * 1e-6, 'g-', label='Total Solar Production')\n",
    "ax2.plot(data_combined['Province'], monthly_wind * 1e-6, 'y-', label='Total Wind Production')\n",
    "ax2.plot(energy_consumption_df_2022_by_region['Province'], energy_consumption_df_2022_by_region['energy_consumption_2022'], 'r-', label = 'demand for electricity in Poland in 2022')\n",
    "\n",
    "ax2.set_ylabel('Total Energy Production (tW)')\n",
    "ax2.legend(loc='upper right')\n",
    "\n",
    "plt.show()"
   ],
   "metadata": {
    "collapsed": false
   },
   "id": "a3c34637f58f738",
   "execution_count": null
  },
  {
   "cell_type": "markdown",
   "source": [
    "## 15. Suma produkcji solarnej i wiatrowej dla posczególnych województw\n"
   ],
   "metadata": {
    "collapsed": false
   },
   "id": "2296a67a2ec4aaec"
  },
  {
   "cell_type": "code",
   "outputs": [],
   "source": [
    "data_combined['sum_production_solar'] = data_combined.loc[:, 'january_solar_energy_production_mwh':'december_solar_energy_production_mwh'].sum(axis=1)\n",
    "data_combined['sum_production_wind'] = data_combined.loc[:, 'january_wind_energy_production_mwh':'december_wind_energy_production_mwh'].sum(axis=1)\n",
    "data_combined = pd.merge(data_combined, energy_consumption_df_2022_by_region, on='Province')\n",
    "data_combined"
   ],
   "metadata": {
    "collapsed": false
   },
   "id": "7363818f8b4006bb",
   "execution_count": null
  },
  {
   "cell_type": "markdown",
   "source": [
    "## 16. Wybranie dla każdego obszaru miesiąca z najmniejszą produkcją prądu"
   ],
   "metadata": {
    "collapsed": false
   },
   "id": "f69171e2ee0636d9"
  },
  {
   "cell_type": "code",
   "outputs": [],
   "source": [
    "data_combined['energy_consumption_2022'].sum()"
   ],
   "metadata": {
    "collapsed": false
   },
   "id": "58549eb9f1d697c9",
   "execution_count": null
  },
  {
   "cell_type": "code",
   "outputs": [],
   "source": [
    "data_combined['min_value_solar'] = data_combined[['january_solar_energy_production_mwh',\n",
    "       'february_solar_energy_production_mwh', 'march_solar_energy_production_mwh', 'april_solar_energy_production_mwh', 'may_solar_energy_production_mwh',\n",
    "       'june_solar_energy_production_mwh', 'july_solar_energy_production_mwh', 'august_solar_energy_production_mwh', 'september_solar_energy_production_mwh',\n",
    "       'october_solar_energy_production_mwh', 'november_solar_energy_production_mwh', 'december_solar_energy_production_mwh']].idxmin(axis=1) \n",
    "data_combined['min_value_wind'] = data_combined[['january_wind_energy_production_mwh', 'february_wind_energy_production_mwh', 'march_wind_energy_production_mwh',\n",
    "       'april_wind_energy_production_mwh', 'may_wind_energy_production_mwh', 'june_wind_energy_production_mwh', 'july_wind_energy_production_mwh', 'august_wind_energy_production_mwh',\n",
    "       'september_wind_energy_production_mwh', 'october_wind_energy_production_mwh', 'november_wind_energy_production_mwh', 'december_wind_energy_production_mwh']].idxmin(axis=1)\n",
    "data_combined"
   ],
   "metadata": {
    "collapsed": false
   },
   "id": "bae97bb071ca120c",
   "execution_count": null
  },
  {
   "cell_type": "code",
   "outputs": [],
   "source": [],
   "metadata": {
    "collapsed": false
   },
   "id": "3f43aebbe9aa1015",
   "execution_count": null
  },
  {
   "cell_type": "markdown",
   "source": [
    "## 17. Mając wybrane najmniejsze możliwości produkcyjne dla każdego województwa w najgorszym miesiacy szukamy takiej ilości, żeby zapewnić produkcję energii"
   ],
   "metadata": {
    "collapsed": false
   },
   "id": "195a7f832429e001"
  },
  {
   "cell_type": "code",
   "outputs": [],
   "source": [
    "#filtracja danych, które spełniają warunek wytworzenia prądu z paneli solarnych w najgorszym możliwym okresie (grudzien) aby zapewnić miesięczną produkcję prądu\n",
    "filtered_solar_radiation_photovoltaic_area_by_each_province = {}\n",
    "\n",
    "for province in provinces:\n",
    "    solar_radiation_photovoltaic_area_by_each_province[province] = solar_radiation_photovoltaic_area_by_each_province[province].sort_values(by = 'objective_value', ascending=False)\n",
    "    \n",
    "    #Wybranie wartości najmniejszej\n",
    "    row = data_combined[data_combined['Province'] == province]\n",
    "    column = row['min_value_solar'].iloc[0]\n",
    "    solar_radiation_photovoltaic_area_by_each_province[province]['cumsum_tw'] = (solar_radiation_photovoltaic_area_by_each_province[province][column].cumsum()) * 1e-6\n",
    "    \n",
    "    #produkcja w tw najoptymalniejszych miejsc wybranych z wskaznikow\n",
    "    # Tworzenie maski logicznej do momentu, gdy warunek jest spełniony\n",
    "    \n",
    "    row_min = energy_consumption_df_2022_by_region[energy_consumption_df_2022_by_region['Province'] == province]\n",
    "    value_min = row['energy_consumption_2022'].iloc[0] / 12\n",
    "    filtered_solar_radiation_photovoltaic_area_by_each_province[province]  = solar_radiation_photovoltaic_area_by_each_province[province][solar_radiation_photovoltaic_area_by_each_province[province]['cumsum_tw'] <value_min]\n"
   ],
   "metadata": {
    "collapsed": false
   },
   "id": "7dfe829485ebd5f3",
   "execution_count": null
  },
  {
   "cell_type": "markdown",
   "source": [
    "## 18. Przedstawienie na wykresie jak kształtuje się proukcja energii wiatrowej na przestrzenii roku dla każdego z województw"
   ],
   "metadata": {
    "collapsed": false
   },
   "id": "4e12776932589e1"
  },
  {
   "cell_type": "code",
   "outputs": [],
   "source": [
    "df = pd.DataFrame(data = data_combined, columns = ['Province', 'january_wind_energy_production_mwh', 'february_wind_energy_production_mwh', 'march_wind_energy_production_mwh',\n",
    "       'april_wind_energy_production_mwh', 'may_wind_energy_production_mwh', 'june_wind_energy_production_mwh', 'july_wind_energy_production_mwh', 'august_wind_energy_production_mwh',\n",
    "       'september_wind_energy_production_mwh', 'october_wind_energy_production_mwh', 'november_wind_energy_production_mwh', 'december_wind_energy_production_mwh'])\n",
    "# Ustawienie kolumny 'Province' jako indeks\n",
    "df.set_index('Province', inplace=True)\n",
    "\n",
    "# Przygotowanie danych do wykresu\n",
    "months = df.columns  # Miesiące jako etykiety osi x\n",
    "plt.figure(figsize=(12, 8))\n",
    "\n",
    "# Rysowanie wykresu liniowego dla każdej prowincji\n",
    "for province in df.index:\n",
    "    plt.plot(months, df.loc[province], marker='o', label=province)\n",
    "\n",
    "# Konfiguracja wykresu\n",
    "plt.title('Produkcja energii w poszczególnych województwach')\n",
    "plt.xlabel('Miesiąc')\n",
    "plt.ylabel('Produkcja energii')\n",
    "plt.legend(title='Województwo')\n",
    "plt.xticks(rotation=45)  # Ułatwia czytanie nazw miesięcy\n",
    "plt.grid(True)\n",
    "plt.tight_layout()\n",
    "plt.show()"
   ],
   "metadata": {
    "collapsed": false
   },
   "id": "c72a53ab5acd2d12",
   "execution_count": null
  },
  {
   "cell_type": "markdown",
   "source": [
    "## 19. Obliczenie dla każdego obszaru pod farmę wiatrową możliwości produkcyjnych oraz kosztów budowy"
   ],
   "metadata": {
    "collapsed": false
   },
   "id": "ad9f9035c75d1a39"
  },
  {
   "cell_type": "code",
   "outputs": [],
   "source": [
    "month_days = {\n",
    "    \"january\": 31,\n",
    "    \"february\": 28,\n",
    "    \"march\": 31,\n",
    "    \"april\": 30,\n",
    "    \"may\": 31,\n",
    "    \"june\": 30,\n",
    "    \"july\": 31,\n",
    "    \"august\": 31,\n",
    "    \"september\": 30,\n",
    "    \"october\": 31,\n",
    "    \"november\": 30,\n",
    "    \"december\": 31\n",
    "}\n",
    "\n",
    "#dodanie atrybutow do obliczenia wskaznikow\n",
    "#dystans od linii energetycznych\n",
    "#koszt budowy 1 mW to 5-7 mln zl, przyjmujemy 6 wg  Polskiej Agencji Informacji i Inwestycji Zagranicznych.\n",
    "\n",
    "wind_energy_production_by_each_province = {}\n",
    "wind_farm_cost_by_mw = 6\n",
    "for province in provinces:\n",
    "    cumulative_df = pd.DataFrame()\n",
    "    for month, days in month_days.items():\n",
    "        table_name_wind = f\"wind_speed_area_{province}\"\n",
    "        \n",
    "\n",
    "\n",
    "        query = (\n",
    "    f\"SELECT \"\n",
    "    f\"id, \"\n",
    "    f\"area * 1e-6 as area_km2, \"\n",
    "    f\"distance * 1e-3 as line_distance_km, \"\n",
    "    f\"CASE \"\n",
    "    f\"WHEN {month} > {minimum_wind_speed} THEN \"\n",
    "    f\"(((({month} * 24 * {days}) / {maximum_wind_speed}) * {maximum_power_generate}) * (area * 1e-6 * {turbine_number_for_area})) \"  # to są jednostki mW\n",
    "    f\"ELSE 0 \"\n",
    "    f\"END AS {month} \"\n",
    "    f\"FROM {table_name_wind} \"\n",
    "    f\"WHERE area * 1e-6 > {(1 / turbine_number_for_area)}\" # 1 km2 / 3 turbines for 1 km^2\n",
    ")\n",
    "\n",
    "        # result to pandas\n",
    "        result_df = pd.read_sql(query, conn)\n",
    "\n",
    "        if cumulative_df.empty:\n",
    "            cumulative_df = result_df\n",
    "        else:\n",
    "            # Inaczej, złącz na podstawie kolumny 'id'\n",
    "            cumulative_df = pd.merge(cumulative_df, result_df[['id', month]], on='id', how='left')\n",
    "\n",
    "        wind_energy_production_by_each_province[province] = cumulative_df \n",
    "\n",
    "    wind_energy_production_by_each_province[province]['energy_production_by_year_mwh'] = wind_energy_production_by_each_province[province][['january','february', 'march', 'april','june','july','august','september','october', 'november','december']].sum(axis = 1)\n",
    "    wind_energy_production_by_each_province[province]['building_cost_mln_zl'] = wind_energy_production_by_each_province[province]['energy_production_by_year_mwh'] * wind_farm_cost_by_mw\n",
    "    "
   ],
   "metadata": {
    "collapsed": false
   },
   "id": "c6f9646675abc83c",
   "execution_count": null
  },
  {
   "cell_type": "markdown",
   "source": [
    "## 20. Obliczenie wskażników atrakcyjności obszaru dla farm wiatrowych"
   ],
   "metadata": {
    "collapsed": false
   },
   "id": "324d8b928618cc5c"
  },
  {
   "cell_type": "code",
   "outputs": [],
   "source": [
    "for province in provinces:    \n",
    "    wind_energy_production_by_each_province[province]\n",
    "    \n",
    "    #syntetyczny parametr, ktory wykazuje wzrost kosztów w zależności od odległości od drogi. Można to dowolnie parametryzować i obliczać realne koszty\n",
    "    parametr_line_distance = (wind_energy_production_by_each_province[province]['line_distance_km'] - min(wind_energy_production_by_each_province[province]['line_distance_km'])) / (max(result_df['line_distance_km']) - min(result_df['line_distance_km']))\n",
    "\n",
    "\n",
    "    wind_energy_production_by_each_province[province]['line_distance_cost_parametr'] = parametr_line_distance\n",
    "    #normalizacja\n",
    "    #poprawic wszystkie wg tego schematu lub napisać funkcję\n",
    "    wind_energy_production_by_each_province[province]['difference_wind_production_for_km2'] =(wind_energy_production_by_each_province[province]['energy_production_by_year_mwh']/wind_energy_production_by_each_province[province]['area_km2'] - min((wind_energy_production_by_each_province[province]['energy_production_by_year_mwh']/wind_energy_production_by_each_province[province]['area_km2']) - wind_energy_production_by_each_province[province]['energy_production_by_year_mwh']/wind_energy_production_by_each_province[province]['area_km2']))/ (\n",
    "    max((wind_energy_production_by_each_province[province]['energy_production_by_year_mwh']/wind_energy_production_by_each_province[province]['area_km2']) - min(wind_energy_production_by_each_province[province]['energy_production_by_year_mwh']/wind_energy_production_by_each_province[province]['area_km2'])))\n",
    "\n",
    "#waga_1 waga odleglosci od drogi\n",
    "w_1 = 0.3\n",
    "\n",
    "#waga_2 odleglosc od linii energetycznych\n",
    "w_2 = 0.4\n",
    "\n",
    "#waga_3 roznica w ilosci promieniowania \n",
    "w_3 = 0.1\n",
    "\n",
    "#waga_4 ilosc energii, ktora mozna wyprodukowac w tym obszarze\n",
    "w_4 = 0.2\n",
    "\n",
    "\n",
    "def calculate_objective_wind(row, w1, w2):\n",
    "    return -w1 * row['line_distance_cost_parametr'] \\\n",
    "            +w2 * row['difference_wind_production_for_km2']\n",
    "\n",
    "for province in provinces:\n",
    "    wind_energy_production_by_each_province[province]['type'] = 'wind'\n",
    "    wind_energy_production_by_each_province[province]['province'] = province\n",
    "    wind_energy_production_by_each_province[province]['objective_value'] = wind_energy_production_by_each_province[province].apply(calculate_objective_wind, axis=1, args=(w_1, w_4))"
   ],
   "metadata": {
    "collapsed": false
   },
   "id": "3148ab3e388894ae",
   "execution_count": null
  },
  {
   "cell_type": "markdown",
   "source": [
    "## 21. Zebranie danych o farmach wiatrowych i solarnych w jedną zmienna"
   ],
   "metadata": {
    "collapsed": false
   },
   "id": "8468295aeed9d444"
  },
  {
   "cell_type": "code",
   "outputs": [],
   "source": [
    "df_area_solar_wind = {}\n",
    "comb_all_area_solar_wind = pd.DataFrame()\n",
    "for province in provinces:\n",
    "    \n",
    "    #filtered, bo to sa minimalne powierzchnie dla zapewnienia produkcji\n",
    "    df_solar_area = filtered_solar_radiation_photovoltaic_area_by_each_province[province][['id','province','type', 'area_km2','objective_value','building_cost_mln_zl','energy_production_by_year_mwh',\n",
    "        'january_solar_energy_production_mwh',\n",
    "       'february_solar_energy_production_mwh',\n",
    "       'march_solar_energy_production_mwh',\n",
    "       'april_solar_energy_production_mwh', 'may_solar_energy_production_mwh',\n",
    "       'june_solar_energy_production_mwh', 'july_solar_energy_production_mwh',\n",
    "       'august_solar_energy_production_mwh',\n",
    "       'september_solar_energy_production_mwh',\n",
    "       'october_solar_energy_production_mwh',\n",
    "       'november_solar_energy_production_mwh',\n",
    "       'december_solar_energy_production_mwh']].rename(columns={\n",
    "            'january_solar_energy_production_mwh': 'january',\n",
    "            'february_solar_energy_production_mwh': 'february',\n",
    "            'march_solar_energy_production_mwh': 'march',\n",
    "            'april_solar_energy_production_mwh': 'april',\n",
    "            'may_solar_energy_production_mwh': 'may',\n",
    "            'june_solar_energy_production_mwh': 'june',\n",
    "            'july_solar_energy_production_mwh': 'july',\n",
    "            'august_solar_energy_production_mwh': 'august',\n",
    "            'september_solar_energy_production_mwh': 'september',\n",
    "            'october_solar_energy_production_mwh': 'october',\n",
    "            'november_solar_energy_production_mwh': 'november',\n",
    "            'december_solar_energy_production_mwh': 'december'\n",
    "        })\n",
    "\n",
    "    # Wybieranie odpowiednich kolumn dla wind #farmy wiatrowe jako wspomaganie\n",
    "    wind_energy_production_by_each_province['dolnoslaskie'].columns\n",
    "    df_wind_area = wind_energy_production_by_each_province[province][['id','province','type', 'area_km2','objective_value','building_cost_mln_zl','energy_production_by_year_mwh','january', 'february', 'march',\n",
    "       'april', 'may', 'june', 'july', 'august', 'september', 'october',\n",
    "       'november', 'december']]\n",
    "    \n",
    "    # Konkatenacja danych dla danej prowincji (łączenie wierszy)\n",
    "    df_area_solar_wind[province] = pd.concat([df_solar_area, df_wind_area], ignore_index=True)\n",
    "    comb_all_area_solar_wind = pd.concat([comb_all_area_solar_wind, df_area_solar_wind[province]], ignore_index=True)\n",
    "    \n",
    "#Posortowanie danych według atrakcyjności\n",
    "comb_all_area_solar_wind = comb_all_area_solar_wind.sort_values(by = 'objective_value', ascending=False)\n",
    "\n",
    "#Dodanie kolumny z całkowitą produkcją energii dla wybranych obszarów według atrakcyjności\n",
    "comb_all_area_solar_wind['all_solar_wind_cumsum_twh'] = comb_all_area_solar_wind['energy_production_by_year_mwh'].cumsum() * 1e-6 #tWh\n"
   ],
   "metadata": {
    "collapsed": false
   },
   "id": "738378839030e22c",
   "execution_count": null
  },
  {
   "cell_type": "markdown",
   "source": [
    "## 21. Wykres przedstawiający produkcję energii i zapotrzebowanie "
   ],
   "metadata": {
    "collapsed": false
   },
   "id": "f06a83c694e8e2d1"
  },
  {
   "cell_type": "code",
   "outputs": [],
   "source": [
    "# Tworzenie wykresu\n",
    "fig, ax1 = plt.subplots(figsize=(12, 8))\n",
    "\n",
    "for province in provinces:\n",
    "    \n",
    "    ax1.bar(province, df_area_solar_wind[province]['energy_production_by_year_mwh'].sum() * 1e-6) #twh\n",
    "    \n",
    "plt.xticks(rotation=90)  # Ułatwia czytanie nazw miesięcy\n",
    "plt.grid(True)\n",
    "plt.plot(data_combined['Province'],data_combined['energy_consumption_2022'], color = 'red')\n",
    "\n",
    "plt.title('Wykres przedstawiający możliwości produkcyjne prądu dla każdego województwa w najgorszymi miesiącu pod względem możliwości wytwórczych')\n",
    "plt.show()    "
   ],
   "metadata": {
    "collapsed": false
   },
   "id": "2a0531e24334a04e",
   "execution_count": null
  },
  {
   "cell_type": "code",
   "outputs": [],
   "source": [
    "df_area_solar_wind['podlaskie']"
   ],
   "metadata": {
    "collapsed": false
   },
   "id": "357958a20895b3ad",
   "execution_count": null
  },
  {
   "cell_type": "code",
   "outputs": [],
   "source": [
    "comb_all_area_solar_wind['december'].sum()*1e-6"
   ],
   "metadata": {
    "collapsed": false
   },
   "id": "19c45609181dc386",
   "execution_count": null
  },
  {
   "cell_type": "code",
   "outputs": [],
   "source": [
    "for i in comb_all_area_solar_wind:\n",
    "    print(i) "
   ],
   "metadata": {
    "collapsed": false
   },
   "id": "d446ffa84457743d",
   "execution_count": null
  },
  {
   "cell_type": "code",
   "outputs": [],
   "source": [
    "df = comb_all_area_solar_wind\n",
    "\n",
    "# # Grupa na podstawie 'id' i sprawdzenie, czy w 'province' lub 'type' są różne wartości\n",
    "# df_grouped = df.groupby('id').filter(lambda x: x['province'].nunique() > 1 or x['type'].nunique() > 1)\n",
    "# \n",
    "# # Teraz usuniemy duplikaty 'id', zachowując tylko pierwsze wystąpienie\n",
    "# df_unique = df_grouped.drop_duplicates(subset=[['id','province','type']])"
   ],
   "metadata": {
    "collapsed": false
   },
   "id": "2825706450c8d690",
   "execution_count": null
  },
  {
   "cell_type": "code",
   "outputs": [],
   "source": [
    "df_unique = df.drop_duplicates(subset=['id', 'province', 'type'],keep='first')"
   ],
   "metadata": {
    "collapsed": false
   },
   "id": "400c2ff517e91691",
   "execution_count": null
  },
  {
   "cell_type": "code",
   "outputs": [],
   "source": [
    "df_unique"
   ],
   "metadata": {
    "collapsed": false
   },
   "id": "9f9568c3c76006ff",
   "execution_count": null
  },
  {
   "cell_type": "code",
   "outputs": [],
   "source": [],
   "metadata": {
    "collapsed": false
   },
   "id": "a17418801df06b42",
   "execution_count": null
  },
  {
   "cell_type": "code",
   "outputs": [],
   "source": [
    "duplicated_rows = comb_all_area_solar_wind.duplicated(subset=['id', 'province', 'type'])\n",
    "\n",
    "# Wybranie tylko tych wierszy, które są duplikatami\n",
    "df_duplicates = comb_all_area_solar_wind[duplicated_rows]\n",
    "df_duplicates"
   ],
   "metadata": {
    "collapsed": false
   },
   "id": "597081982a915073",
   "execution_count": null
  },
  {
   "cell_type": "code",
   "outputs": [],
   "source": [
    "df_grouped = df.groupby('province')\n",
    "df_grouped"
   ],
   "metadata": {
    "collapsed": false
   },
   "id": "284581bd28eb7855",
   "execution_count": null
  },
  {
   "cell_type": "code",
   "outputs": [],
   "source": [
    "df_area_solar_wind['pomorskie']"
   ],
   "metadata": {
    "collapsed": false
   },
   "id": "bffd6d20a5089be8",
   "execution_count": null
  },
  {
   "cell_type": "code",
   "outputs": [],
   "source": [
    "solar_radiation_photovoltaic_area_by_each_province['dolnoslaskie'][solar_radiation_photovoltaic_area_by_each_province['dolnoslaskie']['id']==4029]"
   ],
   "metadata": {
    "collapsed": false
   },
   "id": "ea0dc62a23d38729",
   "execution_count": null
  },
  {
   "cell_type": "code",
   "outputs": [],
   "source": [
    "a = 0\n",
    "b = 0\n",
    "for province in provinces:\n",
    "    a +=solar_radiation_photovoltaic_area_by_each_province[province].shape[0]\n",
    "    b += wind_energy_production_by_each_province[province].shape[0]\n",
    "    \n",
    "print(a)\n",
    "print(b)"
   ],
   "metadata": {
    "collapsed": false
   },
   "id": "2bc501166a30debc",
   "execution_count": null
  },
  {
   "cell_type": "code",
   "outputs": [],
   "source": [],
   "metadata": {
    "collapsed": false
   },
   "id": "f2dcbf1bad5ab3d8",
   "execution_count": null
  }
 ],
 "metadata": {
  "kernelspec": {
   "display_name": "Python 3",
   "language": "python",
   "name": "python3"
  },
  "language_info": {
   "codemirror_mode": {
    "name": "ipython",
    "version": 2
   },
   "file_extension": ".py",
   "mimetype": "text/x-python",
   "name": "python",
   "nbconvert_exporter": "python",
   "pygments_lexer": "ipython2",
   "version": "2.7.6"
  }
 },
 "nbformat": 4,
 "nbformat_minor": 5
}
