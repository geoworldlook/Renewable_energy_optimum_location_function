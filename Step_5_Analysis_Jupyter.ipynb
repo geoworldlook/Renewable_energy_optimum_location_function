{
 "cells": [
  {
   "cell_type": "code",
   "execution_count": 74,
   "id": "initial_id",
   "metadata": {
    "collapsed": true,
    "ExecuteTime": {
     "end_time": "2024-04-17T21:26:05.953802900Z",
     "start_time": "2024-04-17T21:26:05.902266100Z"
    }
   },
   "outputs": [],
   "source": [
    "import config\n",
    "import pandas as pd\n",
    "import matplotlib.pyplot as plt\n",
    "from sqlalchemy import create_engine"
   ]
  },
  {
   "cell_type": "code",
   "outputs": [],
   "source": [
    "#import config data\n",
    "mysql = config.mysql\n",
    "\n",
    "#connect to database\n",
    "connection_string = (\n",
    "    f\"postgresql://{mysql['user']}:{mysql['password']}@\"\n",
    "    f\"{mysql['host']}:{mysql['port']}/{mysql['dbname']}\"\n",
    ")\n",
    "\n",
    "engine = create_engine(connection_string)\n",
    "\n",
    "# To create a connection, you can use\n",
    "conn = engine.connect()\n",
    "    "
   ],
   "metadata": {
    "collapsed": false,
    "ExecuteTime": {
     "end_time": "2024-04-17T21:26:06.244863700Z",
     "start_time": "2024-04-17T21:26:05.918820500Z"
    }
   },
   "id": "dc496d0a22448180",
   "execution_count": 75
  },
  {
   "cell_type": "code",
   "outputs": [],
   "source": [
    "#list of provinces in  Poland\n",
    "provinces = [\n",
    "    \"dolnoslaskie\"\n",
    "    ,\"kujawsko_pomorskie\"\n",
    "    ,\"lubelskie\"\n",
    "    ,\"lubuskie\"\n",
    "    ,\"lodzkie\"\n",
    "    ,\"malopolskie\"\n",
    "    ,\"mazowieckie\"\n",
    "    ,\"opolskie\"\n",
    "    ,\"podkarpackie\"\n",
    "    ,\"podlaskie\"\n",
    "    ,\"pomorskie\"\n",
    "    ,\"slaskie\"\n",
    "    ,\"swietokrzyskie\"\n",
    "    ,\"warminsko_mazurskie\"\n",
    "    ,\"wielkopolskie\"\n",
    "    ,\"zachodniopomorskie\"\n",
    "    ]"
   ],
   "metadata": {
    "collapsed": false,
    "ExecuteTime": {
     "end_time": "2024-04-17T21:26:06.282365200Z",
     "start_time": "2024-04-17T21:26:06.256379400Z"
    }
   },
   "id": "e2889452fbf7e5ca",
   "execution_count": 76
  },
  {
   "cell_type": "code",
   "outputs": [
    {
     "ename": "ValueError",
     "evalue": "All arrays must be of the same length",
     "output_type": "error",
     "traceback": [
      "\u001B[1;31m---------------------------------------------------------------------------\u001B[0m",
      "\u001B[1;31mValueError\u001B[0m                                Traceback (most recent call last)",
      "Cell \u001B[1;32mIn[77], line 32\u001B[0m\n\u001B[0;32m     29\u001B[0m     solar_area_append_total[\u001B[38;5;124m'\u001B[39m\u001B[38;5;124msolar_area\u001B[39m\u001B[38;5;124m'\u001B[39m]\u001B[38;5;241m.\u001B[39mappend(\u001B[38;5;28mround\u001B[39m(solar_area \u001B[38;5;241m*\u001B[39m \u001B[38;5;241m1e-6\u001B[39m,\u001B[38;5;241m2\u001B[39m))\n\u001B[0;32m     30\u001B[0m     solar_area_append_total[\u001B[38;5;124m'\u001B[39m\u001B[38;5;124mwind_area_total\u001B[39m\u001B[38;5;124m'\u001B[39m]\u001B[38;5;241m.\u001B[39mappend(\u001B[38;5;28mround\u001B[39m(wind_area \u001B[38;5;241m*\u001B[39m \u001B[38;5;241m1e-6\u001B[39m,\u001B[38;5;241m2\u001B[39m))\n\u001B[1;32m---> 32\u001B[0m df_solar_wind \u001B[38;5;241m=\u001B[39m \u001B[43mpd\u001B[49m\u001B[38;5;241;43m.\u001B[39;49m\u001B[43mDataFrame\u001B[49m\u001B[43m(\u001B[49m\u001B[43msolar_area_append_total\u001B[49m\u001B[43m)\u001B[49m\n",
      "File \u001B[1;32mD:\\STUDIA_PODYPLOMOWE\\PROGRAMY\\Lib\\site-packages\\pandas\\core\\frame.py:767\u001B[0m, in \u001B[0;36mDataFrame.__init__\u001B[1;34m(self, data, index, columns, dtype, copy)\u001B[0m\n\u001B[0;32m    761\u001B[0m     mgr \u001B[38;5;241m=\u001B[39m \u001B[38;5;28mself\u001B[39m\u001B[38;5;241m.\u001B[39m_init_mgr(\n\u001B[0;32m    762\u001B[0m         data, axes\u001B[38;5;241m=\u001B[39m{\u001B[38;5;124m\"\u001B[39m\u001B[38;5;124mindex\u001B[39m\u001B[38;5;124m\"\u001B[39m: index, \u001B[38;5;124m\"\u001B[39m\u001B[38;5;124mcolumns\u001B[39m\u001B[38;5;124m\"\u001B[39m: columns}, dtype\u001B[38;5;241m=\u001B[39mdtype, copy\u001B[38;5;241m=\u001B[39mcopy\n\u001B[0;32m    763\u001B[0m     )\n\u001B[0;32m    765\u001B[0m \u001B[38;5;28;01melif\u001B[39;00m \u001B[38;5;28misinstance\u001B[39m(data, \u001B[38;5;28mdict\u001B[39m):\n\u001B[0;32m    766\u001B[0m     \u001B[38;5;66;03m# GH#38939 de facto copy defaults to False only in non-dict cases\u001B[39;00m\n\u001B[1;32m--> 767\u001B[0m     mgr \u001B[38;5;241m=\u001B[39m \u001B[43mdict_to_mgr\u001B[49m\u001B[43m(\u001B[49m\u001B[43mdata\u001B[49m\u001B[43m,\u001B[49m\u001B[43m \u001B[49m\u001B[43mindex\u001B[49m\u001B[43m,\u001B[49m\u001B[43m \u001B[49m\u001B[43mcolumns\u001B[49m\u001B[43m,\u001B[49m\u001B[43m \u001B[49m\u001B[43mdtype\u001B[49m\u001B[38;5;241;43m=\u001B[39;49m\u001B[43mdtype\u001B[49m\u001B[43m,\u001B[49m\u001B[43m \u001B[49m\u001B[43mcopy\u001B[49m\u001B[38;5;241;43m=\u001B[39;49m\u001B[43mcopy\u001B[49m\u001B[43m,\u001B[49m\u001B[43m \u001B[49m\u001B[43mtyp\u001B[49m\u001B[38;5;241;43m=\u001B[39;49m\u001B[43mmanager\u001B[49m\u001B[43m)\u001B[49m\n\u001B[0;32m    768\u001B[0m \u001B[38;5;28;01melif\u001B[39;00m \u001B[38;5;28misinstance\u001B[39m(data, ma\u001B[38;5;241m.\u001B[39mMaskedArray):\n\u001B[0;32m    769\u001B[0m     \u001B[38;5;28;01mfrom\u001B[39;00m \u001B[38;5;21;01mnumpy\u001B[39;00m\u001B[38;5;21;01m.\u001B[39;00m\u001B[38;5;21;01mma\u001B[39;00m \u001B[38;5;28;01mimport\u001B[39;00m mrecords\n",
      "File \u001B[1;32mD:\\STUDIA_PODYPLOMOWE\\PROGRAMY\\Lib\\site-packages\\pandas\\core\\internals\\construction.py:503\u001B[0m, in \u001B[0;36mdict_to_mgr\u001B[1;34m(data, index, columns, dtype, typ, copy)\u001B[0m\n\u001B[0;32m    499\u001B[0m     \u001B[38;5;28;01melse\u001B[39;00m:\n\u001B[0;32m    500\u001B[0m         \u001B[38;5;66;03m# dtype check to exclude e.g. range objects, scalars\u001B[39;00m\n\u001B[0;32m    501\u001B[0m         arrays \u001B[38;5;241m=\u001B[39m [x\u001B[38;5;241m.\u001B[39mcopy() \u001B[38;5;28;01mif\u001B[39;00m \u001B[38;5;28mhasattr\u001B[39m(x, \u001B[38;5;124m\"\u001B[39m\u001B[38;5;124mdtype\u001B[39m\u001B[38;5;124m\"\u001B[39m) \u001B[38;5;28;01melse\u001B[39;00m x \u001B[38;5;28;01mfor\u001B[39;00m x \u001B[38;5;129;01min\u001B[39;00m arrays]\n\u001B[1;32m--> 503\u001B[0m \u001B[38;5;28;01mreturn\u001B[39;00m \u001B[43marrays_to_mgr\u001B[49m\u001B[43m(\u001B[49m\u001B[43marrays\u001B[49m\u001B[43m,\u001B[49m\u001B[43m \u001B[49m\u001B[43mcolumns\u001B[49m\u001B[43m,\u001B[49m\u001B[43m \u001B[49m\u001B[43mindex\u001B[49m\u001B[43m,\u001B[49m\u001B[43m \u001B[49m\u001B[43mdtype\u001B[49m\u001B[38;5;241;43m=\u001B[39;49m\u001B[43mdtype\u001B[49m\u001B[43m,\u001B[49m\u001B[43m \u001B[49m\u001B[43mtyp\u001B[49m\u001B[38;5;241;43m=\u001B[39;49m\u001B[43mtyp\u001B[49m\u001B[43m,\u001B[49m\u001B[43m \u001B[49m\u001B[43mconsolidate\u001B[49m\u001B[38;5;241;43m=\u001B[39;49m\u001B[43mcopy\u001B[49m\u001B[43m)\u001B[49m\n",
      "File \u001B[1;32mD:\\STUDIA_PODYPLOMOWE\\PROGRAMY\\Lib\\site-packages\\pandas\\core\\internals\\construction.py:114\u001B[0m, in \u001B[0;36marrays_to_mgr\u001B[1;34m(arrays, columns, index, dtype, verify_integrity, typ, consolidate)\u001B[0m\n\u001B[0;32m    111\u001B[0m \u001B[38;5;28;01mif\u001B[39;00m verify_integrity:\n\u001B[0;32m    112\u001B[0m     \u001B[38;5;66;03m# figure out the index, if necessary\u001B[39;00m\n\u001B[0;32m    113\u001B[0m     \u001B[38;5;28;01mif\u001B[39;00m index \u001B[38;5;129;01mis\u001B[39;00m \u001B[38;5;28;01mNone\u001B[39;00m:\n\u001B[1;32m--> 114\u001B[0m         index \u001B[38;5;241m=\u001B[39m \u001B[43m_extract_index\u001B[49m\u001B[43m(\u001B[49m\u001B[43marrays\u001B[49m\u001B[43m)\u001B[49m\n\u001B[0;32m    115\u001B[0m     \u001B[38;5;28;01melse\u001B[39;00m:\n\u001B[0;32m    116\u001B[0m         index \u001B[38;5;241m=\u001B[39m ensure_index(index)\n",
      "File \u001B[1;32mD:\\STUDIA_PODYPLOMOWE\\PROGRAMY\\Lib\\site-packages\\pandas\\core\\internals\\construction.py:677\u001B[0m, in \u001B[0;36m_extract_index\u001B[1;34m(data)\u001B[0m\n\u001B[0;32m    675\u001B[0m lengths \u001B[38;5;241m=\u001B[39m \u001B[38;5;28mlist\u001B[39m(\u001B[38;5;28mset\u001B[39m(raw_lengths))\n\u001B[0;32m    676\u001B[0m \u001B[38;5;28;01mif\u001B[39;00m \u001B[38;5;28mlen\u001B[39m(lengths) \u001B[38;5;241m>\u001B[39m \u001B[38;5;241m1\u001B[39m:\n\u001B[1;32m--> 677\u001B[0m     \u001B[38;5;28;01mraise\u001B[39;00m \u001B[38;5;167;01mValueError\u001B[39;00m(\u001B[38;5;124m\"\u001B[39m\u001B[38;5;124mAll arrays must be of the same length\u001B[39m\u001B[38;5;124m\"\u001B[39m)\n\u001B[0;32m    679\u001B[0m \u001B[38;5;28;01mif\u001B[39;00m have_dicts:\n\u001B[0;32m    680\u001B[0m     \u001B[38;5;28;01mraise\u001B[39;00m \u001B[38;5;167;01mValueError\u001B[39;00m(\n\u001B[0;32m    681\u001B[0m         \u001B[38;5;124m\"\u001B[39m\u001B[38;5;124mMixing dicts with non-Series may lead to ambiguous ordering.\u001B[39m\u001B[38;5;124m\"\u001B[39m\n\u001B[0;32m    682\u001B[0m     )\n",
      "\u001B[1;31mValueError\u001B[0m: All arrays must be of the same length"
     ]
    }
   ],
   "source": [
    "#dataframe to province total area renewable solar and wind\n",
    "solar_area_append_total = {'Province': [], 'solar_area': [], 'wind_area_total': []}\n",
    "# Import data from database\n",
    "for province in provinces:\n",
    "    #select tables\n",
    "    table_name_solar = f\"solar_radiation_photovoltaic_area_{province}\"\n",
    "    table_name_wind = f\"wind_speed_area_{province}\"\n",
    "    \n",
    "    #select data in tables\n",
    "    query_solar = f\"SELECT SUM(area) as solar_total_area FROM {table_name_solar}\"\n",
    "    query_wind = f\"SELECT SUM(area) as wind_total_area FROM {table_name_wind}\"\n",
    "    #result to pandas\n",
    "    solar_result = pd.read_sql(query_solar, conn)\n",
    "    wind_result = pd.read_sql(query_wind, conn)\n",
    "    \n",
    "    #check select data \n",
    "    if not solar_result.empty and solar_result['solar_total_area'][0] is not None:\n",
    "        solar_area = solar_result['solar_total_area'][0]\n",
    "    else:\n",
    "        solar_area = 0\n",
    "\n",
    "    if not wind_result.empty and wind_result['wind_total_area'][0] is not None:\n",
    "        wind_area = wind_result['wind_total_area'][0]\n",
    "    else:\n",
    "        wind_area = 0\n",
    "    \n",
    "    #append data to column and change m^2 to km^2\n",
    "    solar_area_append_total['Province'].append(province)\n",
    "    solar_area_append_total['solar_area'].append(round(solar_area * 1e-6,2))\n",
    "    solar_area_append_total['wind_area_total'].append(round(wind_area * 1e-6,2))\n",
    "\n",
    "df_solar_wind = pd.DataFrame(solar_area_append_total)\n",
    "\n"
   ],
   "metadata": {
    "collapsed": false,
    "ExecuteTime": {
     "end_time": "2024-04-17T21:26:07.929428600Z",
     "start_time": "2024-04-17T21:26:06.276367600Z"
    }
   },
   "id": "e7829fcaaad3985d",
   "execution_count": 77
  },
  {
   "cell_type": "code",
   "outputs": [],
   "source": [
    "# Generowanie wykresu słupkowego\n",
    "plt.figure(figsize=(14, 7))\n",
    "width = 0.35  # szerokość słupków\n",
    "\n",
    "# Pozycje słupków dla każdego województwa\n",
    "ind = range(len(df_solar_wind['Province']))\n",
    "\n",
    "# Tworzenie słupków dla energii słonecznej i wiatrowej\n",
    "plt.bar(ind, df_solar_wind['solar_area'], width=width, label='Solar Area', color='blue')\n",
    "plt.bar([i + width for i in ind], df_solar_wind['wind_area_total'], width=width, label='Wind Area', color='green')\n",
    "\n",
    "# Dodanie opisów i tytułu\n",
    "plt.xlabel('Province')\n",
    "plt.ylabel('Total Area (km²)')\n",
    "plt.title('Comparison of Solar and Wind Energy Area by Province')\n",
    "plt.xticks([i + width / 2 for i in ind], df_solar_wind['Province'], rotation=90)\n",
    "plt.legend()\n",
    "\n",
    "# Wyświetlenie wykresu\n",
    "plt.tight_layout()\n",
    "plt.show()"
   ],
   "metadata": {
    "collapsed": false,
    "ExecuteTime": {
     "start_time": "2024-04-17T21:26:07.927423300Z"
    }
   },
   "id": "5a259961a2e8aadc",
   "execution_count": null
  },
  {
   "cell_type": "code",
   "outputs": [],
   "source": [
    "df_solar_wind"
   ],
   "metadata": {
    "collapsed": false,
    "ExecuteTime": {
     "end_time": "2024-04-17T21:26:07.991386700Z",
     "start_time": "2024-04-17T21:26:07.933419800Z"
    }
   },
   "id": "74e7c542970f83e4",
   "execution_count": null
  },
  {
   "cell_type": "code",
   "outputs": [],
   "source": [
    "#photovoltaic standard panels parametrs [km^2]\n",
    "height_panel = 1.016\n",
    "width_panel = 1.686\n",
    "power_output = 350 #[W]\n",
    "power_output_m2 = power_output / (height_panel * width_panel)\n",
    "\n",
    "#panel efficiency by producent 25*C, 1000 [Wm^2]/ power efficency ~20%\n",
    "efficiency = (power_output / (height_panel*width_panel  * 1000))\n",
    "efficiency\n",
    "\n",
    "#power_per_m2 = efficiency_producent_m2 * irradiance\n"
   ],
   "metadata": {
    "collapsed": false,
    "ExecuteTime": {
     "start_time": "2024-04-17T21:26:07.944414400Z"
    }
   },
   "id": "4157793bb8fac810",
   "execution_count": null
  },
  {
   "cell_type": "code",
   "outputs": [],
   "source": [
    "#create effective area. We can't use whole area. In this case we use 80% area to solar panels and 20% for equipment and maintenance access\n",
    "#parametrs \n",
    "solar_maintenance_access = 0.2\n",
    "effective_solar_panel_area = 1 - solar_maintenance_access\n",
    "\n",
    "#calculate the effective area\n",
    "df_solar_wind['solar_effective_area'] = (df_solar_wind['solar_area'] * effective_solar_panel_area)"
   ],
   "metadata": {
    "collapsed": false,
    "ExecuteTime": {
     "start_time": "2024-04-17T21:26:07.952410Z"
    }
   },
   "id": "56cb292f72693fae",
   "execution_count": null
  },
  {
   "cell_type": "code",
   "outputs": [
    {
     "data": {
      "text/plain": "            sum\n0  1.471005e+10",
      "text/html": "<div>\n<style scoped>\n    .dataframe tbody tr th:only-of-type {\n        vertical-align: middle;\n    }\n\n    .dataframe tbody tr th {\n        vertical-align: top;\n    }\n\n    .dataframe thead th {\n        text-align: right;\n    }\n</style>\n<table border=\"1\" class=\"dataframe\">\n  <thead>\n    <tr style=\"text-align: right;\">\n      <th></th>\n      <th>sum</th>\n    </tr>\n  </thead>\n  <tbody>\n    <tr>\n      <th>0</th>\n      <td>1.471005e+10</td>\n    </tr>\n  </tbody>\n</table>\n</div>"
     },
     "execution_count": 80,
     "metadata": {},
     "output_type": "execute_result"
    }
   ],
   "source": [
    "#select tables\n",
    "province = 'dolnoslaskie'\n",
    "table_name_solar = f\"solar_radiation_photovoltaic_area_{province}\"\n",
    "\n",
    "#select data in tables\n",
    "query_solar = f\"SELECT SUM(area * {effective_solar_panel_area} * january) FROM {table_name_solar}\"\n",
    "\n",
    "#result to pandas\n",
    "aa = pd.read_sql(query_solar, conn)\n",
    "\n",
    "aa"
   ],
   "metadata": {
    "collapsed": false,
    "ExecuteTime": {
     "end_time": "2024-04-17T21:27:09.584520200Z",
     "start_time": "2024-04-17T21:27:09.544293500Z"
    }
   },
   "id": "59f63e568ae6e292",
   "execution_count": 80
  },
  {
   "cell_type": "code",
   "outputs": [],
   "source": [],
   "metadata": {
    "collapsed": false,
    "ExecuteTime": {
     "start_time": "2024-04-17T21:26:07.975396200Z"
    }
   },
   "id": "9de31ad3d08effd7",
   "execution_count": null
  },
  {
   "cell_type": "code",
   "outputs": [],
   "source": [],
   "metadata": {
    "collapsed": false,
    "ExecuteTime": {
     "start_time": "2024-04-17T21:26:07.984390700Z"
    }
   },
   "id": "c4df1f36455da5ba",
   "execution_count": null
  },
  {
   "cell_type": "code",
   "outputs": [],
   "source": [],
   "metadata": {
    "collapsed": false,
    "ExecuteTime": {
     "end_time": "2024-04-17T21:26:08.029364400Z",
     "start_time": "2024-04-17T21:26:07.991386700Z"
    }
   },
   "id": "58e0098bd3e5a586",
   "execution_count": null
  }
 ],
 "metadata": {
  "kernelspec": {
   "display_name": "Python 3",
   "language": "python",
   "name": "python3"
  },
  "language_info": {
   "codemirror_mode": {
    "name": "ipython",
    "version": 2
   },
   "file_extension": ".py",
   "mimetype": "text/x-python",
   "name": "python",
   "nbconvert_exporter": "python",
   "pygments_lexer": "ipython2",
   "version": "2.7.6"
  }
 },
 "nbformat": 4,
 "nbformat_minor": 5
}
